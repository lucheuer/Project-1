{
 "cells": [
  {
   "cell_type": "code",
   "execution_count": 14,
   "metadata": {},
   "outputs": [
    {
     "name": "stdout",
     "output_type": "stream",
     "text": [
      "Collecting seaborn\n",
      "  Downloading seaborn-0.13.2-py3-none-any.whl.metadata (5.4 kB)\n",
      "Requirement already satisfied: numpy!=1.24.0,>=1.20 in c:\\users\\lucas\\anaconda3\\envs\\activities\\lib\\site-packages (from seaborn) (1.26.4)\n",
      "Requirement already satisfied: pandas>=1.2 in c:\\users\\lucas\\anaconda3\\envs\\activities\\lib\\site-packages (from seaborn) (2.2.2)\n",
      "Requirement already satisfied: matplotlib!=3.6.1,>=3.4 in c:\\users\\lucas\\anaconda3\\envs\\activities\\lib\\site-packages (from seaborn) (3.9.0)\n",
      "Requirement already satisfied: contourpy>=1.0.1 in c:\\users\\lucas\\anaconda3\\envs\\activities\\lib\\site-packages (from matplotlib!=3.6.1,>=3.4->seaborn) (1.2.1)\n",
      "Requirement already satisfied: cycler>=0.10 in c:\\users\\lucas\\anaconda3\\envs\\activities\\lib\\site-packages (from matplotlib!=3.6.1,>=3.4->seaborn) (0.12.1)\n",
      "Requirement already satisfied: fonttools>=4.22.0 in c:\\users\\lucas\\anaconda3\\envs\\activities\\lib\\site-packages (from matplotlib!=3.6.1,>=3.4->seaborn) (4.53.0)\n",
      "Requirement already satisfied: kiwisolver>=1.3.1 in c:\\users\\lucas\\anaconda3\\envs\\activities\\lib\\site-packages (from matplotlib!=3.6.1,>=3.4->seaborn) (1.4.5)\n",
      "Requirement already satisfied: packaging>=20.0 in c:\\users\\lucas\\anaconda3\\envs\\activities\\lib\\site-packages (from matplotlib!=3.6.1,>=3.4->seaborn) (24.0)\n",
      "Requirement already satisfied: pillow>=8 in c:\\users\\lucas\\anaconda3\\envs\\activities\\lib\\site-packages (from matplotlib!=3.6.1,>=3.4->seaborn) (10.3.0)\n",
      "Requirement already satisfied: pyparsing>=2.3.1 in c:\\users\\lucas\\anaconda3\\envs\\activities\\lib\\site-packages (from matplotlib!=3.6.1,>=3.4->seaborn) (3.1.2)\n",
      "Requirement already satisfied: python-dateutil>=2.7 in c:\\users\\lucas\\anaconda3\\envs\\activities\\lib\\site-packages (from matplotlib!=3.6.1,>=3.4->seaborn) (2.9.0.post0)\n",
      "Requirement already satisfied: pytz>=2020.1 in c:\\users\\lucas\\anaconda3\\envs\\activities\\lib\\site-packages (from pandas>=1.2->seaborn) (2024.1)\n",
      "Requirement already satisfied: tzdata>=2022.7 in c:\\users\\lucas\\anaconda3\\envs\\activities\\lib\\site-packages (from pandas>=1.2->seaborn) (2024.1)\n",
      "Requirement already satisfied: six>=1.5 in c:\\users\\lucas\\anaconda3\\envs\\activities\\lib\\site-packages (from python-dateutil>=2.7->matplotlib!=3.6.1,>=3.4->seaborn) (1.16.0)\n",
      "Downloading seaborn-0.13.2-py3-none-any.whl (294 kB)\n",
      "   ---------------------------------------- 0.0/294.9 kB ? eta -:--:--\n",
      "   - -------------------------------------- 10.2/294.9 kB ? eta -:--:--\n",
      "   -------- ------------------------------ 61.4/294.9 kB 812.7 kB/s eta 0:00:01\n",
      "   -------------------------------------- - 286.7/294.9 kB 2.5 MB/s eta 0:00:01\n",
      "   ---------------------------------------- 294.9/294.9 kB 2.3 MB/s eta 0:00:00\n",
      "Installing collected packages: seaborn\n",
      "Successfully installed seaborn-0.13.2\n"
     ]
    }
   ],
   "source": [
    "!pip install seaborn"
   ]
  },
  {
   "cell_type": "code",
   "execution_count": 52,
   "metadata": {},
   "outputs": [
    {
     "name": "stdout",
     "output_type": "stream",
     "text": [
      "Collecting flask\n",
      "  Downloading flask-3.0.3-py3-none-any.whl.metadata (3.2 kB)\n",
      "Collecting Werkzeug>=3.0.0 (from flask)\n",
      "  Downloading werkzeug-3.0.3-py3-none-any.whl.metadata (3.7 kB)\n",
      "Requirement already satisfied: Jinja2>=3.1.2 in c:\\users\\lucas\\anaconda3\\envs\\activities\\lib\\site-packages (from flask) (3.1.4)\n",
      "Collecting itsdangerous>=2.1.2 (from flask)\n",
      "  Downloading itsdangerous-2.2.0-py3-none-any.whl.metadata (1.9 kB)\n",
      "Collecting click>=8.1.3 (from flask)\n",
      "  Downloading click-8.1.7-py3-none-any.whl.metadata (3.0 kB)\n",
      "Collecting blinker>=1.6.2 (from flask)\n",
      "  Downloading blinker-1.8.2-py3-none-any.whl.metadata (1.6 kB)\n",
      "Requirement already satisfied: colorama in c:\\users\\lucas\\anaconda3\\envs\\activities\\lib\\site-packages (from click>=8.1.3->flask) (0.4.6)\n",
      "Requirement already satisfied: MarkupSafe>=2.0 in c:\\users\\lucas\\anaconda3\\envs\\activities\\lib\\site-packages (from Jinja2>=3.1.2->flask) (2.1.5)\n",
      "Downloading flask-3.0.3-py3-none-any.whl (101 kB)\n",
      "   ---------------------------------------- 0.0/101.7 kB ? eta -:--:--\n",
      "   --------------- ----------------------- 41.0/101.7 kB 653.6 kB/s eta 0:00:01\n",
      "   ---------------------------------------- 101.7/101.7 kB 1.5 MB/s eta 0:00:00\n",
      "Downloading blinker-1.8.2-py3-none-any.whl (9.5 kB)\n",
      "Downloading click-8.1.7-py3-none-any.whl (97 kB)\n",
      "   ---------------------------------------- 0.0/97.9 kB ? eta -:--:--\n",
      "   ---------------------------------------- 97.9/97.9 kB 5.5 MB/s eta 0:00:00\n",
      "Downloading itsdangerous-2.2.0-py3-none-any.whl (16 kB)\n",
      "Downloading werkzeug-3.0.3-py3-none-any.whl (227 kB)\n",
      "   ---------------------------------------- 0.0/227.3 kB ? eta -:--:--\n",
      "   --------------------------------------- 227.3/227.3 kB 13.6 MB/s eta 0:00:00\n",
      "Installing collected packages: Werkzeug, itsdangerous, click, blinker, flask\n",
      "Successfully installed Werkzeug-3.0.3 blinker-1.8.2 click-8.1.7 flask-3.0.3 itsdangerous-2.2.0\n"
     ]
    }
   ],
   "source": [
    "!pip install flask\n"
   ]
  },
  {
   "cell_type": "code",
   "execution_count": 54,
   "metadata": {},
   "outputs": [],
   "source": [
    "import numpy as np\n",
    "import pandas as pd\n",
    "import matplotlib.pyplot as plt\n",
    "import plotly.graph_objects as go\n",
    "import plotly.express as px\n",
    "import seaborn as sns\n",
    "import warnings\n",
    "warnings.filterwarnings('ignore')\n",
    "import plotly.colors as pc"
   ]
  },
  {
   "cell_type": "code",
   "execution_count": 55,
   "metadata": {},
   "outputs": [
    {
     "name": "stdout",
     "output_type": "stream",
     "text": [
      "This data frame contains 13736 rows.\n"
     ]
    },
    {
     "data": {
      "text/html": [
       "<div>\n",
       "<style scoped>\n",
       "    .dataframe tbody tr th:only-of-type {\n",
       "        vertical-align: middle;\n",
       "    }\n",
       "\n",
       "    .dataframe tbody tr th {\n",
       "        vertical-align: top;\n",
       "    }\n",
       "\n",
       "    .dataframe thead th {\n",
       "        text-align: right;\n",
       "    }\n",
       "</style>\n",
       "<table border=\"1\" class=\"dataframe\">\n",
       "  <thead>\n",
       "    <tr style=\"text-align: right;\">\n",
       "      <th></th>\n",
       "      <th>product_id</th>\n",
       "      <th>product_type</th>\n",
       "      <th>product_name</th>\n",
       "      <th>product_gender_target</th>\n",
       "      <th>product_category</th>\n",
       "      <th>product_season</th>\n",
       "      <th>product_condition</th>\n",
       "      <th>product_like_count</th>\n",
       "      <th>sold</th>\n",
       "      <th>brand_name</th>\n",
       "      <th>product_material</th>\n",
       "      <th>product_color</th>\n",
       "      <th>price_usd</th>\n",
       "      <th>seller_price</th>\n",
       "      <th>seller_earning</th>\n",
       "      <th>buyers_fees</th>\n",
       "      <th>seller_id</th>\n",
       "      <th>seller_country</th>\n",
       "      <th>seller_products_sold</th>\n",
       "      <th>seller_num_products_listed</th>\n",
       "    </tr>\n",
       "  </thead>\n",
       "  <tbody>\n",
       "    <tr>\n",
       "      <th>0</th>\n",
       "      <td>43247626</td>\n",
       "      <td>Wool mini skirt</td>\n",
       "      <td>Wool mini skirt Miu Miu Grey size S Internatio...</td>\n",
       "      <td>Women</td>\n",
       "      <td>Women Clothing</td>\n",
       "      <td>Autumn / Winter</td>\n",
       "      <td>Never worn</td>\n",
       "      <td>34</td>\n",
       "      <td>True</td>\n",
       "      <td>Miu Miu</td>\n",
       "      <td>Wool</td>\n",
       "      <td>Grey</td>\n",
       "      <td>272.92</td>\n",
       "      <td>223.65</td>\n",
       "      <td>216.94</td>\n",
       "      <td>NaN</td>\n",
       "      <td>25775970</td>\n",
       "      <td>Germany</td>\n",
       "      <td>3</td>\n",
       "      <td>14</td>\n",
       "    </tr>\n",
       "    <tr>\n",
       "      <th>1</th>\n",
       "      <td>43246247</td>\n",
       "      <td>Wool suit jacket</td>\n",
       "      <td>Wool suit jacket Dior Grey size 40 FR in Wool</td>\n",
       "      <td>Women</td>\n",
       "      <td>Women Clothing</td>\n",
       "      <td>Autumn / Winter</td>\n",
       "      <td>Very good condition</td>\n",
       "      <td>2</td>\n",
       "      <td>True</td>\n",
       "      <td>Dior</td>\n",
       "      <td>Wool</td>\n",
       "      <td>Grey</td>\n",
       "      <td>437.97</td>\n",
       "      <td>358.91</td>\n",
       "      <td>312.25</td>\n",
       "      <td>NaN</td>\n",
       "      <td>2709130</td>\n",
       "      <td>Italy</td>\n",
       "      <td>172</td>\n",
       "      <td>6</td>\n",
       "    </tr>\n",
       "    <tr>\n",
       "      <th>2</th>\n",
       "      <td>43246087</td>\n",
       "      <td>Silk maxi dress</td>\n",
       "      <td>Silk maxi dress La Perla Black size 44 IT in S...</td>\n",
       "      <td>Women</td>\n",
       "      <td>Women Clothing</td>\n",
       "      <td>All seasons</td>\n",
       "      <td>Never worn, with tag</td>\n",
       "      <td>4</td>\n",
       "      <td>True</td>\n",
       "      <td>La Perla</td>\n",
       "      <td>Silk</td>\n",
       "      <td>Black</td>\n",
       "      <td>444.74</td>\n",
       "      <td>370.62</td>\n",
       "      <td>322.44</td>\n",
       "      <td>NaN</td>\n",
       "      <td>6048767</td>\n",
       "      <td>Germany</td>\n",
       "      <td>5</td>\n",
       "      <td>15</td>\n",
       "    </tr>\n",
       "  </tbody>\n",
       "</table>\n",
       "</div>"
      ],
      "text/plain": [
       "   product_id      product_type  \\\n",
       "0    43247626   Wool mini skirt   \n",
       "1    43246247  Wool suit jacket   \n",
       "2    43246087   Silk maxi dress   \n",
       "\n",
       "                                        product_name product_gender_target  \\\n",
       "0  Wool mini skirt Miu Miu Grey size S Internatio...                 Women   \n",
       "1     Wool suit jacket Dior Grey size 40 FR in Wool                  Women   \n",
       "2  Silk maxi dress La Perla Black size 44 IT in S...                 Women   \n",
       "\n",
       "  product_category   product_season     product_condition  product_like_count  \\\n",
       "0   Women Clothing  Autumn / Winter            Never worn                  34   \n",
       "1   Women Clothing  Autumn / Winter   Very good condition                   2   \n",
       "2   Women Clothing      All seasons  Never worn, with tag                   4   \n",
       "\n",
       "   sold brand_name product_material product_color  price_usd  seller_price  \\\n",
       "0  True    Miu Miu             Wool          Grey     272.92        223.65   \n",
       "1  True       Dior             Wool          Grey     437.97        358.91   \n",
       "2  True   La Perla             Silk         Black     444.74        370.62   \n",
       "\n",
       "   seller_earning  buyers_fees  seller_id seller_country  \\\n",
       "0          216.94          NaN   25775970        Germany   \n",
       "1          312.25          NaN    2709130          Italy   \n",
       "2          322.44          NaN    6048767        Germany   \n",
       "\n",
       "   seller_products_sold  seller_num_products_listed  \n",
       "0                     3                          14  \n",
       "1                   172                           6  \n",
       "2                     5                          15  "
      ]
     },
     "execution_count": 55,
     "metadata": {},
     "output_type": "execute_result"
    }
   ],
   "source": [
    "# Read the Vestiaire dataset into a dataframe\n",
    "vestiaire_df = pd.read_csv('datasets/vestiaire_smaller.csv')\n",
    "\n",
    "# Display the Head of the Data Frame\n",
    "print(f\"This data frame contains {len(vestiaire_df)} rows.\")\n",
    "vestiaire_df.head(3)\n",
    "\n"
   ]
  },
  {
   "cell_type": "code",
   "execution_count": 56,
   "metadata": {},
   "outputs": [
    {
     "data": {
      "text/html": [
       "<div>\n",
       "<style scoped>\n",
       "    .dataframe tbody tr th:only-of-type {\n",
       "        vertical-align: middle;\n",
       "    }\n",
       "\n",
       "    .dataframe tbody tr th {\n",
       "        vertical-align: top;\n",
       "    }\n",
       "\n",
       "    .dataframe thead th {\n",
       "        text-align: right;\n",
       "    }\n",
       "</style>\n",
       "<table border=\"1\" class=\"dataframe\">\n",
       "  <thead>\n",
       "    <tr style=\"text-align: right;\">\n",
       "      <th></th>\n",
       "      <th>product_id</th>\n",
       "      <th>product_type</th>\n",
       "      <th>product_name</th>\n",
       "      <th>product_gender_target</th>\n",
       "      <th>product_category</th>\n",
       "      <th>product_season</th>\n",
       "      <th>product_condition</th>\n",
       "      <th>product_like_count</th>\n",
       "      <th>sold</th>\n",
       "      <th>brand_name</th>\n",
       "      <th>product_material</th>\n",
       "      <th>product_color</th>\n",
       "      <th>price_usd</th>\n",
       "      <th>seller_price</th>\n",
       "      <th>seller_earning</th>\n",
       "      <th>buyers_fees</th>\n",
       "      <th>seller_id</th>\n",
       "      <th>seller_country</th>\n",
       "      <th>seller_products_sold</th>\n",
       "      <th>seller_num_products_listed</th>\n",
       "    </tr>\n",
       "  </thead>\n",
       "  <tbody>\n",
       "    <tr>\n",
       "      <th>13733</th>\n",
       "      <td>41503237</td>\n",
       "      <td>Tweed trainers</td>\n",
       "      <td>Tweed trainers Chanel Black size 39 EU in Tweed</td>\n",
       "      <td>Women</td>\n",
       "      <td>Women Shoes</td>\n",
       "      <td>All seasons</td>\n",
       "      <td>Never worn</td>\n",
       "      <td>24</td>\n",
       "      <td>True</td>\n",
       "      <td>Chanel</td>\n",
       "      <td>Tweed</td>\n",
       "      <td>Black</td>\n",
       "      <td>447.90</td>\n",
       "      <td>373.25</td>\n",
       "      <td>324.73</td>\n",
       "      <td>NaN</td>\n",
       "      <td>3180346</td>\n",
       "      <td>Italy</td>\n",
       "      <td>11</td>\n",
       "      <td>1</td>\n",
       "    </tr>\n",
       "    <tr>\n",
       "      <th>13734</th>\n",
       "      <td>41540832</td>\n",
       "      <td>Leather heels</td>\n",
       "      <td>Leather heels Pollini Black size 38 IT in Leat...</td>\n",
       "      <td>Women</td>\n",
       "      <td>Women Shoes</td>\n",
       "      <td>All seasons</td>\n",
       "      <td>Never worn</td>\n",
       "      <td>2</td>\n",
       "      <td>True</td>\n",
       "      <td>Pollini</td>\n",
       "      <td>Leather</td>\n",
       "      <td>Black</td>\n",
       "      <td>51.12</td>\n",
       "      <td>42.60</td>\n",
       "      <td>28.76</td>\n",
       "      <td>NaN</td>\n",
       "      <td>19750106</td>\n",
       "      <td>Italy</td>\n",
       "      <td>62</td>\n",
       "      <td>184</td>\n",
       "    </tr>\n",
       "    <tr>\n",
       "      <th>13735</th>\n",
       "      <td>41540732</td>\n",
       "      <td>Leather heels</td>\n",
       "      <td>Leather heels Ninamounah Black size 39 EU in L...</td>\n",
       "      <td>Women</td>\n",
       "      <td>Women Shoes</td>\n",
       "      <td>All seasons</td>\n",
       "      <td>Very good condition</td>\n",
       "      <td>21</td>\n",
       "      <td>True</td>\n",
       "      <td>Ninamounah</td>\n",
       "      <td>Leather</td>\n",
       "      <td>Black</td>\n",
       "      <td>97.13</td>\n",
       "      <td>80.94</td>\n",
       "      <td>80.94</td>\n",
       "      <td>NaN</td>\n",
       "      <td>5992355</td>\n",
       "      <td>Estonia</td>\n",
       "      <td>1</td>\n",
       "      <td>1</td>\n",
       "    </tr>\n",
       "  </tbody>\n",
       "</table>\n",
       "</div>"
      ],
      "text/plain": [
       "       product_id    product_type  \\\n",
       "13733    41503237  Tweed trainers   \n",
       "13734    41540832   Leather heels   \n",
       "13735    41540732   Leather heels   \n",
       "\n",
       "                                            product_name  \\\n",
       "13733   Tweed trainers Chanel Black size 39 EU in Tweed    \n",
       "13734  Leather heels Pollini Black size 38 IT in Leat...   \n",
       "13735  Leather heels Ninamounah Black size 39 EU in L...   \n",
       "\n",
       "      product_gender_target product_category product_season  \\\n",
       "13733                 Women      Women Shoes    All seasons   \n",
       "13734                 Women      Women Shoes    All seasons   \n",
       "13735                 Women      Women Shoes    All seasons   \n",
       "\n",
       "         product_condition  product_like_count  sold  brand_name  \\\n",
       "13733           Never worn                  24  True      Chanel   \n",
       "13734           Never worn                   2  True     Pollini   \n",
       "13735  Very good condition                  21  True  Ninamounah   \n",
       "\n",
       "      product_material product_color  price_usd  seller_price  seller_earning  \\\n",
       "13733            Tweed         Black     447.90        373.25          324.73   \n",
       "13734          Leather         Black      51.12         42.60           28.76   \n",
       "13735          Leather         Black      97.13         80.94           80.94   \n",
       "\n",
       "       buyers_fees  seller_id seller_country  seller_products_sold  \\\n",
       "13733          NaN    3180346          Italy                    11   \n",
       "13734          NaN   19750106          Italy                    62   \n",
       "13735          NaN    5992355        Estonia                     1   \n",
       "\n",
       "       seller_num_products_listed  \n",
       "13733                           1  \n",
       "13734                         184  \n",
       "13735                           1  "
      ]
     },
     "execution_count": 56,
     "metadata": {},
     "output_type": "execute_result"
    }
   ],
   "source": [
    "# Display the Tail of the Data Frame\n",
    "vestiaire_df.tail(3)\n"
   ]
  },
  {
   "cell_type": "code",
   "execution_count": 57,
   "metadata": {},
   "outputs": [
    {
     "data": {
      "text/plain": [
       "(13736, 20)"
      ]
     },
     "execution_count": 57,
     "metadata": {},
     "output_type": "execute_result"
    }
   ],
   "source": [
    "# Examine the rows and columns count\n",
    "vestiaire_df.shape"
   ]
  },
  {
   "cell_type": "markdown",
   "metadata": {},
   "source": [
    "# Data Cleaning"
   ]
  },
  {
   "cell_type": "code",
   "execution_count": 58,
   "metadata": {},
   "outputs": [],
   "source": [
    "vestiaire_clean = vestiaire_df.copy()"
   ]
  },
  {
   "cell_type": "code",
   "execution_count": 59,
   "metadata": {},
   "outputs": [
    {
     "data": {
      "text/plain": [
       "Index(['product_id', 'product_type', 'product_name', 'product_gender_target',\n",
       "       'product_category', 'product_season', 'product_condition',\n",
       "       'product_like_count', 'sold', 'brand_name', 'product_material',\n",
       "       'product_color', 'price_usd', 'seller_price', 'seller_earning',\n",
       "       'buyers_fees', 'seller_id', 'seller_country', 'seller_products_sold',\n",
       "       'seller_num_products_listed'],\n",
       "      dtype='object')"
      ]
     },
     "execution_count": 59,
     "metadata": {},
     "output_type": "execute_result"
    }
   ],
   "source": [
    "vestiaire_clean.columns"
   ]
  },
  {
   "cell_type": "code",
   "execution_count": 60,
   "metadata": {},
   "outputs": [
    {
     "name": "stdout",
     "output_type": "stream",
     "text": [
      "<class 'pandas.core.frame.DataFrame'>\n",
      "RangeIndex: 13736 entries, 0 to 13735\n",
      "Data columns (total 20 columns):\n",
      " #   Column                      Non-Null Count  Dtype  \n",
      "---  ------                      --------------  -----  \n",
      " 0   product_id                  13736 non-null  int64  \n",
      " 1   product_type                13736 non-null  object \n",
      " 2   product_name                13736 non-null  object \n",
      " 3   product_gender_target       13736 non-null  object \n",
      " 4   product_category            13727 non-null  object \n",
      " 5   product_season              13736 non-null  object \n",
      " 6   product_condition           13736 non-null  object \n",
      " 7   product_like_count          13736 non-null  int64  \n",
      " 8   sold                        13736 non-null  bool   \n",
      " 9   brand_name                  13736 non-null  object \n",
      " 10  product_material            13736 non-null  object \n",
      " 11  product_color               13736 non-null  object \n",
      " 12  price_usd                   13736 non-null  float64\n",
      " 13  seller_price                13736 non-null  float64\n",
      " 14  seller_earning              13736 non-null  float64\n",
      " 15  buyers_fees                 0 non-null      float64\n",
      " 16  seller_id                   13736 non-null  int64  \n",
      " 17  seller_country              13736 non-null  object \n",
      " 18  seller_products_sold        13736 non-null  int64  \n",
      " 19  seller_num_products_listed  13736 non-null  int64  \n",
      "dtypes: bool(1), float64(4), int64(5), object(10)\n",
      "memory usage: 2.0+ MB\n"
     ]
    }
   ],
   "source": [
    "vestiaire_clean.info()"
   ]
  },
  {
   "cell_type": "code",
   "execution_count": 61,
   "metadata": {},
   "outputs": [],
   "source": [
    "vestiaire_clean.drop(columns=['buyers_fees'], inplace=True)"
   ]
  },
  {
   "cell_type": "code",
   "execution_count": 62,
   "metadata": {},
   "outputs": [
    {
     "data": {
      "text/plain": [
       "0.06552125800815375"
      ]
     },
     "execution_count": 62,
     "metadata": {},
     "output_type": "execute_result"
    }
   ],
   "source": [
    "(vestiaire_clean.isna().mean() * 100).sum()"
   ]
  },
  {
   "cell_type": "code",
   "execution_count": 63,
   "metadata": {},
   "outputs": [
    {
     "data": {
      "text/plain": [
       "product_id                    0.000000\n",
       "product_type                  0.000000\n",
       "product_name                  0.000000\n",
       "product_gender_target         0.000000\n",
       "product_category              0.065521\n",
       "product_season                0.000000\n",
       "product_condition             0.000000\n",
       "product_like_count            0.000000\n",
       "sold                          0.000000\n",
       "brand_name                    0.000000\n",
       "product_material              0.000000\n",
       "product_color                 0.000000\n",
       "price_usd                     0.000000\n",
       "seller_price                  0.000000\n",
       "seller_earning                0.000000\n",
       "seller_id                     0.000000\n",
       "seller_country                0.000000\n",
       "seller_products_sold          0.000000\n",
       "seller_num_products_listed    0.000000\n",
       "dtype: float64"
      ]
     },
     "execution_count": 63,
     "metadata": {},
     "output_type": "execute_result"
    }
   ],
   "source": [
    "vestiaire_clean.isna().mean() * 100"
   ]
  },
  {
   "cell_type": "code",
   "execution_count": 64,
   "metadata": {},
   "outputs": [],
   "source": [
    "vestiaire_clean = vestiaire_clean.dropna(subset=['product_category'])"
   ]
  },
  {
   "cell_type": "code",
   "execution_count": 65,
   "metadata": {},
   "outputs": [
    {
     "data": {
      "text/plain": [
       "product_id                    0.0\n",
       "product_type                  0.0\n",
       "product_name                  0.0\n",
       "product_gender_target         0.0\n",
       "product_category              0.0\n",
       "product_season                0.0\n",
       "product_condition             0.0\n",
       "product_like_count            0.0\n",
       "sold                          0.0\n",
       "brand_name                    0.0\n",
       "product_material              0.0\n",
       "product_color                 0.0\n",
       "price_usd                     0.0\n",
       "seller_price                  0.0\n",
       "seller_earning                0.0\n",
       "seller_id                     0.0\n",
       "seller_country                0.0\n",
       "seller_products_sold          0.0\n",
       "seller_num_products_listed    0.0\n",
       "dtype: float64"
      ]
     },
     "execution_count": 65,
     "metadata": {},
     "output_type": "execute_result"
    }
   ],
   "source": [
    "vestiaire_clean.isna().mean() * 100"
   ]
  },
  {
   "cell_type": "markdown",
   "metadata": {},
   "source": [
    "# Exploratory Data Analysis"
   ]
  },
  {
   "cell_type": "code",
   "execution_count": 76,
   "metadata": {},
   "outputs": [
    {
     "data": {
      "application/vnd.plotly.v1+json": {
       "config": {
        "plotlyServerURL": "https://plot.ly"
       },
       "data": [
        {
         "hoverinfo": "label+value",
         "labels": [
          "Women",
          "Men"
         ],
         "marker": {
          "line": {
           "color": "#000000",
           "width": 2
          }
         },
         "textfont": {
          "size": 20
         },
         "textinfo": "percent",
         "type": "pie",
         "values": [
          8453,
          5274
         ]
        }
       ],
       "layout": {
        "template": {
         "data": {
          "bar": [
           {
            "error_x": {
             "color": "#2a3f5f"
            },
            "error_y": {
             "color": "#2a3f5f"
            },
            "marker": {
             "line": {
              "color": "#E5ECF6",
              "width": 0.5
             },
             "pattern": {
              "fillmode": "overlay",
              "size": 10,
              "solidity": 0.2
             }
            },
            "type": "bar"
           }
          ],
          "barpolar": [
           {
            "marker": {
             "line": {
              "color": "#E5ECF6",
              "width": 0.5
             },
             "pattern": {
              "fillmode": "overlay",
              "size": 10,
              "solidity": 0.2
             }
            },
            "type": "barpolar"
           }
          ],
          "carpet": [
           {
            "aaxis": {
             "endlinecolor": "#2a3f5f",
             "gridcolor": "white",
             "linecolor": "white",
             "minorgridcolor": "white",
             "startlinecolor": "#2a3f5f"
            },
            "baxis": {
             "endlinecolor": "#2a3f5f",
             "gridcolor": "white",
             "linecolor": "white",
             "minorgridcolor": "white",
             "startlinecolor": "#2a3f5f"
            },
            "type": "carpet"
           }
          ],
          "choropleth": [
           {
            "colorbar": {
             "outlinewidth": 0,
             "ticks": ""
            },
            "type": "choropleth"
           }
          ],
          "contour": [
           {
            "colorbar": {
             "outlinewidth": 0,
             "ticks": ""
            },
            "colorscale": [
             [
              0,
              "#0d0887"
             ],
             [
              0.1111111111111111,
              "#46039f"
             ],
             [
              0.2222222222222222,
              "#7201a8"
             ],
             [
              0.3333333333333333,
              "#9c179e"
             ],
             [
              0.4444444444444444,
              "#bd3786"
             ],
             [
              0.5555555555555556,
              "#d8576b"
             ],
             [
              0.6666666666666666,
              "#ed7953"
             ],
             [
              0.7777777777777778,
              "#fb9f3a"
             ],
             [
              0.8888888888888888,
              "#fdca26"
             ],
             [
              1,
              "#f0f921"
             ]
            ],
            "type": "contour"
           }
          ],
          "contourcarpet": [
           {
            "colorbar": {
             "outlinewidth": 0,
             "ticks": ""
            },
            "type": "contourcarpet"
           }
          ],
          "heatmap": [
           {
            "colorbar": {
             "outlinewidth": 0,
             "ticks": ""
            },
            "colorscale": [
             [
              0,
              "#0d0887"
             ],
             [
              0.1111111111111111,
              "#46039f"
             ],
             [
              0.2222222222222222,
              "#7201a8"
             ],
             [
              0.3333333333333333,
              "#9c179e"
             ],
             [
              0.4444444444444444,
              "#bd3786"
             ],
             [
              0.5555555555555556,
              "#d8576b"
             ],
             [
              0.6666666666666666,
              "#ed7953"
             ],
             [
              0.7777777777777778,
              "#fb9f3a"
             ],
             [
              0.8888888888888888,
              "#fdca26"
             ],
             [
              1,
              "#f0f921"
             ]
            ],
            "type": "heatmap"
           }
          ],
          "heatmapgl": [
           {
            "colorbar": {
             "outlinewidth": 0,
             "ticks": ""
            },
            "colorscale": [
             [
              0,
              "#0d0887"
             ],
             [
              0.1111111111111111,
              "#46039f"
             ],
             [
              0.2222222222222222,
              "#7201a8"
             ],
             [
              0.3333333333333333,
              "#9c179e"
             ],
             [
              0.4444444444444444,
              "#bd3786"
             ],
             [
              0.5555555555555556,
              "#d8576b"
             ],
             [
              0.6666666666666666,
              "#ed7953"
             ],
             [
              0.7777777777777778,
              "#fb9f3a"
             ],
             [
              0.8888888888888888,
              "#fdca26"
             ],
             [
              1,
              "#f0f921"
             ]
            ],
            "type": "heatmapgl"
           }
          ],
          "histogram": [
           {
            "marker": {
             "pattern": {
              "fillmode": "overlay",
              "size": 10,
              "solidity": 0.2
             }
            },
            "type": "histogram"
           }
          ],
          "histogram2d": [
           {
            "colorbar": {
             "outlinewidth": 0,
             "ticks": ""
            },
            "colorscale": [
             [
              0,
              "#0d0887"
             ],
             [
              0.1111111111111111,
              "#46039f"
             ],
             [
              0.2222222222222222,
              "#7201a8"
             ],
             [
              0.3333333333333333,
              "#9c179e"
             ],
             [
              0.4444444444444444,
              "#bd3786"
             ],
             [
              0.5555555555555556,
              "#d8576b"
             ],
             [
              0.6666666666666666,
              "#ed7953"
             ],
             [
              0.7777777777777778,
              "#fb9f3a"
             ],
             [
              0.8888888888888888,
              "#fdca26"
             ],
             [
              1,
              "#f0f921"
             ]
            ],
            "type": "histogram2d"
           }
          ],
          "histogram2dcontour": [
           {
            "colorbar": {
             "outlinewidth": 0,
             "ticks": ""
            },
            "colorscale": [
             [
              0,
              "#0d0887"
             ],
             [
              0.1111111111111111,
              "#46039f"
             ],
             [
              0.2222222222222222,
              "#7201a8"
             ],
             [
              0.3333333333333333,
              "#9c179e"
             ],
             [
              0.4444444444444444,
              "#bd3786"
             ],
             [
              0.5555555555555556,
              "#d8576b"
             ],
             [
              0.6666666666666666,
              "#ed7953"
             ],
             [
              0.7777777777777778,
              "#fb9f3a"
             ],
             [
              0.8888888888888888,
              "#fdca26"
             ],
             [
              1,
              "#f0f921"
             ]
            ],
            "type": "histogram2dcontour"
           }
          ],
          "mesh3d": [
           {
            "colorbar": {
             "outlinewidth": 0,
             "ticks": ""
            },
            "type": "mesh3d"
           }
          ],
          "parcoords": [
           {
            "line": {
             "colorbar": {
              "outlinewidth": 0,
              "ticks": ""
             }
            },
            "type": "parcoords"
           }
          ],
          "pie": [
           {
            "automargin": true,
            "type": "pie"
           }
          ],
          "scatter": [
           {
            "fillpattern": {
             "fillmode": "overlay",
             "size": 10,
             "solidity": 0.2
            },
            "type": "scatter"
           }
          ],
          "scatter3d": [
           {
            "line": {
             "colorbar": {
              "outlinewidth": 0,
              "ticks": ""
             }
            },
            "marker": {
             "colorbar": {
              "outlinewidth": 0,
              "ticks": ""
             }
            },
            "type": "scatter3d"
           }
          ],
          "scattercarpet": [
           {
            "marker": {
             "colorbar": {
              "outlinewidth": 0,
              "ticks": ""
             }
            },
            "type": "scattercarpet"
           }
          ],
          "scattergeo": [
           {
            "marker": {
             "colorbar": {
              "outlinewidth": 0,
              "ticks": ""
             }
            },
            "type": "scattergeo"
           }
          ],
          "scattergl": [
           {
            "marker": {
             "colorbar": {
              "outlinewidth": 0,
              "ticks": ""
             }
            },
            "type": "scattergl"
           }
          ],
          "scattermapbox": [
           {
            "marker": {
             "colorbar": {
              "outlinewidth": 0,
              "ticks": ""
             }
            },
            "type": "scattermapbox"
           }
          ],
          "scatterpolar": [
           {
            "marker": {
             "colorbar": {
              "outlinewidth": 0,
              "ticks": ""
             }
            },
            "type": "scatterpolar"
           }
          ],
          "scatterpolargl": [
           {
            "marker": {
             "colorbar": {
              "outlinewidth": 0,
              "ticks": ""
             }
            },
            "type": "scatterpolargl"
           }
          ],
          "scatterternary": [
           {
            "marker": {
             "colorbar": {
              "outlinewidth": 0,
              "ticks": ""
             }
            },
            "type": "scatterternary"
           }
          ],
          "surface": [
           {
            "colorbar": {
             "outlinewidth": 0,
             "ticks": ""
            },
            "colorscale": [
             [
              0,
              "#0d0887"
             ],
             [
              0.1111111111111111,
              "#46039f"
             ],
             [
              0.2222222222222222,
              "#7201a8"
             ],
             [
              0.3333333333333333,
              "#9c179e"
             ],
             [
              0.4444444444444444,
              "#bd3786"
             ],
             [
              0.5555555555555556,
              "#d8576b"
             ],
             [
              0.6666666666666666,
              "#ed7953"
             ],
             [
              0.7777777777777778,
              "#fb9f3a"
             ],
             [
              0.8888888888888888,
              "#fdca26"
             ],
             [
              1,
              "#f0f921"
             ]
            ],
            "type": "surface"
           }
          ],
          "table": [
           {
            "cells": {
             "fill": {
              "color": "#EBF0F8"
             },
             "line": {
              "color": "white"
             }
            },
            "header": {
             "fill": {
              "color": "#C8D4E3"
             },
             "line": {
              "color": "white"
             }
            },
            "type": "table"
           }
          ]
         },
         "layout": {
          "annotationdefaults": {
           "arrowcolor": "#2a3f5f",
           "arrowhead": 0,
           "arrowwidth": 1
          },
          "autotypenumbers": "strict",
          "coloraxis": {
           "colorbar": {
            "outlinewidth": 0,
            "ticks": ""
           }
          },
          "colorscale": {
           "diverging": [
            [
             0,
             "#8e0152"
            ],
            [
             0.1,
             "#c51b7d"
            ],
            [
             0.2,
             "#de77ae"
            ],
            [
             0.3,
             "#f1b6da"
            ],
            [
             0.4,
             "#fde0ef"
            ],
            [
             0.5,
             "#f7f7f7"
            ],
            [
             0.6,
             "#e6f5d0"
            ],
            [
             0.7,
             "#b8e186"
            ],
            [
             0.8,
             "#7fbc41"
            ],
            [
             0.9,
             "#4d9221"
            ],
            [
             1,
             "#276419"
            ]
           ],
           "sequential": [
            [
             0,
             "#0d0887"
            ],
            [
             0.1111111111111111,
             "#46039f"
            ],
            [
             0.2222222222222222,
             "#7201a8"
            ],
            [
             0.3333333333333333,
             "#9c179e"
            ],
            [
             0.4444444444444444,
             "#bd3786"
            ],
            [
             0.5555555555555556,
             "#d8576b"
            ],
            [
             0.6666666666666666,
             "#ed7953"
            ],
            [
             0.7777777777777778,
             "#fb9f3a"
            ],
            [
             0.8888888888888888,
             "#fdca26"
            ],
            [
             1,
             "#f0f921"
            ]
           ],
           "sequentialminus": [
            [
             0,
             "#0d0887"
            ],
            [
             0.1111111111111111,
             "#46039f"
            ],
            [
             0.2222222222222222,
             "#7201a8"
            ],
            [
             0.3333333333333333,
             "#9c179e"
            ],
            [
             0.4444444444444444,
             "#bd3786"
            ],
            [
             0.5555555555555556,
             "#d8576b"
            ],
            [
             0.6666666666666666,
             "#ed7953"
            ],
            [
             0.7777777777777778,
             "#fb9f3a"
            ],
            [
             0.8888888888888888,
             "#fdca26"
            ],
            [
             1,
             "#f0f921"
            ]
           ]
          },
          "colorway": [
           "#636efa",
           "#EF553B",
           "#00cc96",
           "#ab63fa",
           "#FFA15A",
           "#19d3f3",
           "#FF6692",
           "#B6E880",
           "#FF97FF",
           "#FECB52"
          ],
          "font": {
           "color": "#2a3f5f"
          },
          "geo": {
           "bgcolor": "white",
           "lakecolor": "white",
           "landcolor": "#E5ECF6",
           "showlakes": true,
           "showland": true,
           "subunitcolor": "white"
          },
          "hoverlabel": {
           "align": "left"
          },
          "hovermode": "closest",
          "mapbox": {
           "style": "light"
          },
          "paper_bgcolor": "white",
          "plot_bgcolor": "#E5ECF6",
          "polar": {
           "angularaxis": {
            "gridcolor": "white",
            "linecolor": "white",
            "ticks": ""
           },
           "bgcolor": "#E5ECF6",
           "radialaxis": {
            "gridcolor": "white",
            "linecolor": "white",
            "ticks": ""
           }
          },
          "scene": {
           "xaxis": {
            "backgroundcolor": "#E5ECF6",
            "gridcolor": "white",
            "gridwidth": 2,
            "linecolor": "white",
            "showbackground": true,
            "ticks": "",
            "zerolinecolor": "white"
           },
           "yaxis": {
            "backgroundcolor": "#E5ECF6",
            "gridcolor": "white",
            "gridwidth": 2,
            "linecolor": "white",
            "showbackground": true,
            "ticks": "",
            "zerolinecolor": "white"
           },
           "zaxis": {
            "backgroundcolor": "#E5ECF6",
            "gridcolor": "white",
            "gridwidth": 2,
            "linecolor": "white",
            "showbackground": true,
            "ticks": "",
            "zerolinecolor": "white"
           }
          },
          "shapedefaults": {
           "line": {
            "color": "#2a3f5f"
           }
          },
          "ternary": {
           "aaxis": {
            "gridcolor": "white",
            "linecolor": "white",
            "ticks": ""
           },
           "baxis": {
            "gridcolor": "white",
            "linecolor": "white",
            "ticks": ""
           },
           "bgcolor": "#E5ECF6",
           "caxis": {
            "gridcolor": "white",
            "linecolor": "white",
            "ticks": ""
           }
          },
          "title": {
           "x": 0.05
          },
          "xaxis": {
           "automargin": true,
           "gridcolor": "white",
           "linecolor": "white",
           "ticks": "",
           "title": {
            "standoff": 15
           },
           "zerolinecolor": "white",
           "zerolinewidth": 2
          },
          "yaxis": {
           "automargin": true,
           "gridcolor": "white",
           "linecolor": "white",
           "ticks": "",
           "title": {
            "standoff": 15
           },
           "zerolinecolor": "white",
           "zerolinewidth": 2
          }
         }
        },
        "title": {
         "font": {
          "size": 24
         },
         "text": "Gender Distribution of Buyers"
        }
       }
      }
     },
     "metadata": {},
     "output_type": "display_data"
    }
   ],
   "source": [
    "gender_count = vestiaire_clean['product_gender_target'].value_counts()\n",
    "\n",
    "fig_gender = go.Figure(data=[go.Pie(labels=gender_count.index, values=gender_count.values, \n",
    "                             hoverinfo='label+value', textinfo='percent',\n",
    "                             textfont_size=20, marker=dict( \n",
    "                             line=dict(color='#000000', width=2)))])\n",
    "\n",
    "fig_gender.update_layout(title_text='Gender Distribution of Buyers', title_font_size=24)\n",
    "fig_gender.show()"
   ]
  },
  {
   "cell_type": "code",
   "execution_count": 78,
   "metadata": {},
   "outputs": [
    {
     "name": "stdout",
     "output_type": "stream",
     "text": [
      "Plotly graph saved as plotly_gender_graph.html\n"
     ]
    }
   ],
   "source": [
    "# Get the HTML string for the Plotly graph\n",
    "plotly_gender_html = fig_gender.to_html(full_html=False, include_plotlyjs='cdn')\n",
    "\n",
    "# Save the Plotly graph as an HTML file\n",
    "file_path = \"plotly_gender_graph.html\"\n",
    "try:\n",
    "    with open(file_path, \"w\") as file:\n",
    "        file.write(plotly_gender_html)\n",
    "    print(f\"Plotly graph saved as {file_path}\")\n",
    "except IOError as e:\n",
    "    print(f\"Error saving Plotly graph: {e}\")"
   ]
  },
  {
   "cell_type": "code",
   "execution_count": 67,
   "metadata": {},
   "outputs": [
    {
     "name": "stdout",
     "output_type": "stream",
     "text": [
      "['Italy', 'France', 'United Kingdom', 'Germany', 'United States', 'Spain', 'Poland', 'Romania', 'Sweden', 'Greece', 'Bulgaria', 'Netherlands', 'Belgium', 'Austria', 'Portugal', 'Australia', 'Hong Kong', 'Ireland', 'Denmark', 'Lithuania', 'Switzerland', 'Finland', 'Latvia', 'Croatia', 'Czech Republic', 'Hungary', 'Monaco', 'Cyprus', 'Slovakia', 'Canada', 'Luxembourg', 'Singapore', 'Estonia', 'Slovenia', 'Japan', 'United Arab Emirates', 'Malaysia', 'South Korea', 'Philippines', 'Malta', 'Turkey', 'China', 'Qatar', 'Kazakhstan', 'Lebanon', 'Israel', 'Indonesia', 'Bahrain', 'Norway', 'Saudi Arabia', 'New Zealand']\n",
      "51\n"
     ]
    }
   ],
   "source": [
    "# Aggregate the data to get the count of sellers per country\n",
    "seller_counts = vestiaire_clean['seller_country'].value_counts().reset_index()\n",
    "seller_counts.columns = ['country', 'seller_count']\n",
    "\n",
    "# Create a list of Countries with Sellers\n",
    "country_list = seller_counts['country'].tolist()\n",
    "print(country_list)\n",
    "print(len(country_list))\n"
   ]
  },
  {
   "cell_type": "code",
   "execution_count": 69,
   "metadata": {},
   "outputs": [
    {
     "name": "stdout",
     "output_type": "stream",
     "text": [
      "{'United Arab Emirates': {'lat': 23.424076, 'lon': 53.847818}, 'Austria': {'lat': 47.516231, 'lon': 14.550072}, 'Australia': {'lat': -25.274398, 'lon': 133.775136}, 'Belgium': {'lat': 50.503887, 'lon': 4.469936}, 'Bulgaria': {'lat': 42.733883, 'lon': 25.48583}, 'Bahrain': {'lat': 25.930414, 'lon': 50.637772}, 'Canada': {'lat': 56.130366, 'lon': -106.346771}, 'Switzerland': {'lat': 46.818188, 'lon': 8.227512}, 'China': {'lat': 35.86166, 'lon': 104.195397}, 'Cyprus': {'lat': 35.126413, 'lon': 33.429859}, 'Czech Republic': {'lat': 49.817492, 'lon': 15.472962}, 'Germany': {'lat': 51.165691, 'lon': 10.451526}, 'Denmark': {'lat': 56.26392, 'lon': 9.501785}, 'Estonia': {'lat': 58.595272, 'lon': 25.013607}, 'Spain': {'lat': 40.463667, 'lon': -3.74922}, 'Finland': {'lat': 61.92411, 'lon': 25.748151}, 'France': {'lat': 46.227638, 'lon': 2.213749}, 'United Kingdom': {'lat': 55.378051, 'lon': -3.435973}, 'Greece': {'lat': 39.074208, 'lon': 21.824312}, 'Hong Kong': {'lat': 22.396428, 'lon': 114.109497}, 'Croatia': {'lat': 45.1, 'lon': 15.2}, 'Hungary': {'lat': 47.162494, 'lon': 19.503304}, 'Indonesia': {'lat': -0.789275, 'lon': 113.921327}, 'Ireland': {'lat': 53.41291, 'lon': -8.24389}, 'Israel': {'lat': 31.046051, 'lon': 34.851612}, 'Italy': {'lat': 41.87194, 'lon': 12.56738}, 'Japan': {'lat': 36.204824, 'lon': 138.252924}, 'South Korea': {'lat': 35.907757, 'lon': 127.766922}, 'Kazakhstan': {'lat': 48.019573, 'lon': 66.923684}, 'Lebanon': {'lat': 33.854721, 'lon': 35.862285}, 'Lithuania': {'lat': 55.169438, 'lon': 23.881275}, 'Luxembourg': {'lat': 49.815273, 'lon': 6.129583}, 'Latvia': {'lat': 56.879635, 'lon': 24.603189}, 'Monaco': {'lat': 43.750298, 'lon': 7.412841}, 'Malta': {'lat': 35.937496, 'lon': 14.375416}, 'Malaysia': {'lat': 4.210484, 'lon': 101.975766}, 'Netherlands': {'lat': 52.132633, 'lon': 5.291266}, 'Norway': {'lat': 60.472024, 'lon': 8.468946}, 'New Zealand': {'lat': -40.900557, 'lon': 174.885971}, 'Philippines': {'lat': 12.879721, 'lon': 121.774017}, 'Poland': {'lat': 51.919438, 'lon': 19.145136}, 'Portugal': {'lat': 39.399872, 'lon': -8.224454}, 'Qatar': {'lat': 25.354826, 'lon': 51.183884}, 'Romania': {'lat': 45.943161, 'lon': 24.96676}, 'Saudi Arabia': {'lat': 23.885942, 'lon': 45.079162}, 'Sweden': {'lat': 60.128161, 'lon': 18.643501}, 'Singapore': {'lat': 1.352083, 'lon': 103.819836}, 'Slovenia': {'lat': 46.151241, 'lon': 14.995463}, 'Slovakia': {'lat': 48.669026, 'lon': 19.699024}, 'Turkey': {'lat': 38.963745, 'lon': 35.243322}, 'United States': {'lat': 37.09024, 'lon': -95.712891}}\n",
      "The lengths match!\n"
     ]
    }
   ],
   "source": [
    "# Read the CSV file containing country coordinates\n",
    "country_coords_file = pd.read_csv('datasets\\country_coords.csv')\n",
    "\n",
    "# Filter the DataFrame to only include countries in country_list\n",
    "filtered_coords_df = country_coords_file[country_coords_file['country'].isin(country_list)]\n",
    "\n",
    "# Create the dictionary\n",
    "country_coords = {\n",
    "    row['country']: {'lat': row['lat'], 'lon': row['lon']}\n",
    "    for _, row in filtered_coords_df.iterrows()\n",
    "}\n",
    "\n",
    "# Display the resulting dictionary\n",
    "print(country_coords)\n",
    "\n",
    "# Check if the lengths match\n",
    "if len(country_coords) == len(country_list):\n",
    "    print(\"The lengths match!\")\n",
    "else:\n",
    "    print(f\"The lengths do not match. Dictionary length: {len(country_coords)}, List length: {len(country_list)}\")"
   ]
  },
  {
   "cell_type": "code",
   "execution_count": 70,
   "metadata": {},
   "outputs": [],
   "source": [
    "# Create the Coordinate DataFrame\n",
    "coords_df = pd.DataFrame.from_dict(country_coords, orient='index').reset_index()\n",
    "coords_df.columns = ['country', 'lat', 'lon']\n",
    "\n",
    "# Merge the data\n",
    "seller_location_data = pd.merge(seller_counts, coords_df, on='country')"
   ]
  },
  {
   "cell_type": "code",
   "execution_count": 75,
   "metadata": {},
   "outputs": [
    {
     "data": {
      "application/vnd.plotly.v1+json": {
       "config": {
        "plotlyServerURL": "https://plot.ly"
       },
       "data": [
        {
         "geo": "geo",
         "hovertemplate": "<b>%{hovertext}</b><br><br>seller_count=%{marker.size}<br>lat=%{lat}<br>lon=%{lon}<extra></extra>",
         "hovertext": [
          "Italy",
          "France",
          "United Kingdom",
          "Germany",
          "United States",
          "Spain",
          "Poland",
          "Romania",
          "Sweden",
          "Greece",
          "Bulgaria",
          "Netherlands",
          "Belgium",
          "Austria",
          "Portugal",
          "Australia",
          "Hong Kong",
          "Ireland",
          "Denmark",
          "Lithuania",
          "Switzerland",
          "Finland",
          "Latvia",
          "Croatia",
          "Czech Republic",
          "Hungary",
          "Monaco",
          "Cyprus",
          "Slovakia",
          "Canada",
          "Luxembourg",
          "Singapore",
          "Estonia",
          "Slovenia",
          "Japan",
          "United Arab Emirates",
          "Malaysia",
          "South Korea",
          "Philippines",
          "Malta",
          "Turkey",
          "China",
          "Qatar",
          "Kazakhstan",
          "Lebanon",
          "Israel",
          "Indonesia",
          "Bahrain",
          "Norway",
          "Saudi Arabia",
          "New Zealand"
         ],
         "lat": [
          41.87194,
          46.227638,
          55.378051,
          51.165691,
          37.09024,
          40.463667,
          51.919438,
          45.943161,
          60.128161,
          39.074208,
          42.733883,
          52.132633,
          50.503887,
          47.516231,
          39.399872,
          -25.274398,
          22.396428,
          53.41291,
          56.26392,
          55.169438,
          46.818188,
          61.92411,
          56.879635,
          45.1,
          49.817492,
          47.162494,
          43.750298,
          35.126413,
          48.669026,
          56.130366,
          49.815273,
          1.352083,
          58.595272,
          46.151241,
          36.204824,
          23.424076,
          4.210484,
          35.907757,
          12.879721,
          35.937496,
          38.963745,
          35.86166,
          25.354826,
          48.019573,
          33.854721,
          31.046051,
          -0.789275,
          25.930414,
          60.472024,
          23.885942,
          -40.900557
         ],
         "legendgroup": "",
         "lon": [
          12.56738,
          2.213749,
          -3.435973,
          10.451526,
          -95.712891,
          -3.74922,
          19.145136,
          24.96676,
          18.643501,
          21.824312,
          25.48583,
          5.291266,
          4.469936,
          14.550072,
          -8.224454,
          133.775136,
          114.109497,
          -8.24389,
          9.501785,
          23.881275,
          8.227512,
          25.748151,
          24.603189,
          15.2,
          15.472962,
          19.503304,
          7.412841,
          33.429859,
          19.699024,
          -106.346771,
          6.129583,
          103.819836,
          25.013607,
          14.995463,
          138.252924,
          53.847818,
          101.975766,
          127.766922,
          121.774017,
          14.375416,
          35.243322,
          104.195397,
          51.183884,
          66.923684,
          35.862285,
          34.851612,
          113.921327,
          50.637772,
          8.468946,
          45.079162,
          174.885971
         ],
         "marker": {
          "color": "#636efa",
          "size": [
           3596,
           2639,
           1486,
           982,
           964,
           671,
           346,
           276,
           234,
           214,
           208,
           199,
           173,
           166,
           164,
           156,
           150,
           137,
           130,
           112,
           98,
           79,
           66,
           63,
           47,
           45,
           44,
           41,
           40,
           28,
           27,
           26,
           24,
           21,
           21,
           13,
           8,
           6,
           6,
           4,
           4,
           3,
           2,
           1,
           1,
           1,
           1,
           1,
           1,
           1,
           1
          ],
          "sizemode": "area",
          "sizeref": 1.4384,
          "symbol": "circle"
         },
         "mode": "markers",
         "name": "",
         "showlegend": false,
         "type": "scattergeo"
        }
       ],
       "layout": {
        "geo": {
         "center": {},
         "domain": {
          "x": [
           0,
           1
          ],
          "y": [
           0,
           1
          ]
         },
         "projection": {
          "type": "natural earth"
         }
        },
        "legend": {
         "itemsizing": "constant",
         "tracegroupgap": 0
        },
        "template": {
         "data": {
          "bar": [
           {
            "error_x": {
             "color": "#2a3f5f"
            },
            "error_y": {
             "color": "#2a3f5f"
            },
            "marker": {
             "line": {
              "color": "#E5ECF6",
              "width": 0.5
             },
             "pattern": {
              "fillmode": "overlay",
              "size": 10,
              "solidity": 0.2
             }
            },
            "type": "bar"
           }
          ],
          "barpolar": [
           {
            "marker": {
             "line": {
              "color": "#E5ECF6",
              "width": 0.5
             },
             "pattern": {
              "fillmode": "overlay",
              "size": 10,
              "solidity": 0.2
             }
            },
            "type": "barpolar"
           }
          ],
          "carpet": [
           {
            "aaxis": {
             "endlinecolor": "#2a3f5f",
             "gridcolor": "white",
             "linecolor": "white",
             "minorgridcolor": "white",
             "startlinecolor": "#2a3f5f"
            },
            "baxis": {
             "endlinecolor": "#2a3f5f",
             "gridcolor": "white",
             "linecolor": "white",
             "minorgridcolor": "white",
             "startlinecolor": "#2a3f5f"
            },
            "type": "carpet"
           }
          ],
          "choropleth": [
           {
            "colorbar": {
             "outlinewidth": 0,
             "ticks": ""
            },
            "type": "choropleth"
           }
          ],
          "contour": [
           {
            "colorbar": {
             "outlinewidth": 0,
             "ticks": ""
            },
            "colorscale": [
             [
              0,
              "#0d0887"
             ],
             [
              0.1111111111111111,
              "#46039f"
             ],
             [
              0.2222222222222222,
              "#7201a8"
             ],
             [
              0.3333333333333333,
              "#9c179e"
             ],
             [
              0.4444444444444444,
              "#bd3786"
             ],
             [
              0.5555555555555556,
              "#d8576b"
             ],
             [
              0.6666666666666666,
              "#ed7953"
             ],
             [
              0.7777777777777778,
              "#fb9f3a"
             ],
             [
              0.8888888888888888,
              "#fdca26"
             ],
             [
              1,
              "#f0f921"
             ]
            ],
            "type": "contour"
           }
          ],
          "contourcarpet": [
           {
            "colorbar": {
             "outlinewidth": 0,
             "ticks": ""
            },
            "type": "contourcarpet"
           }
          ],
          "heatmap": [
           {
            "colorbar": {
             "outlinewidth": 0,
             "ticks": ""
            },
            "colorscale": [
             [
              0,
              "#0d0887"
             ],
             [
              0.1111111111111111,
              "#46039f"
             ],
             [
              0.2222222222222222,
              "#7201a8"
             ],
             [
              0.3333333333333333,
              "#9c179e"
             ],
             [
              0.4444444444444444,
              "#bd3786"
             ],
             [
              0.5555555555555556,
              "#d8576b"
             ],
             [
              0.6666666666666666,
              "#ed7953"
             ],
             [
              0.7777777777777778,
              "#fb9f3a"
             ],
             [
              0.8888888888888888,
              "#fdca26"
             ],
             [
              1,
              "#f0f921"
             ]
            ],
            "type": "heatmap"
           }
          ],
          "heatmapgl": [
           {
            "colorbar": {
             "outlinewidth": 0,
             "ticks": ""
            },
            "colorscale": [
             [
              0,
              "#0d0887"
             ],
             [
              0.1111111111111111,
              "#46039f"
             ],
             [
              0.2222222222222222,
              "#7201a8"
             ],
             [
              0.3333333333333333,
              "#9c179e"
             ],
             [
              0.4444444444444444,
              "#bd3786"
             ],
             [
              0.5555555555555556,
              "#d8576b"
             ],
             [
              0.6666666666666666,
              "#ed7953"
             ],
             [
              0.7777777777777778,
              "#fb9f3a"
             ],
             [
              0.8888888888888888,
              "#fdca26"
             ],
             [
              1,
              "#f0f921"
             ]
            ],
            "type": "heatmapgl"
           }
          ],
          "histogram": [
           {
            "marker": {
             "pattern": {
              "fillmode": "overlay",
              "size": 10,
              "solidity": 0.2
             }
            },
            "type": "histogram"
           }
          ],
          "histogram2d": [
           {
            "colorbar": {
             "outlinewidth": 0,
             "ticks": ""
            },
            "colorscale": [
             [
              0,
              "#0d0887"
             ],
             [
              0.1111111111111111,
              "#46039f"
             ],
             [
              0.2222222222222222,
              "#7201a8"
             ],
             [
              0.3333333333333333,
              "#9c179e"
             ],
             [
              0.4444444444444444,
              "#bd3786"
             ],
             [
              0.5555555555555556,
              "#d8576b"
             ],
             [
              0.6666666666666666,
              "#ed7953"
             ],
             [
              0.7777777777777778,
              "#fb9f3a"
             ],
             [
              0.8888888888888888,
              "#fdca26"
             ],
             [
              1,
              "#f0f921"
             ]
            ],
            "type": "histogram2d"
           }
          ],
          "histogram2dcontour": [
           {
            "colorbar": {
             "outlinewidth": 0,
             "ticks": ""
            },
            "colorscale": [
             [
              0,
              "#0d0887"
             ],
             [
              0.1111111111111111,
              "#46039f"
             ],
             [
              0.2222222222222222,
              "#7201a8"
             ],
             [
              0.3333333333333333,
              "#9c179e"
             ],
             [
              0.4444444444444444,
              "#bd3786"
             ],
             [
              0.5555555555555556,
              "#d8576b"
             ],
             [
              0.6666666666666666,
              "#ed7953"
             ],
             [
              0.7777777777777778,
              "#fb9f3a"
             ],
             [
              0.8888888888888888,
              "#fdca26"
             ],
             [
              1,
              "#f0f921"
             ]
            ],
            "type": "histogram2dcontour"
           }
          ],
          "mesh3d": [
           {
            "colorbar": {
             "outlinewidth": 0,
             "ticks": ""
            },
            "type": "mesh3d"
           }
          ],
          "parcoords": [
           {
            "line": {
             "colorbar": {
              "outlinewidth": 0,
              "ticks": ""
             }
            },
            "type": "parcoords"
           }
          ],
          "pie": [
           {
            "automargin": true,
            "type": "pie"
           }
          ],
          "scatter": [
           {
            "fillpattern": {
             "fillmode": "overlay",
             "size": 10,
             "solidity": 0.2
            },
            "type": "scatter"
           }
          ],
          "scatter3d": [
           {
            "line": {
             "colorbar": {
              "outlinewidth": 0,
              "ticks": ""
             }
            },
            "marker": {
             "colorbar": {
              "outlinewidth": 0,
              "ticks": ""
             }
            },
            "type": "scatter3d"
           }
          ],
          "scattercarpet": [
           {
            "marker": {
             "colorbar": {
              "outlinewidth": 0,
              "ticks": ""
             }
            },
            "type": "scattercarpet"
           }
          ],
          "scattergeo": [
           {
            "marker": {
             "colorbar": {
              "outlinewidth": 0,
              "ticks": ""
             }
            },
            "type": "scattergeo"
           }
          ],
          "scattergl": [
           {
            "marker": {
             "colorbar": {
              "outlinewidth": 0,
              "ticks": ""
             }
            },
            "type": "scattergl"
           }
          ],
          "scattermapbox": [
           {
            "marker": {
             "colorbar": {
              "outlinewidth": 0,
              "ticks": ""
             }
            },
            "type": "scattermapbox"
           }
          ],
          "scatterpolar": [
           {
            "marker": {
             "colorbar": {
              "outlinewidth": 0,
              "ticks": ""
             }
            },
            "type": "scatterpolar"
           }
          ],
          "scatterpolargl": [
           {
            "marker": {
             "colorbar": {
              "outlinewidth": 0,
              "ticks": ""
             }
            },
            "type": "scatterpolargl"
           }
          ],
          "scatterternary": [
           {
            "marker": {
             "colorbar": {
              "outlinewidth": 0,
              "ticks": ""
             }
            },
            "type": "scatterternary"
           }
          ],
          "surface": [
           {
            "colorbar": {
             "outlinewidth": 0,
             "ticks": ""
            },
            "colorscale": [
             [
              0,
              "#0d0887"
             ],
             [
              0.1111111111111111,
              "#46039f"
             ],
             [
              0.2222222222222222,
              "#7201a8"
             ],
             [
              0.3333333333333333,
              "#9c179e"
             ],
             [
              0.4444444444444444,
              "#bd3786"
             ],
             [
              0.5555555555555556,
              "#d8576b"
             ],
             [
              0.6666666666666666,
              "#ed7953"
             ],
             [
              0.7777777777777778,
              "#fb9f3a"
             ],
             [
              0.8888888888888888,
              "#fdca26"
             ],
             [
              1,
              "#f0f921"
             ]
            ],
            "type": "surface"
           }
          ],
          "table": [
           {
            "cells": {
             "fill": {
              "color": "#EBF0F8"
             },
             "line": {
              "color": "white"
             }
            },
            "header": {
             "fill": {
              "color": "#C8D4E3"
             },
             "line": {
              "color": "white"
             }
            },
            "type": "table"
           }
          ]
         },
         "layout": {
          "annotationdefaults": {
           "arrowcolor": "#2a3f5f",
           "arrowhead": 0,
           "arrowwidth": 1
          },
          "autotypenumbers": "strict",
          "coloraxis": {
           "colorbar": {
            "outlinewidth": 0,
            "ticks": ""
           }
          },
          "colorscale": {
           "diverging": [
            [
             0,
             "#8e0152"
            ],
            [
             0.1,
             "#c51b7d"
            ],
            [
             0.2,
             "#de77ae"
            ],
            [
             0.3,
             "#f1b6da"
            ],
            [
             0.4,
             "#fde0ef"
            ],
            [
             0.5,
             "#f7f7f7"
            ],
            [
             0.6,
             "#e6f5d0"
            ],
            [
             0.7,
             "#b8e186"
            ],
            [
             0.8,
             "#7fbc41"
            ],
            [
             0.9,
             "#4d9221"
            ],
            [
             1,
             "#276419"
            ]
           ],
           "sequential": [
            [
             0,
             "#0d0887"
            ],
            [
             0.1111111111111111,
             "#46039f"
            ],
            [
             0.2222222222222222,
             "#7201a8"
            ],
            [
             0.3333333333333333,
             "#9c179e"
            ],
            [
             0.4444444444444444,
             "#bd3786"
            ],
            [
             0.5555555555555556,
             "#d8576b"
            ],
            [
             0.6666666666666666,
             "#ed7953"
            ],
            [
             0.7777777777777778,
             "#fb9f3a"
            ],
            [
             0.8888888888888888,
             "#fdca26"
            ],
            [
             1,
             "#f0f921"
            ]
           ],
           "sequentialminus": [
            [
             0,
             "#0d0887"
            ],
            [
             0.1111111111111111,
             "#46039f"
            ],
            [
             0.2222222222222222,
             "#7201a8"
            ],
            [
             0.3333333333333333,
             "#9c179e"
            ],
            [
             0.4444444444444444,
             "#bd3786"
            ],
            [
             0.5555555555555556,
             "#d8576b"
            ],
            [
             0.6666666666666666,
             "#ed7953"
            ],
            [
             0.7777777777777778,
             "#fb9f3a"
            ],
            [
             0.8888888888888888,
             "#fdca26"
            ],
            [
             1,
             "#f0f921"
            ]
           ]
          },
          "colorway": [
           "#636efa",
           "#EF553B",
           "#00cc96",
           "#ab63fa",
           "#FFA15A",
           "#19d3f3",
           "#FF6692",
           "#B6E880",
           "#FF97FF",
           "#FECB52"
          ],
          "font": {
           "color": "#2a3f5f"
          },
          "geo": {
           "bgcolor": "white",
           "lakecolor": "white",
           "landcolor": "#E5ECF6",
           "showlakes": true,
           "showland": true,
           "subunitcolor": "white"
          },
          "hoverlabel": {
           "align": "left"
          },
          "hovermode": "closest",
          "mapbox": {
           "style": "light"
          },
          "paper_bgcolor": "white",
          "plot_bgcolor": "#E5ECF6",
          "polar": {
           "angularaxis": {
            "gridcolor": "white",
            "linecolor": "white",
            "ticks": ""
           },
           "bgcolor": "#E5ECF6",
           "radialaxis": {
            "gridcolor": "white",
            "linecolor": "white",
            "ticks": ""
           }
          },
          "scene": {
           "xaxis": {
            "backgroundcolor": "#E5ECF6",
            "gridcolor": "white",
            "gridwidth": 2,
            "linecolor": "white",
            "showbackground": true,
            "ticks": "",
            "zerolinecolor": "white"
           },
           "yaxis": {
            "backgroundcolor": "#E5ECF6",
            "gridcolor": "white",
            "gridwidth": 2,
            "linecolor": "white",
            "showbackground": true,
            "ticks": "",
            "zerolinecolor": "white"
           },
           "zaxis": {
            "backgroundcolor": "#E5ECF6",
            "gridcolor": "white",
            "gridwidth": 2,
            "linecolor": "white",
            "showbackground": true,
            "ticks": "",
            "zerolinecolor": "white"
           }
          },
          "shapedefaults": {
           "line": {
            "color": "#2a3f5f"
           }
          },
          "ternary": {
           "aaxis": {
            "gridcolor": "white",
            "linecolor": "white",
            "ticks": ""
           },
           "baxis": {
            "gridcolor": "white",
            "linecolor": "white",
            "ticks": ""
           },
           "bgcolor": "#E5ECF6",
           "caxis": {
            "gridcolor": "white",
            "linecolor": "white",
            "ticks": ""
           }
          },
          "title": {
           "x": 0.05
          },
          "xaxis": {
           "automargin": true,
           "gridcolor": "white",
           "linecolor": "white",
           "ticks": "",
           "title": {
            "standoff": 15
           },
           "zerolinecolor": "white",
           "zerolinewidth": 2
          },
          "yaxis": {
           "automargin": true,
           "gridcolor": "white",
           "linecolor": "white",
           "ticks": "",
           "title": {
            "standoff": 15
           },
           "zerolinecolor": "white",
           "zerolinewidth": 2
          }
         }
        },
        "title": {
         "text": "Seller Locations on Vestiaire Platform"
        }
       }
      }
     },
     "metadata": {},
     "output_type": "display_data"
    }
   ],
   "source": [
    "# Create Bubble Map\n",
    "fig_seller_loc = px.scatter_geo(\n",
    "    seller_location_data,\n",
    "    lat='lat',\n",
    "    lon='lon',\n",
    "    size='seller_count',\n",
    "    hover_name='country',\n",
    "    size_max=50,\n",
    "    projection=\"natural earth\",\n",
    "    title='Seller Locations on Vestiaire Platform'\n",
    ")\n",
    "fig_seller_loc.show()\n"
   ]
  },
  {
   "cell_type": "code",
   "execution_count": 73,
   "metadata": {},
   "outputs": [],
   "source": [
    "# Get the HTML string for the Plotly graph\n",
    "plotly_seller_loc_html = fig_seller_loc.to_html(full_html=False, include_plotlyjs='cdn')\n",
    "\n",
    "# Save the Plotly graph as an HTML file (optional)\n",
    "with open(\"plotly_graph.html\", \"w\") as file:\n",
    "    file.write(plotly_seller_loc_html)"
   ]
  },
  {
   "cell_type": "markdown",
   "metadata": {},
   "source": [
    "# Natalie's Code\n"
   ]
  },
  {
   "cell_type": "code",
   "execution_count": null,
   "metadata": {},
   "outputs": [],
   "source": [
    "# Price Distribution by Product Type\n",
    "\n",
    "category_counts = df['product_category'].value_counts()\n",
    "\n",
    "plt.figure(figsize=(10, 6))\n",
    "category_counts.plot(kind='bar')\n",
    "plt.title('Distribution of Products by Category')\n",
    "plt.xlabel('Product Category')\n",
    "plt.ylabel('Count')\n",
    "plt.xticks(rotation=45)\n",
    "plt.show()"
   ]
  },
  {
   "cell_type": "code",
   "execution_count": null,
   "metadata": {},
   "outputs": [],
   "source": [
    "#Average Price by Product Condition\n",
    "\n",
    "average_price_condition = df.groupby('product_condition')['price_usd'].mean().sort_values()\n",
    "\n",
    "plt.figure(figsize=(10, 6))\n",
    "average_price_condition.plot(kind='bar')\n",
    "plt.title('Average Price by Product Condition')\n",
    "plt.xlabel('Product Condition')\n",
    "plt.ylabel('Average Price (USD)')\n",
    "plt.xticks(rotation=45)\n",
    "plt.show()"
   ]
  },
  {
   "cell_type": "code",
   "execution_count": null,
   "metadata": {},
   "outputs": [],
   "source": [
    "# Sales Analysis by Country\n",
    "\n",
    "country_sales = df[df['sold'] == True]['seller_country'].value_counts()\n",
    "\n",
    "plt.figure(figsize=(30, 6))\n",
    "country_sales.plot(kind='bar')\n",
    "plt.title('Sales Analysis by Country')\n",
    "plt.xlabel('Country')\n",
    "plt.ylabel('Number of Products Sold')\n",
    "plt.xticks(rotation=45)\n",
    "plt.show()\n",
    "\n",
    "country_sales.head()"
   ]
  },
  {
   "cell_type": "code",
   "execution_count": null,
   "metadata": {},
   "outputs": [],
   "source": [
    "#Top selling brands \n",
    "top_selling_brands = df[df['sold'] == True]['brand_name'].value_counts().head(10)\n",
    "\n",
    "plt.figure(figsize=(10, 6))\n",
    "top_selling_brands.plot(kind='bar')\n",
    "plt.title('Top Selling Brands')\n",
    "plt.xlabel('Brand Name')\n",
    "plt.ylabel('Number of Products Sold')\n",
    "plt.xticks(rotation=45)\n",
    "plt.show()\n",
    "\n",
    "top_selling_brands"
   ]
  },
  {
   "cell_type": "code",
   "execution_count": null,
   "metadata": {},
   "outputs": [],
   "source": [
    "#The relationship between product condition and sales for these brands\n",
    "\n",
    "# Calculate top-selling brands based on the number of products sold\n",
    "top_selling_brands = df[df['sold'] == True]['brand_name'].value_counts().head(10)\n",
    "\n",
    "# Filter the dataframe to include only the top-selling brands\n",
    "top_brands_list = top_selling_brands.index\n",
    "top_brands_df = df[df['brand_name'].isin(top_brands_list)]\n",
    "\n",
    "# Group by brand name and product condition, then count the number of sold products\n",
    "condition_sales = top_brands_df[top_brands_df['sold'] == True].groupby(['brand_name', 'product_condition']).size().unstack(fill_value=0)\n",
    "\n",
    "# Plot the relationship between product condition and sales for top-selling brands\n",
    "plt.figure(figsize=(14, 8))\n",
    "condition_sales.plot(kind='bar', stacked=True, figsize=(14, 8))\n",
    "plt.title('Sales by Product Condition for Top-Selling Brands')\n",
    "plt.xlabel('Brand Name')\n",
    "plt.ylabel('Number of Products Sold')\n",
    "plt.xticks(rotation=45)\n",
    "plt.legend(title='Product Condition')\n",
    "plt.show()\n",
    "\n",
    "condition_sales"
   ]
  }
 ],
 "metadata": {
  "kernelspec": {
   "display_name": "activities",
   "language": "python",
   "name": "python3"
  },
  "language_info": {
   "codemirror_mode": {
    "name": "ipython",
    "version": 3
   },
   "file_extension": ".py",
   "mimetype": "text/x-python",
   "name": "python",
   "nbconvert_exporter": "python",
   "pygments_lexer": "ipython3",
   "version": "3.11.9"
  }
 },
 "nbformat": 4,
 "nbformat_minor": 2
}
