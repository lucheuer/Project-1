{
 "cells": [
  {
   "cell_type": "code",
   "execution_count": 2,
   "metadata": {},
   "outputs": [],
   "source": [
    "import numpy as np\n",
    "import nbformat as nbf\n",
    "import pandas as pd\n",
    "import matplotlib.pyplot as plt\n",
    "import plotly.graph_objects as go\n",
    "import plotly.express as px\n",
    "import seaborn as sns\n",
    "import warnings\n",
    "warnings.filterwarnings('ignore')\n",
    "import plotly.colors as pc"
   ]
  },
  {
   "cell_type": "code",
   "execution_count": 3,
   "metadata": {},
   "outputs": [
    {
     "name": "stdout",
     "output_type": "stream",
     "text": [
      "Requirement already satisfied: plotly in c:\\users\\russe\\appdata\\local\\programs\\python\\python312\\lib\\site-packages (5.22.0)\n",
      "Requirement already satisfied: tenacity>=6.2.0 in c:\\users\\russe\\appdata\\local\\programs\\python\\python312\\lib\\site-packages (from plotly) (8.5.0)\n",
      "Requirement already satisfied: packaging in c:\\users\\russe\\appdata\\roaming\\python\\python312\\site-packages (from plotly) (24.0)\n",
      "Note: you may need to restart the kernel to use updated packages.\n"
     ]
    }
   ],
   "source": [
    "pip install plotly"
   ]
  },
  {
   "cell_type": "code",
   "execution_count": 4,
   "metadata": {},
   "outputs": [
    {
     "name": "stdout",
     "output_type": "stream",
     "text": [
      "This data frame contains 13736 rows.\n"
     ]
    },
    {
     "data": {
      "text/html": [
       "<div>\n",
       "<style scoped>\n",
       "    .dataframe tbody tr th:only-of-type {\n",
       "        vertical-align: middle;\n",
       "    }\n",
       "\n",
       "    .dataframe tbody tr th {\n",
       "        vertical-align: top;\n",
       "    }\n",
       "\n",
       "    .dataframe thead th {\n",
       "        text-align: right;\n",
       "    }\n",
       "</style>\n",
       "<table border=\"1\" class=\"dataframe\">\n",
       "  <thead>\n",
       "    <tr style=\"text-align: right;\">\n",
       "      <th></th>\n",
       "      <th>product_id</th>\n",
       "      <th>product_type</th>\n",
       "      <th>product_name</th>\n",
       "      <th>product_gender_target</th>\n",
       "      <th>product_category</th>\n",
       "      <th>product_season</th>\n",
       "      <th>product_condition</th>\n",
       "      <th>product_like_count</th>\n",
       "      <th>sold</th>\n",
       "      <th>brand_name</th>\n",
       "      <th>product_material</th>\n",
       "      <th>product_color</th>\n",
       "      <th>price_usd</th>\n",
       "      <th>seller_price</th>\n",
       "      <th>seller_earning</th>\n",
       "      <th>buyers_fees</th>\n",
       "      <th>seller_id</th>\n",
       "      <th>seller_country</th>\n",
       "      <th>seller_products_sold</th>\n",
       "      <th>seller_num_products_listed</th>\n",
       "    </tr>\n",
       "  </thead>\n",
       "  <tbody>\n",
       "    <tr>\n",
       "      <th>0</th>\n",
       "      <td>43247626</td>\n",
       "      <td>Wool mini skirt</td>\n",
       "      <td>Wool mini skirt Miu Miu Grey size S Internatio...</td>\n",
       "      <td>Women</td>\n",
       "      <td>Women Clothing</td>\n",
       "      <td>Autumn / Winter</td>\n",
       "      <td>Never worn</td>\n",
       "      <td>34</td>\n",
       "      <td>True</td>\n",
       "      <td>Miu Miu</td>\n",
       "      <td>Wool</td>\n",
       "      <td>Grey</td>\n",
       "      <td>272.92</td>\n",
       "      <td>223.65</td>\n",
       "      <td>216.94</td>\n",
       "      <td>NaN</td>\n",
       "      <td>25775970</td>\n",
       "      <td>Germany</td>\n",
       "      <td>3</td>\n",
       "      <td>14</td>\n",
       "    </tr>\n",
       "    <tr>\n",
       "      <th>1</th>\n",
       "      <td>43246247</td>\n",
       "      <td>Wool suit jacket</td>\n",
       "      <td>Wool suit jacket Dior Grey size 40 FR in Wool</td>\n",
       "      <td>Women</td>\n",
       "      <td>Women Clothing</td>\n",
       "      <td>Autumn / Winter</td>\n",
       "      <td>Very good condition</td>\n",
       "      <td>2</td>\n",
       "      <td>True</td>\n",
       "      <td>Dior</td>\n",
       "      <td>Wool</td>\n",
       "      <td>Grey</td>\n",
       "      <td>437.97</td>\n",
       "      <td>358.91</td>\n",
       "      <td>312.25</td>\n",
       "      <td>NaN</td>\n",
       "      <td>2709130</td>\n",
       "      <td>Italy</td>\n",
       "      <td>172</td>\n",
       "      <td>6</td>\n",
       "    </tr>\n",
       "    <tr>\n",
       "      <th>2</th>\n",
       "      <td>43246087</td>\n",
       "      <td>Silk maxi dress</td>\n",
       "      <td>Silk maxi dress La Perla Black size 44 IT in S...</td>\n",
       "      <td>Women</td>\n",
       "      <td>Women Clothing</td>\n",
       "      <td>All seasons</td>\n",
       "      <td>Never worn, with tag</td>\n",
       "      <td>4</td>\n",
       "      <td>True</td>\n",
       "      <td>La Perla</td>\n",
       "      <td>Silk</td>\n",
       "      <td>Black</td>\n",
       "      <td>444.74</td>\n",
       "      <td>370.62</td>\n",
       "      <td>322.44</td>\n",
       "      <td>NaN</td>\n",
       "      <td>6048767</td>\n",
       "      <td>Germany</td>\n",
       "      <td>5</td>\n",
       "      <td>15</td>\n",
       "    </tr>\n",
       "  </tbody>\n",
       "</table>\n",
       "</div>"
      ],
      "text/plain": [
       "   product_id      product_type  \\\n",
       "0    43247626   Wool mini skirt   \n",
       "1    43246247  Wool suit jacket   \n",
       "2    43246087   Silk maxi dress   \n",
       "\n",
       "                                        product_name product_gender_target  \\\n",
       "0  Wool mini skirt Miu Miu Grey size S Internatio...                 Women   \n",
       "1     Wool suit jacket Dior Grey size 40 FR in Wool                  Women   \n",
       "2  Silk maxi dress La Perla Black size 44 IT in S...                 Women   \n",
       "\n",
       "  product_category   product_season     product_condition  product_like_count  \\\n",
       "0   Women Clothing  Autumn / Winter            Never worn                  34   \n",
       "1   Women Clothing  Autumn / Winter   Very good condition                   2   \n",
       "2   Women Clothing      All seasons  Never worn, with tag                   4   \n",
       "\n",
       "   sold brand_name product_material product_color  price_usd  seller_price  \\\n",
       "0  True    Miu Miu             Wool          Grey     272.92        223.65   \n",
       "1  True       Dior             Wool          Grey     437.97        358.91   \n",
       "2  True   La Perla             Silk         Black     444.74        370.62   \n",
       "\n",
       "   seller_earning  buyers_fees  seller_id seller_country  \\\n",
       "0          216.94          NaN   25775970        Germany   \n",
       "1          312.25          NaN    2709130          Italy   \n",
       "2          322.44          NaN    6048767        Germany   \n",
       "\n",
       "   seller_products_sold  seller_num_products_listed  \n",
       "0                     3                          14  \n",
       "1                   172                           6  \n",
       "2                     5                          15  "
      ]
     },
     "execution_count": 4,
     "metadata": {},
     "output_type": "execute_result"
    }
   ],
   "source": [
    "# Read the Vestiaire dataset into a dataframe\n",
    "vestiaire_df = pd.read_csv('datasets/vestiaire_smaller.csv')\n",
    "\n",
    "# Display the Head of the Data Frame\n",
    "print(f\"This data frame contains {len(vestiaire_df)} rows.\")\n",
    "vestiaire_df.head(3)\n",
    "\n"
   ]
  },
  {
   "cell_type": "code",
   "execution_count": 5,
   "metadata": {},
   "outputs": [
    {
     "data": {
      "text/html": [
       "<div>\n",
       "<style scoped>\n",
       "    .dataframe tbody tr th:only-of-type {\n",
       "        vertical-align: middle;\n",
       "    }\n",
       "\n",
       "    .dataframe tbody tr th {\n",
       "        vertical-align: top;\n",
       "    }\n",
       "\n",
       "    .dataframe thead th {\n",
       "        text-align: right;\n",
       "    }\n",
       "</style>\n",
       "<table border=\"1\" class=\"dataframe\">\n",
       "  <thead>\n",
       "    <tr style=\"text-align: right;\">\n",
       "      <th></th>\n",
       "      <th>product_id</th>\n",
       "      <th>product_type</th>\n",
       "      <th>product_name</th>\n",
       "      <th>product_gender_target</th>\n",
       "      <th>product_category</th>\n",
       "      <th>product_season</th>\n",
       "      <th>product_condition</th>\n",
       "      <th>product_like_count</th>\n",
       "      <th>sold</th>\n",
       "      <th>brand_name</th>\n",
       "      <th>product_material</th>\n",
       "      <th>product_color</th>\n",
       "      <th>price_usd</th>\n",
       "      <th>seller_price</th>\n",
       "      <th>seller_earning</th>\n",
       "      <th>buyers_fees</th>\n",
       "      <th>seller_id</th>\n",
       "      <th>seller_country</th>\n",
       "      <th>seller_products_sold</th>\n",
       "      <th>seller_num_products_listed</th>\n",
       "    </tr>\n",
       "  </thead>\n",
       "  <tbody>\n",
       "    <tr>\n",
       "      <th>13733</th>\n",
       "      <td>41503237</td>\n",
       "      <td>Tweed trainers</td>\n",
       "      <td>Tweed trainers Chanel Black size 39 EU in Tweed</td>\n",
       "      <td>Women</td>\n",
       "      <td>Women Shoes</td>\n",
       "      <td>All seasons</td>\n",
       "      <td>Never worn</td>\n",
       "      <td>24</td>\n",
       "      <td>True</td>\n",
       "      <td>Chanel</td>\n",
       "      <td>Tweed</td>\n",
       "      <td>Black</td>\n",
       "      <td>447.90</td>\n",
       "      <td>373.25</td>\n",
       "      <td>324.73</td>\n",
       "      <td>NaN</td>\n",
       "      <td>3180346</td>\n",
       "      <td>Italy</td>\n",
       "      <td>11</td>\n",
       "      <td>1</td>\n",
       "    </tr>\n",
       "    <tr>\n",
       "      <th>13734</th>\n",
       "      <td>41540832</td>\n",
       "      <td>Leather heels</td>\n",
       "      <td>Leather heels Pollini Black size 38 IT in Leat...</td>\n",
       "      <td>Women</td>\n",
       "      <td>Women Shoes</td>\n",
       "      <td>All seasons</td>\n",
       "      <td>Never worn</td>\n",
       "      <td>2</td>\n",
       "      <td>True</td>\n",
       "      <td>Pollini</td>\n",
       "      <td>Leather</td>\n",
       "      <td>Black</td>\n",
       "      <td>51.12</td>\n",
       "      <td>42.60</td>\n",
       "      <td>28.76</td>\n",
       "      <td>NaN</td>\n",
       "      <td>19750106</td>\n",
       "      <td>Italy</td>\n",
       "      <td>62</td>\n",
       "      <td>184</td>\n",
       "    </tr>\n",
       "    <tr>\n",
       "      <th>13735</th>\n",
       "      <td>41540732</td>\n",
       "      <td>Leather heels</td>\n",
       "      <td>Leather heels Ninamounah Black size 39 EU in L...</td>\n",
       "      <td>Women</td>\n",
       "      <td>Women Shoes</td>\n",
       "      <td>All seasons</td>\n",
       "      <td>Very good condition</td>\n",
       "      <td>21</td>\n",
       "      <td>True</td>\n",
       "      <td>Ninamounah</td>\n",
       "      <td>Leather</td>\n",
       "      <td>Black</td>\n",
       "      <td>97.13</td>\n",
       "      <td>80.94</td>\n",
       "      <td>80.94</td>\n",
       "      <td>NaN</td>\n",
       "      <td>5992355</td>\n",
       "      <td>Estonia</td>\n",
       "      <td>1</td>\n",
       "      <td>1</td>\n",
       "    </tr>\n",
       "  </tbody>\n",
       "</table>\n",
       "</div>"
      ],
      "text/plain": [
       "       product_id    product_type  \\\n",
       "13733    41503237  Tweed trainers   \n",
       "13734    41540832   Leather heels   \n",
       "13735    41540732   Leather heels   \n",
       "\n",
       "                                            product_name  \\\n",
       "13733   Tweed trainers Chanel Black size 39 EU in Tweed    \n",
       "13734  Leather heels Pollini Black size 38 IT in Leat...   \n",
       "13735  Leather heels Ninamounah Black size 39 EU in L...   \n",
       "\n",
       "      product_gender_target product_category product_season  \\\n",
       "13733                 Women      Women Shoes    All seasons   \n",
       "13734                 Women      Women Shoes    All seasons   \n",
       "13735                 Women      Women Shoes    All seasons   \n",
       "\n",
       "         product_condition  product_like_count  sold  brand_name  \\\n",
       "13733           Never worn                  24  True      Chanel   \n",
       "13734           Never worn                   2  True     Pollini   \n",
       "13735  Very good condition                  21  True  Ninamounah   \n",
       "\n",
       "      product_material product_color  price_usd  seller_price  seller_earning  \\\n",
       "13733            Tweed         Black     447.90        373.25          324.73   \n",
       "13734          Leather         Black      51.12         42.60           28.76   \n",
       "13735          Leather         Black      97.13         80.94           80.94   \n",
       "\n",
       "       buyers_fees  seller_id seller_country  seller_products_sold  \\\n",
       "13733          NaN    3180346          Italy                    11   \n",
       "13734          NaN   19750106          Italy                    62   \n",
       "13735          NaN    5992355        Estonia                     1   \n",
       "\n",
       "       seller_num_products_listed  \n",
       "13733                           1  \n",
       "13734                         184  \n",
       "13735                           1  "
      ]
     },
     "execution_count": 5,
     "metadata": {},
     "output_type": "execute_result"
    }
   ],
   "source": [
    "# Display the Tail of the Data Frame\n",
    "vestiaire_df.tail(3)\n"
   ]
  },
  {
   "cell_type": "code",
   "execution_count": 6,
   "metadata": {},
   "outputs": [
    {
     "data": {
      "text/plain": [
       "(13736, 20)"
      ]
     },
     "execution_count": 6,
     "metadata": {},
     "output_type": "execute_result"
    }
   ],
   "source": [
    "# Examine the rows and columns count\n",
    "vestiaire_df.shape"
   ]
  },
  {
   "cell_type": "markdown",
   "metadata": {},
   "source": [
    "# Data Cleaning"
   ]
  },
  {
   "cell_type": "code",
   "execution_count": 7,
   "metadata": {},
   "outputs": [],
   "source": [
    "vestiaire_clean = vestiaire_df.copy()"
   ]
  },
  {
   "cell_type": "code",
   "execution_count": 8,
   "metadata": {},
   "outputs": [
    {
     "data": {
      "text/plain": [
       "Index(['product_id', 'product_type', 'product_name', 'product_gender_target',\n",
       "       'product_category', 'product_season', 'product_condition',\n",
       "       'product_like_count', 'sold', 'brand_name', 'product_material',\n",
       "       'product_color', 'price_usd', 'seller_price', 'seller_earning',\n",
       "       'buyers_fees', 'seller_id', 'seller_country', 'seller_products_sold',\n",
       "       'seller_num_products_listed'],\n",
       "      dtype='object')"
      ]
     },
     "execution_count": 8,
     "metadata": {},
     "output_type": "execute_result"
    }
   ],
   "source": [
    "vestiaire_clean.columns"
   ]
  },
  {
   "cell_type": "code",
   "execution_count": 9,
   "metadata": {},
   "outputs": [
    {
     "name": "stdout",
     "output_type": "stream",
     "text": [
      "<class 'pandas.core.frame.DataFrame'>\n",
      "RangeIndex: 13736 entries, 0 to 13735\n",
      "Data columns (total 20 columns):\n",
      " #   Column                      Non-Null Count  Dtype  \n",
      "---  ------                      --------------  -----  \n",
      " 0   product_id                  13736 non-null  int64  \n",
      " 1   product_type                13736 non-null  object \n",
      " 2   product_name                13736 non-null  object \n",
      " 3   product_gender_target       13736 non-null  object \n",
      " 4   product_category            13727 non-null  object \n",
      " 5   product_season              13736 non-null  object \n",
      " 6   product_condition           13736 non-null  object \n",
      " 7   product_like_count          13736 non-null  int64  \n",
      " 8   sold                        13736 non-null  bool   \n",
      " 9   brand_name                  13736 non-null  object \n",
      " 10  product_material            13736 non-null  object \n",
      " 11  product_color               13736 non-null  object \n",
      " 12  price_usd                   13736 non-null  float64\n",
      " 13  seller_price                13736 non-null  float64\n",
      " 14  seller_earning              13736 non-null  float64\n",
      " 15  buyers_fees                 0 non-null      float64\n",
      " 16  seller_id                   13736 non-null  int64  \n",
      " 17  seller_country              13736 non-null  object \n",
      " 18  seller_products_sold        13736 non-null  int64  \n",
      " 19  seller_num_products_listed  13736 non-null  int64  \n",
      "dtypes: bool(1), float64(4), int64(5), object(10)\n",
      "memory usage: 2.0+ MB\n"
     ]
    }
   ],
   "source": [
    "vestiaire_clean.info()"
   ]
  },
  {
   "cell_type": "code",
   "execution_count": 10,
   "metadata": {},
   "outputs": [],
   "source": [
    "vestiaire_clean.drop(columns=['buyers_fees'], inplace=True)"
   ]
  },
  {
   "cell_type": "code",
   "execution_count": 11,
   "metadata": {},
   "outputs": [
    {
     "data": {
      "text/plain": [
       "0.06552125800815375"
      ]
     },
     "execution_count": 11,
     "metadata": {},
     "output_type": "execute_result"
    }
   ],
   "source": [
    "(vestiaire_clean.isna().mean() * 100).sum()"
   ]
  },
  {
   "cell_type": "code",
   "execution_count": 12,
   "metadata": {},
   "outputs": [
    {
     "data": {
      "text/plain": [
       "product_id                    0.000000\n",
       "product_type                  0.000000\n",
       "product_name                  0.000000\n",
       "product_gender_target         0.000000\n",
       "product_category              0.065521\n",
       "product_season                0.000000\n",
       "product_condition             0.000000\n",
       "product_like_count            0.000000\n",
       "sold                          0.000000\n",
       "brand_name                    0.000000\n",
       "product_material              0.000000\n",
       "product_color                 0.000000\n",
       "price_usd                     0.000000\n",
       "seller_price                  0.000000\n",
       "seller_earning                0.000000\n",
       "seller_id                     0.000000\n",
       "seller_country                0.000000\n",
       "seller_products_sold          0.000000\n",
       "seller_num_products_listed    0.000000\n",
       "dtype: float64"
      ]
     },
     "execution_count": 12,
     "metadata": {},
     "output_type": "execute_result"
    }
   ],
   "source": [
    "vestiaire_clean.isna().mean() * 100"
   ]
  },
  {
   "cell_type": "code",
   "execution_count": 13,
   "metadata": {},
   "outputs": [],
   "source": [
    "vestiaire_clean = vestiaire_clean.dropna(subset=['product_category'])"
   ]
  },
  {
   "cell_type": "code",
   "execution_count": 14,
   "metadata": {},
   "outputs": [
    {
     "data": {
      "text/plain": [
       "product_id                    0.0\n",
       "product_type                  0.0\n",
       "product_name                  0.0\n",
       "product_gender_target         0.0\n",
       "product_category              0.0\n",
       "product_season                0.0\n",
       "product_condition             0.0\n",
       "product_like_count            0.0\n",
       "sold                          0.0\n",
       "brand_name                    0.0\n",
       "product_material              0.0\n",
       "product_color                 0.0\n",
       "price_usd                     0.0\n",
       "seller_price                  0.0\n",
       "seller_earning                0.0\n",
       "seller_id                     0.0\n",
       "seller_country                0.0\n",
       "seller_products_sold          0.0\n",
       "seller_num_products_listed    0.0\n",
       "dtype: float64"
      ]
     },
     "execution_count": 14,
     "metadata": {},
     "output_type": "execute_result"
    }
   ],
   "source": [
    "vestiaire_clean.isna().mean() * 100"
   ]
  },
  {
   "cell_type": "markdown",
   "metadata": {},
   "source": [
    "# Exploratory Data Analysis"
   ]
  },
  {
   "cell_type": "code",
   "execution_count": 15,
   "metadata": {},
   "outputs": [
    {
     "data": {
      "application/vnd.plotly.v1+json": {
       "config": {
        "plotlyServerURL": "https://plot.ly"
       },
       "data": [
        {
         "hoverinfo": "label+value",
         "labels": [
          "Women",
          "Men"
         ],
         "marker": {
          "line": {
           "color": "#000000",
           "width": 2
          }
         },
         "textfont": {
          "size": 20
         },
         "textinfo": "percent",
         "type": "pie",
         "values": [
          8453,
          5274
         ]
        }
       ],
       "layout": {
        "template": {
         "data": {
          "bar": [
           {
            "error_x": {
             "color": "#2a3f5f"
            },
            "error_y": {
             "color": "#2a3f5f"
            },
            "marker": {
             "line": {
              "color": "#E5ECF6",
              "width": 0.5
             },
             "pattern": {
              "fillmode": "overlay",
              "size": 10,
              "solidity": 0.2
             }
            },
            "type": "bar"
           }
          ],
          "barpolar": [
           {
            "marker": {
             "line": {
              "color": "#E5ECF6",
              "width": 0.5
             },
             "pattern": {
              "fillmode": "overlay",
              "size": 10,
              "solidity": 0.2
             }
            },
            "type": "barpolar"
           }
          ],
          "carpet": [
           {
            "aaxis": {
             "endlinecolor": "#2a3f5f",
             "gridcolor": "white",
             "linecolor": "white",
             "minorgridcolor": "white",
             "startlinecolor": "#2a3f5f"
            },
            "baxis": {
             "endlinecolor": "#2a3f5f",
             "gridcolor": "white",
             "linecolor": "white",
             "minorgridcolor": "white",
             "startlinecolor": "#2a3f5f"
            },
            "type": "carpet"
           }
          ],
          "choropleth": [
           {
            "colorbar": {
             "outlinewidth": 0,
             "ticks": ""
            },
            "type": "choropleth"
           }
          ],
          "contour": [
           {
            "colorbar": {
             "outlinewidth": 0,
             "ticks": ""
            },
            "colorscale": [
             [
              0,
              "#0d0887"
             ],
             [
              0.1111111111111111,
              "#46039f"
             ],
             [
              0.2222222222222222,
              "#7201a8"
             ],
             [
              0.3333333333333333,
              "#9c179e"
             ],
             [
              0.4444444444444444,
              "#bd3786"
             ],
             [
              0.5555555555555556,
              "#d8576b"
             ],
             [
              0.6666666666666666,
              "#ed7953"
             ],
             [
              0.7777777777777778,
              "#fb9f3a"
             ],
             [
              0.8888888888888888,
              "#fdca26"
             ],
             [
              1,
              "#f0f921"
             ]
            ],
            "type": "contour"
           }
          ],
          "contourcarpet": [
           {
            "colorbar": {
             "outlinewidth": 0,
             "ticks": ""
            },
            "type": "contourcarpet"
           }
          ],
          "heatmap": [
           {
            "colorbar": {
             "outlinewidth": 0,
             "ticks": ""
            },
            "colorscale": [
             [
              0,
              "#0d0887"
             ],
             [
              0.1111111111111111,
              "#46039f"
             ],
             [
              0.2222222222222222,
              "#7201a8"
             ],
             [
              0.3333333333333333,
              "#9c179e"
             ],
             [
              0.4444444444444444,
              "#bd3786"
             ],
             [
              0.5555555555555556,
              "#d8576b"
             ],
             [
              0.6666666666666666,
              "#ed7953"
             ],
             [
              0.7777777777777778,
              "#fb9f3a"
             ],
             [
              0.8888888888888888,
              "#fdca26"
             ],
             [
              1,
              "#f0f921"
             ]
            ],
            "type": "heatmap"
           }
          ],
          "heatmapgl": [
           {
            "colorbar": {
             "outlinewidth": 0,
             "ticks": ""
            },
            "colorscale": [
             [
              0,
              "#0d0887"
             ],
             [
              0.1111111111111111,
              "#46039f"
             ],
             [
              0.2222222222222222,
              "#7201a8"
             ],
             [
              0.3333333333333333,
              "#9c179e"
             ],
             [
              0.4444444444444444,
              "#bd3786"
             ],
             [
              0.5555555555555556,
              "#d8576b"
             ],
             [
              0.6666666666666666,
              "#ed7953"
             ],
             [
              0.7777777777777778,
              "#fb9f3a"
             ],
             [
              0.8888888888888888,
              "#fdca26"
             ],
             [
              1,
              "#f0f921"
             ]
            ],
            "type": "heatmapgl"
           }
          ],
          "histogram": [
           {
            "marker": {
             "pattern": {
              "fillmode": "overlay",
              "size": 10,
              "solidity": 0.2
             }
            },
            "type": "histogram"
           }
          ],
          "histogram2d": [
           {
            "colorbar": {
             "outlinewidth": 0,
             "ticks": ""
            },
            "colorscale": [
             [
              0,
              "#0d0887"
             ],
             [
              0.1111111111111111,
              "#46039f"
             ],
             [
              0.2222222222222222,
              "#7201a8"
             ],
             [
              0.3333333333333333,
              "#9c179e"
             ],
             [
              0.4444444444444444,
              "#bd3786"
             ],
             [
              0.5555555555555556,
              "#d8576b"
             ],
             [
              0.6666666666666666,
              "#ed7953"
             ],
             [
              0.7777777777777778,
              "#fb9f3a"
             ],
             [
              0.8888888888888888,
              "#fdca26"
             ],
             [
              1,
              "#f0f921"
             ]
            ],
            "type": "histogram2d"
           }
          ],
          "histogram2dcontour": [
           {
            "colorbar": {
             "outlinewidth": 0,
             "ticks": ""
            },
            "colorscale": [
             [
              0,
              "#0d0887"
             ],
             [
              0.1111111111111111,
              "#46039f"
             ],
             [
              0.2222222222222222,
              "#7201a8"
             ],
             [
              0.3333333333333333,
              "#9c179e"
             ],
             [
              0.4444444444444444,
              "#bd3786"
             ],
             [
              0.5555555555555556,
              "#d8576b"
             ],
             [
              0.6666666666666666,
              "#ed7953"
             ],
             [
              0.7777777777777778,
              "#fb9f3a"
             ],
             [
              0.8888888888888888,
              "#fdca26"
             ],
             [
              1,
              "#f0f921"
             ]
            ],
            "type": "histogram2dcontour"
           }
          ],
          "mesh3d": [
           {
            "colorbar": {
             "outlinewidth": 0,
             "ticks": ""
            },
            "type": "mesh3d"
           }
          ],
          "parcoords": [
           {
            "line": {
             "colorbar": {
              "outlinewidth": 0,
              "ticks": ""
             }
            },
            "type": "parcoords"
           }
          ],
          "pie": [
           {
            "automargin": true,
            "type": "pie"
           }
          ],
          "scatter": [
           {
            "fillpattern": {
             "fillmode": "overlay",
             "size": 10,
             "solidity": 0.2
            },
            "type": "scatter"
           }
          ],
          "scatter3d": [
           {
            "line": {
             "colorbar": {
              "outlinewidth": 0,
              "ticks": ""
             }
            },
            "marker": {
             "colorbar": {
              "outlinewidth": 0,
              "ticks": ""
             }
            },
            "type": "scatter3d"
           }
          ],
          "scattercarpet": [
           {
            "marker": {
             "colorbar": {
              "outlinewidth": 0,
              "ticks": ""
             }
            },
            "type": "scattercarpet"
           }
          ],
          "scattergeo": [
           {
            "marker": {
             "colorbar": {
              "outlinewidth": 0,
              "ticks": ""
             }
            },
            "type": "scattergeo"
           }
          ],
          "scattergl": [
           {
            "marker": {
             "colorbar": {
              "outlinewidth": 0,
              "ticks": ""
             }
            },
            "type": "scattergl"
           }
          ],
          "scattermapbox": [
           {
            "marker": {
             "colorbar": {
              "outlinewidth": 0,
              "ticks": ""
             }
            },
            "type": "scattermapbox"
           }
          ],
          "scatterpolar": [
           {
            "marker": {
             "colorbar": {
              "outlinewidth": 0,
              "ticks": ""
             }
            },
            "type": "scatterpolar"
           }
          ],
          "scatterpolargl": [
           {
            "marker": {
             "colorbar": {
              "outlinewidth": 0,
              "ticks": ""
             }
            },
            "type": "scatterpolargl"
           }
          ],
          "scatterternary": [
           {
            "marker": {
             "colorbar": {
              "outlinewidth": 0,
              "ticks": ""
             }
            },
            "type": "scatterternary"
           }
          ],
          "surface": [
           {
            "colorbar": {
             "outlinewidth": 0,
             "ticks": ""
            },
            "colorscale": [
             [
              0,
              "#0d0887"
             ],
             [
              0.1111111111111111,
              "#46039f"
             ],
             [
              0.2222222222222222,
              "#7201a8"
             ],
             [
              0.3333333333333333,
              "#9c179e"
             ],
             [
              0.4444444444444444,
              "#bd3786"
             ],
             [
              0.5555555555555556,
              "#d8576b"
             ],
             [
              0.6666666666666666,
              "#ed7953"
             ],
             [
              0.7777777777777778,
              "#fb9f3a"
             ],
             [
              0.8888888888888888,
              "#fdca26"
             ],
             [
              1,
              "#f0f921"
             ]
            ],
            "type": "surface"
           }
          ],
          "table": [
           {
            "cells": {
             "fill": {
              "color": "#EBF0F8"
             },
             "line": {
              "color": "white"
             }
            },
            "header": {
             "fill": {
              "color": "#C8D4E3"
             },
             "line": {
              "color": "white"
             }
            },
            "type": "table"
           }
          ]
         },
         "layout": {
          "annotationdefaults": {
           "arrowcolor": "#2a3f5f",
           "arrowhead": 0,
           "arrowwidth": 1
          },
          "autotypenumbers": "strict",
          "coloraxis": {
           "colorbar": {
            "outlinewidth": 0,
            "ticks": ""
           }
          },
          "colorscale": {
           "diverging": [
            [
             0,
             "#8e0152"
            ],
            [
             0.1,
             "#c51b7d"
            ],
            [
             0.2,
             "#de77ae"
            ],
            [
             0.3,
             "#f1b6da"
            ],
            [
             0.4,
             "#fde0ef"
            ],
            [
             0.5,
             "#f7f7f7"
            ],
            [
             0.6,
             "#e6f5d0"
            ],
            [
             0.7,
             "#b8e186"
            ],
            [
             0.8,
             "#7fbc41"
            ],
            [
             0.9,
             "#4d9221"
            ],
            [
             1,
             "#276419"
            ]
           ],
           "sequential": [
            [
             0,
             "#0d0887"
            ],
            [
             0.1111111111111111,
             "#46039f"
            ],
            [
             0.2222222222222222,
             "#7201a8"
            ],
            [
             0.3333333333333333,
             "#9c179e"
            ],
            [
             0.4444444444444444,
             "#bd3786"
            ],
            [
             0.5555555555555556,
             "#d8576b"
            ],
            [
             0.6666666666666666,
             "#ed7953"
            ],
            [
             0.7777777777777778,
             "#fb9f3a"
            ],
            [
             0.8888888888888888,
             "#fdca26"
            ],
            [
             1,
             "#f0f921"
            ]
           ],
           "sequentialminus": [
            [
             0,
             "#0d0887"
            ],
            [
             0.1111111111111111,
             "#46039f"
            ],
            [
             0.2222222222222222,
             "#7201a8"
            ],
            [
             0.3333333333333333,
             "#9c179e"
            ],
            [
             0.4444444444444444,
             "#bd3786"
            ],
            [
             0.5555555555555556,
             "#d8576b"
            ],
            [
             0.6666666666666666,
             "#ed7953"
            ],
            [
             0.7777777777777778,
             "#fb9f3a"
            ],
            [
             0.8888888888888888,
             "#fdca26"
            ],
            [
             1,
             "#f0f921"
            ]
           ]
          },
          "colorway": [
           "#636efa",
           "#EF553B",
           "#00cc96",
           "#ab63fa",
           "#FFA15A",
           "#19d3f3",
           "#FF6692",
           "#B6E880",
           "#FF97FF",
           "#FECB52"
          ],
          "font": {
           "color": "#2a3f5f"
          },
          "geo": {
           "bgcolor": "white",
           "lakecolor": "white",
           "landcolor": "#E5ECF6",
           "showlakes": true,
           "showland": true,
           "subunitcolor": "white"
          },
          "hoverlabel": {
           "align": "left"
          },
          "hovermode": "closest",
          "mapbox": {
           "style": "light"
          },
          "paper_bgcolor": "white",
          "plot_bgcolor": "#E5ECF6",
          "polar": {
           "angularaxis": {
            "gridcolor": "white",
            "linecolor": "white",
            "ticks": ""
           },
           "bgcolor": "#E5ECF6",
           "radialaxis": {
            "gridcolor": "white",
            "linecolor": "white",
            "ticks": ""
           }
          },
          "scene": {
           "xaxis": {
            "backgroundcolor": "#E5ECF6",
            "gridcolor": "white",
            "gridwidth": 2,
            "linecolor": "white",
            "showbackground": true,
            "ticks": "",
            "zerolinecolor": "white"
           },
           "yaxis": {
            "backgroundcolor": "#E5ECF6",
            "gridcolor": "white",
            "gridwidth": 2,
            "linecolor": "white",
            "showbackground": true,
            "ticks": "",
            "zerolinecolor": "white"
           },
           "zaxis": {
            "backgroundcolor": "#E5ECF6",
            "gridcolor": "white",
            "gridwidth": 2,
            "linecolor": "white",
            "showbackground": true,
            "ticks": "",
            "zerolinecolor": "white"
           }
          },
          "shapedefaults": {
           "line": {
            "color": "#2a3f5f"
           }
          },
          "ternary": {
           "aaxis": {
            "gridcolor": "white",
            "linecolor": "white",
            "ticks": ""
           },
           "baxis": {
            "gridcolor": "white",
            "linecolor": "white",
            "ticks": ""
           },
           "bgcolor": "#E5ECF6",
           "caxis": {
            "gridcolor": "white",
            "linecolor": "white",
            "ticks": ""
           }
          },
          "title": {
           "x": 0.05
          },
          "xaxis": {
           "automargin": true,
           "gridcolor": "white",
           "linecolor": "white",
           "ticks": "",
           "title": {
            "standoff": 15
           },
           "zerolinecolor": "white",
           "zerolinewidth": 2
          },
          "yaxis": {
           "automargin": true,
           "gridcolor": "white",
           "linecolor": "white",
           "ticks": "",
           "title": {
            "standoff": 15
           },
           "zerolinecolor": "white",
           "zerolinewidth": 2
          }
         }
        },
        "title": {
         "font": {
          "size": 24
         },
         "text": "Gender Distribution of Buyers"
        }
       }
      }
     },
     "metadata": {},
     "output_type": "display_data"
    }
   ],
   "source": [
    "gender_count = vestiaire_clean['product_gender_target'].value_counts()\n",
    "\n",
    "fig_gender = go.Figure(data=[go.Pie(labels=gender_count.index, values=gender_count.values, \n",
    "                             hoverinfo='label+value', textinfo='percent',\n",
    "                             textfont_size=20, marker=dict( \n",
    "                             line=dict(color='#000000', width=2)))])\n",
    "\n",
    "fig_gender.update_layout(title_text='Gender Distribution of Buyers', title_font_size=24)"
   ]
  },
  {
   "cell_type": "code",
   "execution_count": 16,
   "metadata": {},
   "outputs": [
    {
     "name": "stdout",
     "output_type": "stream",
     "text": [
      "Plotly graph saved as plotly_gender_graph.html\n"
     ]
    }
   ],
   "source": [
    "# Get the HTML string for the Plotly graph\n",
    "plotly_gender_html = fig_gender.to_html(full_html=False, include_plotlyjs='cdn')\n",
    "\n",
    "# Save the Plotly graph as an HTML file\n",
    "file_path = \"plotly_gender_graph.html\"\n",
    "try:\n",
    "    with open(file_path, \"w\") as file:\n",
    "        file.write(plotly_gender_html)\n",
    "    print(f\"Plotly graph saved as {file_path}\")\n",
    "except IOError as e:\n",
    "    print(f\"Error saving Plotly graph: {e}\")"
   ]
  },
  {
   "cell_type": "code",
   "execution_count": 17,
   "metadata": {},
   "outputs": [
    {
     "name": "stdout",
     "output_type": "stream",
     "text": [
      "['Italy', 'France', 'United Kingdom', 'Germany', 'United States', 'Spain', 'Poland', 'Romania', 'Sweden', 'Greece', 'Bulgaria', 'Netherlands', 'Belgium', 'Austria', 'Portugal', 'Australia', 'Hong Kong', 'Ireland', 'Denmark', 'Lithuania', 'Switzerland', 'Finland', 'Latvia', 'Croatia', 'Czech Republic', 'Hungary', 'Monaco', 'Cyprus', 'Slovakia', 'Canada', 'Luxembourg', 'Singapore', 'Estonia', 'Slovenia', 'Japan', 'United Arab Emirates', 'Malaysia', 'South Korea', 'Philippines', 'Malta', 'Turkey', 'China', 'Qatar', 'Kazakhstan', 'Lebanon', 'Israel', 'Indonesia', 'Bahrain', 'Norway', 'Saudi Arabia', 'New Zealand']\n",
      "51\n"
     ]
    }
   ],
   "source": [
    "# Aggregate the data to get the count of sellers per country\n",
    "seller_counts = vestiaire_clean['seller_country'].value_counts().reset_index()\n",
    "seller_counts.columns = ['country', 'seller_count']\n",
    "\n",
    "# Create a list of Countries with Sellers\n",
    "country_list = seller_counts['country'].tolist()\n",
    "print(country_list)\n",
    "print(len(country_list))\n"
   ]
  },
  {
   "cell_type": "code",
   "execution_count": 18,
   "metadata": {},
   "outputs": [
    {
     "name": "stdout",
     "output_type": "stream",
     "text": [
      "{'United Arab Emirates': {'lat': 23.424076, 'lon': 53.847818}, 'Austria': {'lat': 47.516231, 'lon': 14.550072}, 'Australia': {'lat': -25.274398, 'lon': 133.775136}, 'Belgium': {'lat': 50.503887, 'lon': 4.469936}, 'Bulgaria': {'lat': 42.733883, 'lon': 25.48583}, 'Bahrain': {'lat': 25.930414, 'lon': 50.637772}, 'Canada': {'lat': 56.130366, 'lon': -106.346771}, 'Switzerland': {'lat': 46.818188, 'lon': 8.227512}, 'China': {'lat': 35.86166, 'lon': 104.195397}, 'Cyprus': {'lat': 35.126413, 'lon': 33.429859}, 'Czech Republic': {'lat': 49.817492, 'lon': 15.472962}, 'Germany': {'lat': 51.165691, 'lon': 10.451526}, 'Denmark': {'lat': 56.26392, 'lon': 9.501785}, 'Estonia': {'lat': 58.595272, 'lon': 25.013607}, 'Spain': {'lat': 40.463667, 'lon': -3.74922}, 'Finland': {'lat': 61.92411, 'lon': 25.748151}, 'France': {'lat': 46.227638, 'lon': 2.213749}, 'United Kingdom': {'lat': 55.378051, 'lon': -3.435973}, 'Greece': {'lat': 39.074208, 'lon': 21.824312}, 'Hong Kong': {'lat': 22.396428, 'lon': 114.109497}, 'Croatia': {'lat': 45.1, 'lon': 15.2}, 'Hungary': {'lat': 47.162494, 'lon': 19.503304}, 'Indonesia': {'lat': -0.789275, 'lon': 113.921327}, 'Ireland': {'lat': 53.41291, 'lon': -8.24389}, 'Israel': {'lat': 31.046051, 'lon': 34.851612}, 'Italy': {'lat': 41.87194, 'lon': 12.56738}, 'Japan': {'lat': 36.204824, 'lon': 138.252924}, 'South Korea': {'lat': 35.907757, 'lon': 127.766922}, 'Kazakhstan': {'lat': 48.019573, 'lon': 66.923684}, 'Lebanon': {'lat': 33.854721, 'lon': 35.862285}, 'Lithuania': {'lat': 55.169438, 'lon': 23.881275}, 'Luxembourg': {'lat': 49.815273, 'lon': 6.129583}, 'Latvia': {'lat': 56.879635, 'lon': 24.603189}, 'Monaco': {'lat': 43.750298, 'lon': 7.412841}, 'Malta': {'lat': 35.937496, 'lon': 14.375416}, 'Malaysia': {'lat': 4.210484, 'lon': 101.975766}, 'Netherlands': {'lat': 52.132633, 'lon': 5.291266}, 'Norway': {'lat': 60.472024, 'lon': 8.468946}, 'New Zealand': {'lat': -40.900557, 'lon': 174.885971}, 'Philippines': {'lat': 12.879721, 'lon': 121.774017}, 'Poland': {'lat': 51.919438, 'lon': 19.145136}, 'Portugal': {'lat': 39.399872, 'lon': -8.224454}, 'Qatar': {'lat': 25.354826, 'lon': 51.183884}, 'Romania': {'lat': 45.943161, 'lon': 24.96676}, 'Saudi Arabia': {'lat': 23.885942, 'lon': 45.079162}, 'Sweden': {'lat': 60.128161, 'lon': 18.643501}, 'Singapore': {'lat': 1.352083, 'lon': 103.819836}, 'Slovenia': {'lat': 46.151241, 'lon': 14.995463}, 'Slovakia': {'lat': 48.669026, 'lon': 19.699024}, 'Turkey': {'lat': 38.963745, 'lon': 35.243322}, 'United States': {'lat': 37.09024, 'lon': -95.712891}}\n",
      "The lengths match!\n"
     ]
    }
   ],
   "source": [
    "# Read the CSV file containing country coordinates\n",
    "country_coords_file = pd.read_csv('datasets\\country_coords.csv')\n",
    "\n",
    "# Filter the DataFrame to only include countries in country_list\n",
    "filtered_coords_df = country_coords_file[country_coords_file['country'].isin(country_list)]\n",
    "\n",
    "# Create the dictionary\n",
    "country_coords = {\n",
    "    row['country']: {'lat': row['lat'], 'lon': row['lon']}\n",
    "    for _, row in filtered_coords_df.iterrows()\n",
    "}\n",
    "\n",
    "# Display the resulting dictionary\n",
    "print(country_coords)\n",
    "\n",
    "# Check if the lengths match\n",
    "if len(country_coords) == len(country_list):\n",
    "    print(\"The lengths match!\")\n",
    "else:\n",
    "    print(f\"The lengths do not match. Dictionary length: {len(country_coords)}, List length: {len(country_list)}\")"
   ]
  },
  {
   "cell_type": "code",
   "execution_count": 19,
   "metadata": {},
   "outputs": [],
   "source": [
    "# Create the Coordinate DataFrame\n",
    "coords_df = pd.DataFrame.from_dict(country_coords, orient='index').reset_index()\n",
    "coords_df.columns = ['country', 'lat', 'lon']\n",
    "\n",
    "# Merge the data\n",
    "seller_location_data = pd.merge(seller_counts, coords_df, on='country')"
   ]
  },
  {
   "cell_type": "code",
   "execution_count": 20,
   "metadata": {},
   "outputs": [],
   "source": [
    "# Create Bubble Map\n",
    "fig_seller_loc = px.scatter_geo(\n",
    "    seller_location_data,\n",
    "    lat='lat',\n",
    "    lon='lon',\n",
    "    size='seller_count',\n",
    "    hover_name='country',\n",
    "    size_max=50,\n",
    "    projection=\"natural earth\",\n",
    "    title='Seller Locations on Vestiaire Platform'\n",
    ")\n"
   ]
  },
  {
   "cell_type": "code",
   "execution_count": 21,
   "metadata": {},
   "outputs": [],
   "source": [
    "# Get the HTML string for the Plotly graph\n",
    "plotly_seller_loc_html = fig_seller_loc.to_html(full_html=False, include_plotlyjs='cdn')\n",
    "\n",
    "# Save the Plotly graph as an HTML file (optional)\n",
    "with open(\"plotly_graph.html\", \"w\") as file:\n",
    "    file.write(plotly_seller_loc_html)"
   ]
  },
  {
   "cell_type": "markdown",
   "metadata": {},
   "source": [
    "## Russell's Visualizations and Transformations"
   ]
  },
  {
   "cell_type": "markdown",
   "metadata": {},
   "source": [
    "### Seasonal sales of products by material"
   ]
  },
  {
   "cell_type": "code",
   "execution_count": 22,
   "metadata": {},
   "outputs": [
    {
     "data": {
      "text/html": [
       "<div>\n",
       "<style scoped>\n",
       "    .dataframe tbody tr th:only-of-type {\n",
       "        vertical-align: middle;\n",
       "    }\n",
       "\n",
       "    .dataframe tbody tr th {\n",
       "        vertical-align: top;\n",
       "    }\n",
       "\n",
       "    .dataframe thead th {\n",
       "        text-align: right;\n",
       "    }\n",
       "</style>\n",
       "<table border=\"1\" class=\"dataframe\">\n",
       "  <thead>\n",
       "    <tr style=\"text-align: right;\">\n",
       "      <th></th>\n",
       "      <th>product_season</th>\n",
       "      <th>product_material</th>\n",
       "      <th>count</th>\n",
       "    </tr>\n",
       "  </thead>\n",
       "  <tbody>\n",
       "    <tr>\n",
       "      <th>0</th>\n",
       "      <td>All seasons</td>\n",
       "      <td>Alligator</td>\n",
       "      <td>1</td>\n",
       "    </tr>\n",
       "    <tr>\n",
       "      <th>1</th>\n",
       "      <td>All seasons</td>\n",
       "      <td>Cashmere</td>\n",
       "      <td>1</td>\n",
       "    </tr>\n",
       "    <tr>\n",
       "      <th>2</th>\n",
       "      <td>All seasons</td>\n",
       "      <td>Cotton</td>\n",
       "      <td>2640</td>\n",
       "    </tr>\n",
       "    <tr>\n",
       "      <th>3</th>\n",
       "      <td>All seasons</td>\n",
       "      <td>Cotton - elasthane</td>\n",
       "      <td>136</td>\n",
       "    </tr>\n",
       "    <tr>\n",
       "      <th>4</th>\n",
       "      <td>All seasons</td>\n",
       "      <td>Crocodile</td>\n",
       "      <td>1</td>\n",
       "    </tr>\n",
       "  </tbody>\n",
       "</table>\n",
       "</div>"
      ],
      "text/plain": [
       "  product_season    product_material  count\n",
       "0    All seasons           Alligator      1\n",
       "1    All seasons            Cashmere      1\n",
       "2    All seasons              Cotton   2640\n",
       "3    All seasons  Cotton - elasthane    136\n",
       "4    All seasons           Crocodile      1"
      ]
     },
     "execution_count": 22,
     "metadata": {},
     "output_type": "execute_result"
    }
   ],
   "source": [
    "#Gathering and Formatting the Data\n",
    "clothing_df = vestiaire_clean[vestiaire_clean['product_category'].isin(['Women Clothing', 'Men Clothing'])]\n",
    "\n",
    "#The Cloth material doesnt make much sense as many of the materials are cloth so I am removing it from our count. (That material only occured a few times in the spring/summer season anyway so we wont lose much data.)\n",
    "clothing_df = clothing_df[clothing_df['product_material'] != 'Cloth']\n",
    "\n",
    "#Counting the quantity of clothing sold for each material\n",
    "seasonal_materials_df = clothing_df.groupby(['product_season', 'product_material']).size().reset_index(name='count')\n",
    "\n",
    "seasonal_materials_df.head()"
   ]
  },
  {
   "cell_type": "code",
   "execution_count": 23,
   "metadata": {},
   "outputs": [
    {
     "data": {
      "image/png": "[encoded data removed]",
      "text/plain": [
       "<Figure size 1000x600 with 1 Axes>"
      ]
     },
     "metadata": {},
     "output_type": "display_data"
    },
    {
     "data": {
      "image/png": "[encoded data removed]",
      "text/plain": [
       "<Figure size 1000x600 with 1 Axes>"
      ]
     },
     "metadata": {},
     "output_type": "display_data"
    },
    {
     "data": {
      "image/png": "[encoded data removed]",
      "text/plain": [
       "<Figure size 1000x600 with 1 Axes>"
      ]
     },
     "metadata": {},
     "output_type": "display_data"
    }
   ],
   "source": [
    "# Set the style for the plots\n",
    "sns.set(style=\"whitegrid\")\n",
    "\n",
    "# List of seasons\n",
    "seasons = ['All seasons', 'Autumn / Winter', 'Spring / Summer']\n",
    "\n",
    "# Create a bar plot for each season\n",
    "for season in seasons:\n",
    "    plt.figure(figsize=(10, 6))\n",
    "    season_data = seasonal_materials_df[seasonal_materials_df['product_season'] == season]\n",
    "    sns.barplot(x='count', y='product_material', data=season_data, palette='viridis')\n",
    "    plt.title(f'Material Usage in {season}')\n",
    "    plt.xlabel('Count')\n",
    "    plt.ylabel('Material')\n",
    "    plt.show()"
   ]
  },
  {
   "cell_type": "markdown",
   "metadata": {},
   "source": [
    "**Annalysis**\\\n",
    "We can see that it is best to sell Wool in the Autumn/Winter, Linen in the Spring/Summer, and of course Cotton is popular in any season."
   ]
  },
  {
   "cell_type": "markdown",
   "metadata": {},
   "source": [
    "### Untitled Price/Margin Visualization"
   ]
  },
  {
   "cell_type": "code",
   "execution_count": 24,
   "metadata": {},
   "outputs": [
    {
     "data": {
      "text/html": [
       "<div>\n",
       "<style scoped>\n",
       "    .dataframe tbody tr th:only-of-type {\n",
       "        vertical-align: middle;\n",
       "    }\n",
       "\n",
       "    .dataframe tbody tr th {\n",
       "        vertical-align: top;\n",
       "    }\n",
       "\n",
       "    .dataframe thead th {\n",
       "        text-align: right;\n",
       "    }\n",
       "</style>\n",
       "<table border=\"1\" class=\"dataframe\">\n",
       "  <thead>\n",
       "    <tr style=\"text-align: right;\">\n",
       "      <th></th>\n",
       "      <th>product_id</th>\n",
       "      <th>product_type</th>\n",
       "      <th>product_name</th>\n",
       "      <th>product_gender_target</th>\n",
       "      <th>product_category</th>\n",
       "      <th>product_season</th>\n",
       "      <th>product_condition</th>\n",
       "      <th>product_like_count</th>\n",
       "      <th>sold</th>\n",
       "      <th>brand_name</th>\n",
       "      <th>product_material</th>\n",
       "      <th>product_color</th>\n",
       "      <th>price_usd</th>\n",
       "      <th>seller_price</th>\n",
       "      <th>seller_earning</th>\n",
       "      <th>seller_id</th>\n",
       "      <th>seller_country</th>\n",
       "      <th>seller_products_sold</th>\n",
       "      <th>seller_num_products_listed</th>\n",
       "      <th>profit_percentage</th>\n",
       "    </tr>\n",
       "  </thead>\n",
       "  <tbody>\n",
       "    <tr>\n",
       "      <th>0</th>\n",
       "      <td>43247626</td>\n",
       "      <td>Wool mini skirt</td>\n",
       "      <td>Wool mini skirt Miu Miu Grey size S Internatio...</td>\n",
       "      <td>Women</td>\n",
       "      <td>Women Clothing</td>\n",
       "      <td>Autumn / Winter</td>\n",
       "      <td>Never worn</td>\n",
       "      <td>34</td>\n",
       "      <td>True</td>\n",
       "      <td>Miu Miu</td>\n",
       "      <td>Wool</td>\n",
       "      <td>Grey</td>\n",
       "      <td>272.92</td>\n",
       "      <td>223.65</td>\n",
       "      <td>216.94</td>\n",
       "      <td>25775970</td>\n",
       "      <td>Germany</td>\n",
       "      <td>3</td>\n",
       "      <td>14</td>\n",
       "      <td>79.488495</td>\n",
       "    </tr>\n",
       "    <tr>\n",
       "      <th>1</th>\n",
       "      <td>43246247</td>\n",
       "      <td>Wool suit jacket</td>\n",
       "      <td>Wool suit jacket Dior Grey size 40 FR in Wool</td>\n",
       "      <td>Women</td>\n",
       "      <td>Women Clothing</td>\n",
       "      <td>Autumn / Winter</td>\n",
       "      <td>Very good condition</td>\n",
       "      <td>2</td>\n",
       "      <td>True</td>\n",
       "      <td>Dior</td>\n",
       "      <td>Wool</td>\n",
       "      <td>Grey</td>\n",
       "      <td>437.97</td>\n",
       "      <td>358.91</td>\n",
       "      <td>312.25</td>\n",
       "      <td>2709130</td>\n",
       "      <td>Italy</td>\n",
       "      <td>172</td>\n",
       "      <td>6</td>\n",
       "      <td>71.294838</td>\n",
       "    </tr>\n",
       "    <tr>\n",
       "      <th>2</th>\n",
       "      <td>43246087</td>\n",
       "      <td>Silk maxi dress</td>\n",
       "      <td>Silk maxi dress La Perla Black size 44 IT in S...</td>\n",
       "      <td>Women</td>\n",
       "      <td>Women Clothing</td>\n",
       "      <td>All seasons</td>\n",
       "      <td>Never worn, with tag</td>\n",
       "      <td>4</td>\n",
       "      <td>True</td>\n",
       "      <td>La Perla</td>\n",
       "      <td>Silk</td>\n",
       "      <td>Black</td>\n",
       "      <td>444.74</td>\n",
       "      <td>370.62</td>\n",
       "      <td>322.44</td>\n",
       "      <td>6048767</td>\n",
       "      <td>Germany</td>\n",
       "      <td>5</td>\n",
       "      <td>15</td>\n",
       "      <td>72.500787</td>\n",
       "    </tr>\n",
       "    <tr>\n",
       "      <th>3</th>\n",
       "      <td>43244097</td>\n",
       "      <td>Trousers</td>\n",
       "      <td>Trousers Gucci Beige size M International in C...</td>\n",
       "      <td>Women</td>\n",
       "      <td>Women Clothing</td>\n",
       "      <td>All seasons</td>\n",
       "      <td>Very good condition</td>\n",
       "      <td>4</td>\n",
       "      <td>True</td>\n",
       "      <td>Gucci</td>\n",
       "      <td>Cotton</td>\n",
       "      <td>Beige</td>\n",
       "      <td>145.75</td>\n",
       "      <td>119.44</td>\n",
       "      <td>103.91</td>\n",
       "      <td>10050555</td>\n",
       "      <td>Spain</td>\n",
       "      <td>11</td>\n",
       "      <td>15</td>\n",
       "      <td>71.293310</td>\n",
       "    </tr>\n",
       "    <tr>\n",
       "      <th>4</th>\n",
       "      <td>43246432</td>\n",
       "      <td>Lingerie set</td>\n",
       "      <td>Lingerie set Agent Provocateur Black in Polyam...</td>\n",
       "      <td>Women</td>\n",
       "      <td>Women Clothing</td>\n",
       "      <td>All seasons</td>\n",
       "      <td>Very good condition</td>\n",
       "      <td>0</td>\n",
       "      <td>True</td>\n",
       "      <td>Agent Provocateur</td>\n",
       "      <td>Polyamide</td>\n",
       "      <td>Black</td>\n",
       "      <td>55.37</td>\n",
       "      <td>46.14</td>\n",
       "      <td>42.40</td>\n",
       "      <td>5594414</td>\n",
       "      <td>United Kingdom</td>\n",
       "      <td>47</td>\n",
       "      <td>13</td>\n",
       "      <td>76.575763</td>\n",
       "    </tr>\n",
       "  </tbody>\n",
       "</table>\n",
       "</div>"
      ],
      "text/plain": [
       "   product_id      product_type  \\\n",
       "0    43247626   Wool mini skirt   \n",
       "1    43246247  Wool suit jacket   \n",
       "2    43246087   Silk maxi dress   \n",
       "3    43244097          Trousers   \n",
       "4    43246432      Lingerie set   \n",
       "\n",
       "                                        product_name product_gender_target  \\\n",
       "0  Wool mini skirt Miu Miu Grey size S Internatio...                 Women   \n",
       "1     Wool suit jacket Dior Grey size 40 FR in Wool                  Women   \n",
       "2  Silk maxi dress La Perla Black size 44 IT in S...                 Women   \n",
       "3  Trousers Gucci Beige size M International in C...                 Women   \n",
       "4  Lingerie set Agent Provocateur Black in Polyam...                 Women   \n",
       "\n",
       "  product_category   product_season     product_condition  product_like_count  \\\n",
       "0   Women Clothing  Autumn / Winter            Never worn                  34   \n",
       "1   Women Clothing  Autumn / Winter   Very good condition                   2   \n",
       "2   Women Clothing      All seasons  Never worn, with tag                   4   \n",
       "3   Women Clothing      All seasons   Very good condition                   4   \n",
       "4   Women Clothing      All seasons   Very good condition                   0   \n",
       "\n",
       "   sold         brand_name product_material product_color  price_usd  \\\n",
       "0  True            Miu Miu             Wool          Grey     272.92   \n",
       "1  True               Dior             Wool          Grey     437.97   \n",
       "2  True           La Perla             Silk         Black     444.74   \n",
       "3  True              Gucci           Cotton         Beige     145.75   \n",
       "4  True  Agent Provocateur        Polyamide         Black      55.37   \n",
       "\n",
       "   seller_price  seller_earning  seller_id  seller_country  \\\n",
       "0        223.65          216.94   25775970         Germany   \n",
       "1        358.91          312.25    2709130           Italy   \n",
       "2        370.62          322.44    6048767         Germany   \n",
       "3        119.44          103.91   10050555           Spain   \n",
       "4         46.14           42.40    5594414  United Kingdom   \n",
       "\n",
       "   seller_products_sold  seller_num_products_listed  profit_percentage  \n",
       "0                     3                          14          79.488495  \n",
       "1                   172                           6          71.294838  \n",
       "2                     5                          15          72.500787  \n",
       "3                    11                          15          71.293310  \n",
       "4                    47                          13          76.575763  "
      ]
     },
     "metadata": {},
     "output_type": "display_data"
    },
    {
     "data": {
      "text/html": [
       "<div>\n",
       "<style scoped>\n",
       "    .dataframe tbody tr th:only-of-type {\n",
       "        vertical-align: middle;\n",
       "    }\n",
       "\n",
       "    .dataframe tbody tr th {\n",
       "        vertical-align: top;\n",
       "    }\n",
       "\n",
       "    .dataframe thead th {\n",
       "        text-align: right;\n",
       "    }\n",
       "</style>\n",
       "<table border=\"1\" class=\"dataframe\">\n",
       "  <thead>\n",
       "    <tr style=\"text-align: right;\">\n",
       "      <th></th>\n",
       "      <th>product_id</th>\n",
       "      <th>product_type</th>\n",
       "      <th>product_name</th>\n",
       "      <th>product_gender_target</th>\n",
       "      <th>product_category</th>\n",
       "      <th>product_season</th>\n",
       "      <th>product_condition</th>\n",
       "      <th>product_like_count</th>\n",
       "      <th>sold</th>\n",
       "      <th>brand_name</th>\n",
       "      <th>product_material</th>\n",
       "      <th>product_color</th>\n",
       "      <th>price_usd</th>\n",
       "      <th>seller_price</th>\n",
       "      <th>seller_earning</th>\n",
       "      <th>seller_id</th>\n",
       "      <th>seller_country</th>\n",
       "      <th>seller_products_sold</th>\n",
       "      <th>seller_num_products_listed</th>\n",
       "      <th>profit_percentage</th>\n",
       "    </tr>\n",
       "  </thead>\n",
       "  <tbody>\n",
       "    <tr>\n",
       "      <th>13731</th>\n",
       "      <td>41542694</td>\n",
       "      <td>Heels</td>\n",
       "      <td>Heels Prada Brown size 37 IT in Suede</td>\n",
       "      <td>Women</td>\n",
       "      <td>Women Shoes</td>\n",
       "      <td>All seasons</td>\n",
       "      <td>Good condition</td>\n",
       "      <td>7</td>\n",
       "      <td>True</td>\n",
       "      <td>Prada</td>\n",
       "      <td>Suede</td>\n",
       "      <td>Brown</td>\n",
       "      <td>29.16</td>\n",
       "      <td>24.30</td>\n",
       "      <td>10.07</td>\n",
       "      <td>22898175</td>\n",
       "      <td>Switzerland</td>\n",
       "      <td>179</td>\n",
       "      <td>44</td>\n",
       "      <td>34.533608</td>\n",
       "    </tr>\n",
       "    <tr>\n",
       "      <th>13732</th>\n",
       "      <td>41540056</td>\n",
       "      <td>Simple pump patent leather heels</td>\n",
       "      <td>Simple pump patent leather heels Christian Lou...</td>\n",
       "      <td>Women</td>\n",
       "      <td>Women Shoes</td>\n",
       "      <td>All seasons</td>\n",
       "      <td>Very good condition</td>\n",
       "      <td>3</td>\n",
       "      <td>True</td>\n",
       "      <td>Christian Louboutin</td>\n",
       "      <td>Patent leather</td>\n",
       "      <td>Black</td>\n",
       "      <td>332.28</td>\n",
       "      <td>276.90</td>\n",
       "      <td>276.90</td>\n",
       "      <td>16266013</td>\n",
       "      <td>France</td>\n",
       "      <td>1</td>\n",
       "      <td>0</td>\n",
       "      <td>83.333333</td>\n",
       "    </tr>\n",
       "    <tr>\n",
       "      <th>13733</th>\n",
       "      <td>41503237</td>\n",
       "      <td>Tweed trainers</td>\n",
       "      <td>Tweed trainers Chanel Black size 39 EU in Tweed</td>\n",
       "      <td>Women</td>\n",
       "      <td>Women Shoes</td>\n",
       "      <td>All seasons</td>\n",
       "      <td>Never worn</td>\n",
       "      <td>24</td>\n",
       "      <td>True</td>\n",
       "      <td>Chanel</td>\n",
       "      <td>Tweed</td>\n",
       "      <td>Black</td>\n",
       "      <td>447.90</td>\n",
       "      <td>373.25</td>\n",
       "      <td>324.73</td>\n",
       "      <td>3180346</td>\n",
       "      <td>Italy</td>\n",
       "      <td>11</td>\n",
       "      <td>1</td>\n",
       "      <td>72.500558</td>\n",
       "    </tr>\n",
       "    <tr>\n",
       "      <th>13734</th>\n",
       "      <td>41540832</td>\n",
       "      <td>Leather heels</td>\n",
       "      <td>Leather heels Pollini Black size 38 IT in Leat...</td>\n",
       "      <td>Women</td>\n",
       "      <td>Women Shoes</td>\n",
       "      <td>All seasons</td>\n",
       "      <td>Never worn</td>\n",
       "      <td>2</td>\n",
       "      <td>True</td>\n",
       "      <td>Pollini</td>\n",
       "      <td>Leather</td>\n",
       "      <td>Black</td>\n",
       "      <td>51.12</td>\n",
       "      <td>42.60</td>\n",
       "      <td>28.76</td>\n",
       "      <td>19750106</td>\n",
       "      <td>Italy</td>\n",
       "      <td>62</td>\n",
       "      <td>184</td>\n",
       "      <td>56.259781</td>\n",
       "    </tr>\n",
       "    <tr>\n",
       "      <th>13735</th>\n",
       "      <td>41540732</td>\n",
       "      <td>Leather heels</td>\n",
       "      <td>Leather heels Ninamounah Black size 39 EU in L...</td>\n",
       "      <td>Women</td>\n",
       "      <td>Women Shoes</td>\n",
       "      <td>All seasons</td>\n",
       "      <td>Very good condition</td>\n",
       "      <td>21</td>\n",
       "      <td>True</td>\n",
       "      <td>Ninamounah</td>\n",
       "      <td>Leather</td>\n",
       "      <td>Black</td>\n",
       "      <td>97.13</td>\n",
       "      <td>80.94</td>\n",
       "      <td>80.94</td>\n",
       "      <td>5992355</td>\n",
       "      <td>Estonia</td>\n",
       "      <td>1</td>\n",
       "      <td>1</td>\n",
       "      <td>83.331617</td>\n",
       "    </tr>\n",
       "  </tbody>\n",
       "</table>\n",
       "</div>"
      ],
      "text/plain": [
       "       product_id                      product_type  \\\n",
       "13731    41542694                             Heels   \n",
       "13732    41540056  Simple pump patent leather heels   \n",
       "13733    41503237                    Tweed trainers   \n",
       "13734    41540832                     Leather heels   \n",
       "13735    41540732                     Leather heels   \n",
       "\n",
       "                                            product_name  \\\n",
       "13731             Heels Prada Brown size 37 IT in Suede    \n",
       "13732  Simple pump patent leather heels Christian Lou...   \n",
       "13733   Tweed trainers Chanel Black size 39 EU in Tweed    \n",
       "13734  Leather heels Pollini Black size 38 IT in Leat...   \n",
       "13735  Leather heels Ninamounah Black size 39 EU in L...   \n",
       "\n",
       "      product_gender_target product_category product_season  \\\n",
       "13731                 Women      Women Shoes    All seasons   \n",
       "13732                 Women      Women Shoes    All seasons   \n",
       "13733                 Women      Women Shoes    All seasons   \n",
       "13734                 Women      Women Shoes    All seasons   \n",
       "13735                 Women      Women Shoes    All seasons   \n",
       "\n",
       "         product_condition  product_like_count  sold           brand_name  \\\n",
       "13731       Good condition                   7  True                Prada   \n",
       "13732  Very good condition                   3  True  Christian Louboutin   \n",
       "13733           Never worn                  24  True               Chanel   \n",
       "13734           Never worn                   2  True              Pollini   \n",
       "13735  Very good condition                  21  True           Ninamounah   \n",
       "\n",
       "      product_material product_color  price_usd  seller_price  seller_earning  \\\n",
       "13731            Suede         Brown      29.16         24.30           10.07   \n",
       "13732   Patent leather         Black     332.28        276.90          276.90   \n",
       "13733            Tweed         Black     447.90        373.25          324.73   \n",
       "13734          Leather         Black      51.12         42.60           28.76   \n",
       "13735          Leather         Black      97.13         80.94           80.94   \n",
       "\n",
       "       seller_id seller_country  seller_products_sold  \\\n",
       "13731   22898175    Switzerland                   179   \n",
       "13732   16266013         France                     1   \n",
       "13733    3180346          Italy                    11   \n",
       "13734   19750106          Italy                    62   \n",
       "13735    5992355        Estonia                     1   \n",
       "\n",
       "       seller_num_products_listed  profit_percentage  \n",
       "13731                          44          34.533608  \n",
       "13732                           0          83.333333  \n",
       "13733                           1          72.500558  \n",
       "13734                         184          56.259781  \n",
       "13735                           1          83.331617  "
      ]
     },
     "metadata": {},
     "output_type": "display_data"
    }
   ],
   "source": [
    "# Ensure the DataFrame contains the necessary columns\n",
    "if 'price_usd' in vestiaire_clean.columns and 'seller_earning' in vestiaire_clean.columns:\n",
    "    # Calculate the percentage of profit\n",
    "    vestiaire_clean['profit_percentage'] = (vestiaire_clean['seller_earning'] / vestiaire_clean['price_usd']) * 100\n",
    "\n",
    "    # Handle potential division by zero errors by replacing infinities with NaN\n",
    "    vestiaire_clean['profit_percentage'].replace([float('inf'), -float('inf')], float('nan'), inplace=True)\n",
    "else:\n",
    "    print(\"The DataFrame does not contain the necessary columns 'price_usd' and 'seller_earning'.\")\n",
    "\n",
    "display(vestiaire_clean.head())\n",
    "display(vestiaire_clean.tail())"
   ]
  },
  {
   "cell_type": "code",
   "execution_count": 25,
   "metadata": {},
   "outputs": [
    {
     "data": {
      "text/html": [
       "<div>\n",
       "<style scoped>\n",
       "    .dataframe tbody tr th:only-of-type {\n",
       "        vertical-align: middle;\n",
       "    }\n",
       "\n",
       "    .dataframe tbody tr th {\n",
       "        vertical-align: top;\n",
       "    }\n",
       "\n",
       "    .dataframe thead th {\n",
       "        text-align: right;\n",
       "    }\n",
       "</style>\n",
       "<table border=\"1\" class=\"dataframe\">\n",
       "  <thead>\n",
       "    <tr style=\"text-align: right;\">\n",
       "      <th></th>\n",
       "      <th>product_name</th>\n",
       "      <th>brand_name</th>\n",
       "      <th>product_season</th>\n",
       "      <th>price_usd</th>\n",
       "      <th>seller_earning</th>\n",
       "      <th>profit_percentage</th>\n",
       "      <th>product_color</th>\n",
       "    </tr>\n",
       "  </thead>\n",
       "  <tbody>\n",
       "    <tr>\n",
       "      <th>8</th>\n",
       "      <td>Leather purse Louis Vuitton Brown in Leather</td>\n",
       "      <td>Louis Vuitton</td>\n",
       "      <td>All seasons</td>\n",
       "      <td>200.00</td>\n",
       "      <td>194.00</td>\n",
       "      <td>97.000000</td>\n",
       "      <td>Brown</td>\n",
       "    </tr>\n",
       "    <tr>\n",
       "      <th>9</th>\n",
       "      <td>Leather mules &amp; clogs Gucci Black size 37 EU i...</td>\n",
       "      <td>Gucci</td>\n",
       "      <td>All seasons</td>\n",
       "      <td>129.00</td>\n",
       "      <td>125.13</td>\n",
       "      <td>97.000000</td>\n",
       "      <td>Black</td>\n",
       "    </tr>\n",
       "    <tr>\n",
       "      <th>10</th>\n",
       "      <td>Leather biker jacket Burberry Green size 8 UK ...</td>\n",
       "      <td>Burberry</td>\n",
       "      <td>All seasons</td>\n",
       "      <td>171.00</td>\n",
       "      <td>165.87</td>\n",
       "      <td>97.000000</td>\n",
       "      <td>Green</td>\n",
       "    </tr>\n",
       "    <tr>\n",
       "      <th>11</th>\n",
       "      <td>Sunglasses Dita Black in Plastic</td>\n",
       "      <td>Dita</td>\n",
       "      <td>All seasons</td>\n",
       "      <td>354.00</td>\n",
       "      <td>343.38</td>\n",
       "      <td>97.000000</td>\n",
       "      <td>Black</td>\n",
       "    </tr>\n",
       "    <tr>\n",
       "      <th>12</th>\n",
       "      <td>101801 wool coat Max Mara Camel size 0 US in W...</td>\n",
       "      <td>Max Mara</td>\n",
       "      <td>Autumn / Winter</td>\n",
       "      <td>1227.27</td>\n",
       "      <td>1190.45</td>\n",
       "      <td>96.999845</td>\n",
       "      <td>Camel</td>\n",
       "    </tr>\n",
       "  </tbody>\n",
       "</table>\n",
       "</div>"
      ],
      "text/plain": [
       "                                         product_name     brand_name  \\\n",
       "8       Leather purse Louis Vuitton Brown in Leather   Louis Vuitton   \n",
       "9   Leather mules & clogs Gucci Black size 37 EU i...          Gucci   \n",
       "10  Leather biker jacket Burberry Green size 8 UK ...       Burberry   \n",
       "11                  Sunglasses Dita Black in Plastic            Dita   \n",
       "12  101801 wool coat Max Mara Camel size 0 US in W...       Max Mara   \n",
       "\n",
       "     product_season  price_usd  seller_earning  profit_percentage  \\\n",
       "8       All seasons     200.00          194.00          97.000000   \n",
       "9       All seasons     129.00          125.13          97.000000   \n",
       "10      All seasons     171.00          165.87          97.000000   \n",
       "11      All seasons     354.00          343.38          97.000000   \n",
       "12  Autumn / Winter    1227.27         1190.45          96.999845   \n",
       "\n",
       "   product_color  \n",
       "8          Brown  \n",
       "9          Black  \n",
       "10         Green  \n",
       "11         Black  \n",
       "12         Camel  "
      ]
     },
     "metadata": {},
     "output_type": "display_data"
    },
    {
     "data": {
      "text/html": [
       "<div>\n",
       "<style scoped>\n",
       "    .dataframe tbody tr th:only-of-type {\n",
       "        vertical-align: middle;\n",
       "    }\n",
       "\n",
       "    .dataframe tbody tr th {\n",
       "        vertical-align: top;\n",
       "    }\n",
       "\n",
       "    .dataframe thead th {\n",
       "        text-align: right;\n",
       "    }\n",
       "</style>\n",
       "<table border=\"1\" class=\"dataframe\">\n",
       "  <thead>\n",
       "    <tr style=\"text-align: right;\">\n",
       "      <th></th>\n",
       "      <th>product_name</th>\n",
       "      <th>brand_name</th>\n",
       "      <th>product_season</th>\n",
       "      <th>price_usd</th>\n",
       "      <th>seller_earning</th>\n",
       "      <th>profit_percentage</th>\n",
       "      <th>product_color</th>\n",
       "    </tr>\n",
       "  </thead>\n",
       "  <tbody>\n",
       "    <tr>\n",
       "      <th>13713</th>\n",
       "      <td>Top Saint James Multicolour size XS Internatio...</td>\n",
       "      <td>Saint James</td>\n",
       "      <td>All seasons</td>\n",
       "      <td>22.39</td>\n",
       "      <td>2.22</td>\n",
       "      <td>9.915141</td>\n",
       "      <td>Multicolour</td>\n",
       "    </tr>\n",
       "    <tr>\n",
       "      <th>13714</th>\n",
       "      <td>T</td>\n",
       "      <td>Katie Eary</td>\n",
       "      <td>All seasons</td>\n",
       "      <td>25.44</td>\n",
       "      <td>2.49</td>\n",
       "      <td>9.787736</td>\n",
       "      <td>Multicolour</td>\n",
       "    </tr>\n",
       "    <tr>\n",
       "      <th>13715</th>\n",
       "      <td>Leather high trainers Pierre Hardy Black size ...</td>\n",
       "      <td>Pierre Hardy</td>\n",
       "      <td>All seasons</td>\n",
       "      <td>50.00</td>\n",
       "      <td>4.39</td>\n",
       "      <td>8.780000</td>\n",
       "      <td>Black</td>\n",
       "    </tr>\n",
       "    <tr>\n",
       "      <th>13716</th>\n",
       "      <td>Sunglasses Dolce &amp; Gabbana Grey in Plastic</td>\n",
       "      <td>Dolce &amp; Gabbana</td>\n",
       "      <td>All seasons</td>\n",
       "      <td>67.81</td>\n",
       "      <td>5.94</td>\n",
       "      <td>8.759770</td>\n",
       "      <td>Grey</td>\n",
       "    </tr>\n",
       "    <tr>\n",
       "      <th>13717</th>\n",
       "      <td>Scarf Burberry Multicolour in Cotton</td>\n",
       "      <td>Burberry</td>\n",
       "      <td>Autumn / Winter</td>\n",
       "      <td>62.70</td>\n",
       "      <td>1.74</td>\n",
       "      <td>2.775120</td>\n",
       "      <td>Multicolour</td>\n",
       "    </tr>\n",
       "  </tbody>\n",
       "</table>\n",
       "</div>"
      ],
      "text/plain": [
       "                                            product_name       brand_name  \\\n",
       "13713  Top Saint James Multicolour size XS Internatio...      Saint James   \n",
       "13714                                                  T       Katie Eary   \n",
       "13715  Leather high trainers Pierre Hardy Black size ...     Pierre Hardy   \n",
       "13716        Sunglasses Dolce & Gabbana Grey in Plastic   Dolce & Gabbana   \n",
       "13717              Scarf Burberry Multicolour in Cotton          Burberry   \n",
       "\n",
       "        product_season  price_usd  seller_earning  profit_percentage  \\\n",
       "13713      All seasons      22.39            2.22           9.915141   \n",
       "13714      All seasons      25.44            2.49           9.787736   \n",
       "13715      All seasons      50.00            4.39           8.780000   \n",
       "13716      All seasons      67.81            5.94           8.759770   \n",
       "13717  Autumn / Winter      62.70            1.74           2.775120   \n",
       "\n",
       "      product_color  \n",
       "13713   Multicolour  \n",
       "13714   Multicolour  \n",
       "13715         Black  \n",
       "13716          Grey  \n",
       "13717   Multicolour  "
      ]
     },
     "metadata": {},
     "output_type": "display_data"
    }
   ],
   "source": [
    "#Cutting down the data to only neccessary columns\n",
    "profit_df = vestiaire_clean[['product_name', 'brand_name', 'product_season', 'price_usd', 'seller_earning', 'profit_percentage', 'product_color']]\n",
    "\n",
    "# Sort the DataFrame by 'profit_percentage' in descending order\n",
    "profit_df = profit_df.sort_values(by='profit_percentage', ascending=False)\n",
    "\n",
    "# Reset the index of the sorted DataFrame\n",
    "profit_df = profit_df.reset_index(drop=True)\n",
    "\n",
    "profit_df = profit_df[(profit_df['profit_percentage'] != 100) & (profit_df['profit_percentage'] != 0)]\n",
    "\n",
    "# Display the head and tail of the sorted DataFrame\n",
    "display(profit_df.head())\n",
    "display(profit_df.tail())"
   ]
  },
  {
   "cell_type": "code",
   "execution_count": 51,
   "metadata": {},
   "outputs": [
    {
     "data": {
      "text/html": [
       "<div>\n",
       "<style scoped>\n",
       "    .dataframe tbody tr th:only-of-type {\n",
       "        vertical-align: middle;\n",
       "    }\n",
       "\n",
       "    .dataframe tbody tr th {\n",
       "        vertical-align: top;\n",
       "    }\n",
       "\n",
       "    .dataframe thead th {\n",
       "        text-align: right;\n",
       "    }\n",
       "</style>\n",
       "<table border=\"1\" class=\"dataframe\">\n",
       "  <thead>\n",
       "    <tr style=\"text-align: right;\">\n",
       "      <th></th>\n",
       "      <th>product_name</th>\n",
       "      <th>brand_name</th>\n",
       "      <th>product_season</th>\n",
       "      <th>price_usd</th>\n",
       "      <th>seller_earning</th>\n",
       "      <th>profit_percentage</th>\n",
       "      <th>product_color</th>\n",
       "    </tr>\n",
       "  </thead>\n",
       "  <tbody>\n",
       "    <tr>\n",
       "      <th>8</th>\n",
       "      <td>Leather purse Louis Vuitton Brown in Leather</td>\n",
       "      <td>Louis Vuitton</td>\n",
       "      <td>All seasons</td>\n",
       "      <td>200.00</td>\n",
       "      <td>194.00</td>\n",
       "      <td>97.000000</td>\n",
       "      <td>Brown</td>\n",
       "    </tr>\n",
       "    <tr>\n",
       "      <th>9</th>\n",
       "      <td>Leather mules &amp; clogs Gucci Black size 37 EU i...</td>\n",
       "      <td>Gucci</td>\n",
       "      <td>All seasons</td>\n",
       "      <td>129.00</td>\n",
       "      <td>125.13</td>\n",
       "      <td>97.000000</td>\n",
       "      <td>Black</td>\n",
       "    </tr>\n",
       "    <tr>\n",
       "      <th>10</th>\n",
       "      <td>Leather biker jacket Burberry Green size 8 UK ...</td>\n",
       "      <td>Burberry</td>\n",
       "      <td>All seasons</td>\n",
       "      <td>171.00</td>\n",
       "      <td>165.87</td>\n",
       "      <td>97.000000</td>\n",
       "      <td>Green</td>\n",
       "    </tr>\n",
       "    <tr>\n",
       "      <th>11</th>\n",
       "      <td>Sunglasses Dita Black in Plastic</td>\n",
       "      <td>Dita</td>\n",
       "      <td>All seasons</td>\n",
       "      <td>354.00</td>\n",
       "      <td>343.38</td>\n",
       "      <td>97.000000</td>\n",
       "      <td>Black</td>\n",
       "    </tr>\n",
       "    <tr>\n",
       "      <th>12</th>\n",
       "      <td>101801 wool coat Max Mara Camel size 0 US in W...</td>\n",
       "      <td>Max Mara</td>\n",
       "      <td>Autumn / Winter</td>\n",
       "      <td>1227.27</td>\n",
       "      <td>1190.45</td>\n",
       "      <td>96.999845</td>\n",
       "      <td>Camel</td>\n",
       "    </tr>\n",
       "    <tr>\n",
       "      <th>13</th>\n",
       "      <td>Leather biker jacket Michael Kors Black size M...</td>\n",
       "      <td>Michael Kors</td>\n",
       "      <td>All seasons</td>\n",
       "      <td>107.90</td>\n",
       "      <td>104.66</td>\n",
       "      <td>96.997220</td>\n",
       "      <td>Black</td>\n",
       "    </tr>\n",
       "    <tr>\n",
       "      <th>14</th>\n",
       "      <td>Corset Roberto Cavalli Black size 38 IT in Pol...</td>\n",
       "      <td>Roberto Cavalli</td>\n",
       "      <td>All seasons</td>\n",
       "      <td>66.52</td>\n",
       "      <td>60.48</td>\n",
       "      <td>90.920024</td>\n",
       "      <td>Black</td>\n",
       "    </tr>\n",
       "    <tr>\n",
       "      <th>15</th>\n",
       "      <td>Slim jean Versace Black size 31 US in Cotton</td>\n",
       "      <td>Versace</td>\n",
       "      <td>All seasons</td>\n",
       "      <td>70.00</td>\n",
       "      <td>63.64</td>\n",
       "      <td>90.914286</td>\n",
       "      <td>Black</td>\n",
       "    </tr>\n",
       "    <tr>\n",
       "      <th>16</th>\n",
       "      <td>Sweatshirt Versace Navy size L International i...</td>\n",
       "      <td>Versace</td>\n",
       "      <td>All seasons</td>\n",
       "      <td>70.00</td>\n",
       "      <td>63.64</td>\n",
       "      <td>90.914286</td>\n",
       "      <td>Navy</td>\n",
       "    </tr>\n",
       "    <tr>\n",
       "      <th>17</th>\n",
       "      <td>Leather ankle boots Prada Beige size 41 EU in ...</td>\n",
       "      <td>Prada</td>\n",
       "      <td>All seasons</td>\n",
       "      <td>180.00</td>\n",
       "      <td>163.64</td>\n",
       "      <td>90.911111</td>\n",
       "      <td>Beige</td>\n",
       "    </tr>\n",
       "    <tr>\n",
       "      <th>18</th>\n",
       "      <td>Cardigan Isabel Marant Burgundy size 40 FR in ...</td>\n",
       "      <td>Isabel Marant</td>\n",
       "      <td>All seasons</td>\n",
       "      <td>90.00</td>\n",
       "      <td>81.82</td>\n",
       "      <td>90.911111</td>\n",
       "      <td>Burgundy</td>\n",
       "    </tr>\n",
       "    <tr>\n",
       "      <th>19</th>\n",
       "      <td>Begum leather heels AMINA MUADDI Silver size 3...</td>\n",
       "      <td>AMINA MUADDI</td>\n",
       "      <td>All seasons</td>\n",
       "      <td>500.00</td>\n",
       "      <td>454.55</td>\n",
       "      <td>90.910000</td>\n",
       "      <td>Silver</td>\n",
       "    </tr>\n",
       "    <tr>\n",
       "      <th>20</th>\n",
       "      <td>Sweatshirt Balenciaga Black size XL Internatio...</td>\n",
       "      <td>Balenciaga</td>\n",
       "      <td>All seasons</td>\n",
       "      <td>300.00</td>\n",
       "      <td>272.73</td>\n",
       "      <td>90.910000</td>\n",
       "      <td>Black</td>\n",
       "    </tr>\n",
       "    <tr>\n",
       "      <th>21</th>\n",
       "      <td>Patent leather heels Dior Black size 38.5 EU i...</td>\n",
       "      <td>Dior</td>\n",
       "      <td>All seasons</td>\n",
       "      <td>135.75</td>\n",
       "      <td>123.41</td>\n",
       "      <td>90.909761</td>\n",
       "      <td>Black</td>\n",
       "    </tr>\n",
       "    <tr>\n",
       "      <th>22</th>\n",
       "      <td>Leather boots Off</td>\n",
       "      <td>Off-White</td>\n",
       "      <td>All seasons</td>\n",
       "      <td>383.36</td>\n",
       "      <td>348.51</td>\n",
       "      <td>90.909328</td>\n",
       "      <td>Multicolour</td>\n",
       "    </tr>\n",
       "    <tr>\n",
       "      <th>23</th>\n",
       "      <td>Slim jeans Prada Blue size 31 US in Denim</td>\n",
       "      <td>Prada</td>\n",
       "      <td>All seasons</td>\n",
       "      <td>36.30</td>\n",
       "      <td>33.00</td>\n",
       "      <td>90.909091</td>\n",
       "      <td>Blue</td>\n",
       "    </tr>\n",
       "    <tr>\n",
       "      <th>24</th>\n",
       "      <td>Leather trench coat Valentino Garavani Red siz...</td>\n",
       "      <td>Valentino Garavani</td>\n",
       "      <td>All seasons</td>\n",
       "      <td>790.90</td>\n",
       "      <td>719.00</td>\n",
       "      <td>90.909091</td>\n",
       "      <td>Red</td>\n",
       "    </tr>\n",
       "    <tr>\n",
       "      <th>25</th>\n",
       "      <td>Leather trainers Louis Vuitton Black size 44.5...</td>\n",
       "      <td>Louis Vuitton</td>\n",
       "      <td>All seasons</td>\n",
       "      <td>170.50</td>\n",
       "      <td>155.00</td>\n",
       "      <td>90.909091</td>\n",
       "      <td>Black</td>\n",
       "    </tr>\n",
       "    <tr>\n",
       "      <th>26</th>\n",
       "      <td>Leather belt JM Weston Brown size 90 cm in Lea...</td>\n",
       "      <td>JM Weston</td>\n",
       "      <td>All seasons</td>\n",
       "      <td>67.76</td>\n",
       "      <td>61.60</td>\n",
       "      <td>90.909091</td>\n",
       "      <td>Brown</td>\n",
       "    </tr>\n",
       "    <tr>\n",
       "      <th>27</th>\n",
       "      <td>Rhyton cloth low trainers Gucci Beige size 11 ...</td>\n",
       "      <td>Gucci</td>\n",
       "      <td>All seasons</td>\n",
       "      <td>349.80</td>\n",
       "      <td>318.00</td>\n",
       "      <td>90.909091</td>\n",
       "      <td>Beige</td>\n",
       "    </tr>\n",
       "  </tbody>\n",
       "</table>\n",
       "</div>"
      ],
      "text/plain": [
       "                                         product_name          brand_name  \\\n",
       "8       Leather purse Louis Vuitton Brown in Leather        Louis Vuitton   \n",
       "9   Leather mules & clogs Gucci Black size 37 EU i...               Gucci   \n",
       "10  Leather biker jacket Burberry Green size 8 UK ...            Burberry   \n",
       "11                  Sunglasses Dita Black in Plastic                 Dita   \n",
       "12  101801 wool coat Max Mara Camel size 0 US in W...            Max Mara   \n",
       "13  Leather biker jacket Michael Kors Black size M...        Michael Kors   \n",
       "14  Corset Roberto Cavalli Black size 38 IT in Pol...     Roberto Cavalli   \n",
       "15      Slim jean Versace Black size 31 US in Cotton              Versace   \n",
       "16  Sweatshirt Versace Navy size L International i...             Versace   \n",
       "17  Leather ankle boots Prada Beige size 41 EU in ...               Prada   \n",
       "18  Cardigan Isabel Marant Burgundy size 40 FR in ...       Isabel Marant   \n",
       "19  Begum leather heels AMINA MUADDI Silver size 3...        AMINA MUADDI   \n",
       "20  Sweatshirt Balenciaga Black size XL Internatio...          Balenciaga   \n",
       "21  Patent leather heels Dior Black size 38.5 EU i...                Dior   \n",
       "22                                  Leather boots Off           Off-White   \n",
       "23         Slim jeans Prada Blue size 31 US in Denim                Prada   \n",
       "24  Leather trench coat Valentino Garavani Red siz...  Valentino Garavani   \n",
       "25  Leather trainers Louis Vuitton Black size 44.5...       Louis Vuitton   \n",
       "26  Leather belt JM Weston Brown size 90 cm in Lea...           JM Weston   \n",
       "27  Rhyton cloth low trainers Gucci Beige size 11 ...               Gucci   \n",
       "\n",
       "     product_season  price_usd  seller_earning  profit_percentage  \\\n",
       "8       All seasons     200.00          194.00          97.000000   \n",
       "9       All seasons     129.00          125.13          97.000000   \n",
       "10      All seasons     171.00          165.87          97.000000   \n",
       "11      All seasons     354.00          343.38          97.000000   \n",
       "12  Autumn / Winter    1227.27         1190.45          96.999845   \n",
       "13      All seasons     107.90          104.66          96.997220   \n",
       "14      All seasons      66.52           60.48          90.920024   \n",
       "15      All seasons      70.00           63.64          90.914286   \n",
       "16      All seasons      70.00           63.64          90.914286   \n",
       "17      All seasons     180.00          163.64          90.911111   \n",
       "18      All seasons      90.00           81.82          90.911111   \n",
       "19      All seasons     500.00          454.55          90.910000   \n",
       "20      All seasons     300.00          272.73          90.910000   \n",
       "21      All seasons     135.75          123.41          90.909761   \n",
       "22      All seasons     383.36          348.51          90.909328   \n",
       "23      All seasons      36.30           33.00          90.909091   \n",
       "24      All seasons     790.90          719.00          90.909091   \n",
       "25      All seasons     170.50          155.00          90.909091   \n",
       "26      All seasons      67.76           61.60          90.909091   \n",
       "27      All seasons     349.80          318.00          90.909091   \n",
       "\n",
       "   product_color  \n",
       "8          Brown  \n",
       "9          Black  \n",
       "10         Green  \n",
       "11         Black  \n",
       "12         Camel  \n",
       "13         Black  \n",
       "14         Black  \n",
       "15         Black  \n",
       "16          Navy  \n",
       "17         Beige  \n",
       "18      Burgundy  \n",
       "19        Silver  \n",
       "20         Black  \n",
       "21         Black  \n",
       "22   Multicolour  \n",
       "23          Blue  \n",
       "24           Red  \n",
       "25         Black  \n",
       "26         Brown  \n",
       "27         Beige  "
      ]
     },
     "metadata": {},
     "output_type": "display_data"
    },
    {
     "data": {
      "text/html": [
       "<div>\n",
       "<style scoped>\n",
       "    .dataframe tbody tr th:only-of-type {\n",
       "        vertical-align: middle;\n",
       "    }\n",
       "\n",
       "    .dataframe tbody tr th {\n",
       "        vertical-align: top;\n",
       "    }\n",
       "\n",
       "    .dataframe thead th {\n",
       "        text-align: right;\n",
       "    }\n",
       "</style>\n",
       "<table border=\"1\" class=\"dataframe\">\n",
       "  <thead>\n",
       "    <tr style=\"text-align: right;\">\n",
       "      <th></th>\n",
       "      <th>product_name</th>\n",
       "      <th>brand_name</th>\n",
       "      <th>product_season</th>\n",
       "      <th>price_usd</th>\n",
       "      <th>seller_earning</th>\n",
       "      <th>profit_percentage</th>\n",
       "      <th>product_color</th>\n",
       "    </tr>\n",
       "  </thead>\n",
       "  <tbody>\n",
       "    <tr>\n",
       "      <th>13698</th>\n",
       "      <td>T</td>\n",
       "      <td>Nuna Lie</td>\n",
       "      <td>All seasons</td>\n",
       "      <td>21.73</td>\n",
       "      <td>4.26</td>\n",
       "      <td>19.604234</td>\n",
       "      <td>Black</td>\n",
       "    </tr>\n",
       "    <tr>\n",
       "      <th>13699</th>\n",
       "      <td>Shirt Just Cavalli Multicolour size XXL Intern...</td>\n",
       "      <td>Just Cavalli</td>\n",
       "      <td>All seasons</td>\n",
       "      <td>25.75</td>\n",
       "      <td>4.99</td>\n",
       "      <td>19.378641</td>\n",
       "      <td>Multicolour</td>\n",
       "    </tr>\n",
       "    <tr>\n",
       "      <th>13700</th>\n",
       "      <td>Linen trousers Massimo Dutti Blue size 44 FR i...</td>\n",
       "      <td>Massimo Dutti</td>\n",
       "      <td>Spring / Summer</td>\n",
       "      <td>20.90</td>\n",
       "      <td>4.00</td>\n",
       "      <td>19.138756</td>\n",
       "      <td>Blue</td>\n",
       "    </tr>\n",
       "    <tr>\n",
       "      <th>13701</th>\n",
       "      <td>Cloth high trainers Saint Laurent Black size 3...</td>\n",
       "      <td>Saint Laurent</td>\n",
       "      <td>All seasons</td>\n",
       "      <td>84.47</td>\n",
       "      <td>15.98</td>\n",
       "      <td>18.917959</td>\n",
       "      <td>Black</td>\n",
       "    </tr>\n",
       "    <tr>\n",
       "      <th>13702</th>\n",
       "      <td>Blouse Sandro Beige size S International in Co...</td>\n",
       "      <td>Sandro</td>\n",
       "      <td>All seasons</td>\n",
       "      <td>24.29</td>\n",
       "      <td>3.93</td>\n",
       "      <td>16.179498</td>\n",
       "      <td>Beige</td>\n",
       "    </tr>\n",
       "    <tr>\n",
       "      <th>13703</th>\n",
       "      <td>Shirt Erika Cavallini Brown size 42 IT in Cotton</td>\n",
       "      <td>Erika Cavallini</td>\n",
       "      <td>All seasons</td>\n",
       "      <td>20.45</td>\n",
       "      <td>3.20</td>\n",
       "      <td>15.647922</td>\n",
       "      <td>Brown</td>\n",
       "    </tr>\n",
       "    <tr>\n",
       "      <th>13704</th>\n",
       "      <td>Sr1 patent leather heels Sergio Rossi Black si...</td>\n",
       "      <td>Sergio Rossi</td>\n",
       "      <td>All seasons</td>\n",
       "      <td>20.79</td>\n",
       "      <td>3.20</td>\n",
       "      <td>15.392015</td>\n",
       "      <td>Black</td>\n",
       "    </tr>\n",
       "    <tr>\n",
       "      <th>13705</th>\n",
       "      <td>Silk tie Armand Thiery Navy in Silk</td>\n",
       "      <td>Armand Thiery</td>\n",
       "      <td>All seasons</td>\n",
       "      <td>20.79</td>\n",
       "      <td>3.20</td>\n",
       "      <td>15.392015</td>\n",
       "      <td>Navy</td>\n",
       "    </tr>\n",
       "    <tr>\n",
       "      <th>13706</th>\n",
       "      <td>Silk tie Valentino Garavani Blue in Silk</td>\n",
       "      <td>Valentino Garavani</td>\n",
       "      <td>All seasons</td>\n",
       "      <td>20.79</td>\n",
       "      <td>3.20</td>\n",
       "      <td>15.392015</td>\n",
       "      <td>Blue</td>\n",
       "    </tr>\n",
       "    <tr>\n",
       "      <th>13707</th>\n",
       "      <td>Leather trainers Pinko White size 39 EU in Lea...</td>\n",
       "      <td>Pinko</td>\n",
       "      <td>All seasons</td>\n",
       "      <td>19.80</td>\n",
       "      <td>3.00</td>\n",
       "      <td>15.151515</td>\n",
       "      <td>White</td>\n",
       "    </tr>\n",
       "    <tr>\n",
       "      <th>13708</th>\n",
       "      <td>Powerphase leather low trainers Yeezy x Adidas...</td>\n",
       "      <td>Yeezy x Adidas</td>\n",
       "      <td>All seasons</td>\n",
       "      <td>78.95</td>\n",
       "      <td>11.45</td>\n",
       "      <td>14.502850</td>\n",
       "      <td>Blue</td>\n",
       "    </tr>\n",
       "    <tr>\n",
       "      <th>13709</th>\n",
       "      <td>Flats Lanvin Brown size 11 US in Suede</td>\n",
       "      <td>Lanvin</td>\n",
       "      <td>All seasons</td>\n",
       "      <td>72.03</td>\n",
       "      <td>10.14</td>\n",
       "      <td>14.077468</td>\n",
       "      <td>Brown</td>\n",
       "    </tr>\n",
       "    <tr>\n",
       "      <th>13710</th>\n",
       "      <td>Leather hat Etro Brown size S International in...</td>\n",
       "      <td>Etro</td>\n",
       "      <td>All seasons</td>\n",
       "      <td>71.84</td>\n",
       "      <td>9.98</td>\n",
       "      <td>13.891982</td>\n",
       "      <td>Brown</td>\n",
       "    </tr>\n",
       "    <tr>\n",
       "      <th>13711</th>\n",
       "      <td>Sunglasses Ray</td>\n",
       "      <td>Ray-Ban</td>\n",
       "      <td>All seasons</td>\n",
       "      <td>68.88</td>\n",
       "      <td>8.52</td>\n",
       "      <td>12.369338</td>\n",
       "      <td>Black</td>\n",
       "    </tr>\n",
       "    <tr>\n",
       "      <th>13712</th>\n",
       "      <td>Bra Calvin Klein Black in Cotton</td>\n",
       "      <td>Calvin Klein</td>\n",
       "      <td>All seasons</td>\n",
       "      <td>22.45</td>\n",
       "      <td>2.49</td>\n",
       "      <td>11.091314</td>\n",
       "      <td>Black</td>\n",
       "    </tr>\n",
       "    <tr>\n",
       "      <th>13713</th>\n",
       "      <td>Top Saint James Multicolour size XS Internatio...</td>\n",
       "      <td>Saint James</td>\n",
       "      <td>All seasons</td>\n",
       "      <td>22.39</td>\n",
       "      <td>2.22</td>\n",
       "      <td>9.915141</td>\n",
       "      <td>Multicolour</td>\n",
       "    </tr>\n",
       "    <tr>\n",
       "      <th>13714</th>\n",
       "      <td>T</td>\n",
       "      <td>Katie Eary</td>\n",
       "      <td>All seasons</td>\n",
       "      <td>25.44</td>\n",
       "      <td>2.49</td>\n",
       "      <td>9.787736</td>\n",
       "      <td>Multicolour</td>\n",
       "    </tr>\n",
       "    <tr>\n",
       "      <th>13715</th>\n",
       "      <td>Leather high trainers Pierre Hardy Black size ...</td>\n",
       "      <td>Pierre Hardy</td>\n",
       "      <td>All seasons</td>\n",
       "      <td>50.00</td>\n",
       "      <td>4.39</td>\n",
       "      <td>8.780000</td>\n",
       "      <td>Black</td>\n",
       "    </tr>\n",
       "    <tr>\n",
       "      <th>13716</th>\n",
       "      <td>Sunglasses Dolce &amp; Gabbana Grey in Plastic</td>\n",
       "      <td>Dolce &amp; Gabbana</td>\n",
       "      <td>All seasons</td>\n",
       "      <td>67.81</td>\n",
       "      <td>5.94</td>\n",
       "      <td>8.759770</td>\n",
       "      <td>Grey</td>\n",
       "    </tr>\n",
       "    <tr>\n",
       "      <th>13717</th>\n",
       "      <td>Scarf Burberry Multicolour in Cotton</td>\n",
       "      <td>Burberry</td>\n",
       "      <td>Autumn / Winter</td>\n",
       "      <td>62.70</td>\n",
       "      <td>1.74</td>\n",
       "      <td>2.775120</td>\n",
       "      <td>Multicolour</td>\n",
       "    </tr>\n",
       "  </tbody>\n",
       "</table>\n",
       "</div>"
      ],
      "text/plain": [
       "                                            product_name          brand_name  \\\n",
       "13698                                                  T            Nuna Lie   \n",
       "13699  Shirt Just Cavalli Multicolour size XXL Intern...        Just Cavalli   \n",
       "13700  Linen trousers Massimo Dutti Blue size 44 FR i...       Massimo Dutti   \n",
       "13701  Cloth high trainers Saint Laurent Black size 3...       Saint Laurent   \n",
       "13702  Blouse Sandro Beige size S International in Co...              Sandro   \n",
       "13703  Shirt Erika Cavallini Brown size 42 IT in Cotton      Erika Cavallini   \n",
       "13704  Sr1 patent leather heels Sergio Rossi Black si...        Sergio Rossi   \n",
       "13705               Silk tie Armand Thiery Navy in Silk        Armand Thiery   \n",
       "13706          Silk tie Valentino Garavani Blue in Silk   Valentino Garavani   \n",
       "13707  Leather trainers Pinko White size 39 EU in Lea...               Pinko   \n",
       "13708  Powerphase leather low trainers Yeezy x Adidas...      Yeezy x Adidas   \n",
       "13709            Flats Lanvin Brown size 11 US in Suede               Lanvin   \n",
       "13710  Leather hat Etro Brown size S International in...                Etro   \n",
       "13711                                     Sunglasses Ray             Ray-Ban   \n",
       "13712                  Bra Calvin Klein Black in Cotton         Calvin Klein   \n",
       "13713  Top Saint James Multicolour size XS Internatio...         Saint James   \n",
       "13714                                                  T          Katie Eary   \n",
       "13715  Leather high trainers Pierre Hardy Black size ...        Pierre Hardy   \n",
       "13716        Sunglasses Dolce & Gabbana Grey in Plastic      Dolce & Gabbana   \n",
       "13717              Scarf Burberry Multicolour in Cotton             Burberry   \n",
       "\n",
       "        product_season  price_usd  seller_earning  profit_percentage  \\\n",
       "13698      All seasons      21.73            4.26          19.604234   \n",
       "13699      All seasons      25.75            4.99          19.378641   \n",
       "13700  Spring / Summer      20.90            4.00          19.138756   \n",
       "13701      All seasons      84.47           15.98          18.917959   \n",
       "13702      All seasons      24.29            3.93          16.179498   \n",
       "13703      All seasons      20.45            3.20          15.647922   \n",
       "13704      All seasons      20.79            3.20          15.392015   \n",
       "13705      All seasons      20.79            3.20          15.392015   \n",
       "13706      All seasons      20.79            3.20          15.392015   \n",
       "13707      All seasons      19.80            3.00          15.151515   \n",
       "13708      All seasons      78.95           11.45          14.502850   \n",
       "13709      All seasons      72.03           10.14          14.077468   \n",
       "13710      All seasons      71.84            9.98          13.891982   \n",
       "13711      All seasons      68.88            8.52          12.369338   \n",
       "13712      All seasons      22.45            2.49          11.091314   \n",
       "13713      All seasons      22.39            2.22           9.915141   \n",
       "13714      All seasons      25.44            2.49           9.787736   \n",
       "13715      All seasons      50.00            4.39           8.780000   \n",
       "13716      All seasons      67.81            5.94           8.759770   \n",
       "13717  Autumn / Winter      62.70            1.74           2.775120   \n",
       "\n",
       "      product_color  \n",
       "13698         Black  \n",
       "13699   Multicolour  \n",
       "13700          Blue  \n",
       "13701         Black  \n",
       "13702         Beige  \n",
       "13703         Brown  \n",
       "13704         Black  \n",
       "13705          Navy  \n",
       "13706          Blue  \n",
       "13707         White  \n",
       "13708          Blue  \n",
       "13709         Brown  \n",
       "13710         Brown  \n",
       "13711         Black  \n",
       "13712         Black  \n",
       "13713   Multicolour  \n",
       "13714   Multicolour  \n",
       "13715         Black  \n",
       "13716          Grey  \n",
       "13717   Multicolour  "
      ]
     },
     "metadata": {},
     "output_type": "display_data"
    }
   ],
   "source": [
    "top_profit_margins = profit_df.head(20)\n",
    "bottom_profit_margins = profit_df.tail(20)\n",
    "\n",
    "display(top_profit_margins)\n",
    "display(bottom_profit_margins)"
   ]
  },
  {
   "cell_type": "code",
   "execution_count": 55,
   "metadata": {},
   "outputs": [
    {
     "data": {
      "application/vnd.plotly.v1+json": {
       "config": {
        "plotlyServerURL": "https://plot.ly"
       },
       "data": [
        {
         "hovertemplate": "<b>%{hovertext}</b><br><br>product_season=All seasons<br>price_usd=%{x}<br>profit_percentage=%{y}<br>seller_earning=%{marker.size}<extra></extra>",
         "hovertext": [
          "Leather purse Louis Vuitton Brown in Leather ",
          "Leather mules & clogs Gucci Black size 37 EU in Leather ",
          "Leather biker jacket Burberry Green size 8 UK in Leather ",
          "Sunglasses Dita Black in Plastic ",
          "Leather biker jacket Michael Kors Black size M International in Leather ",
          "Corset Roberto Cavalli Black size 38 IT in Polyester ",
          "Slim jean Versace Black size 31 US in Cotton ",
          "Sweatshirt Versace Navy size L International in Cotton ",
          "Leather ankle boots Prada Beige size 41 EU in Leather ",
          "Cardigan Isabel Marant Burgundy size 40 FR in Polyamide ",
          "Begum leather heels AMINA MUADDI Silver size 39.5 EU in Leather ",
          "Sweatshirt Balenciaga Black size XL International in Cotton ",
          "Patent leather heels Dior Black size 38.5 EU in Patent leather ",
          "Leather boots Off",
          "Slim jeans Prada Blue size 31 US in Denim ",
          "Leather trench coat Valentino Garavani Red size 40 IT in Leather ",
          "Leather trainers Louis Vuitton Black size 44.5 IT in Leather ",
          "Leather belt JM Weston Brown size 90 cm in Leather ",
          "Rhyton cloth low trainers Gucci Beige size 11 US in Cloth "
         ],
         "legendgroup": "All seasons",
         "marker": {
          "color": "#636efa",
          "size": [
           194,
           125.13,
           165.87,
           343.38,
           104.66,
           60.48,
           63.64,
           63.64,
           163.64,
           81.82,
           454.55,
           272.73,
           123.41,
           348.51,
           33,
           719,
           155,
           61.6,
           318
          ],
          "sizemode": "area",
          "sizeref": 0.3306805555555556,
          "symbol": "circle"
         },
         "mode": "markers",
         "name": "All seasons",
         "orientation": "v",
         "showlegend": true,
         "type": "scatter",
         "x": [
          200,
          129,
          171,
          354,
          107.9,
          66.52,
          70,
          70,
          180,
          90,
          500,
          300,
          135.75,
          383.36,
          36.3,
          790.9,
          170.5,
          67.76,
          349.8
         ],
         "xaxis": "x",
         "y": [
          97,
          97,
          97,
          97,
          96.99721964782205,
          90.92002405291642,
          90.91428571428571,
          90.91428571428571,
          90.9111111111111,
          90.9111111111111,
          90.91,
          90.91,
          90.9097605893186,
          90.90932804674456,
          90.90909090909092,
          90.90909090909092,
          90.9090909090909,
          90.9090909090909,
          90.9090909090909
         ],
         "yaxis": "y"
        },
        {
         "hovertemplate": "<b>%{hovertext}</b><br><br>product_season=Autumn / Winter<br>price_usd=%{x}<br>profit_percentage=%{y}<br>seller_earning=%{marker.size}<extra></extra>",
         "hovertext": [
          "101801 wool coat Max Mara Camel size 0 US in Wool "
         ],
         "legendgroup": "Autumn / Winter",
         "marker": {
          "color": "#EF553B",
          "size": [
           1190.45
          ],
          "sizemode": "area",
          "sizeref": 0.3306805555555556,
          "symbol": "circle"
         },
         "mode": "markers",
         "name": "Autumn / Winter",
         "orientation": "v",
         "showlegend": true,
         "type": "scatter",
         "x": [
          1227.27
         ],
         "xaxis": "x",
         "y": [
          96.99984518484116
         ],
         "yaxis": "y"
        }
       ],
       "layout": {
        "legend": {
         "itemsizing": "constant",
         "title": {
          "text": "product_season"
         },
         "tracegroupgap": 0
        },
        "margin": {
         "t": 60
        },
        "template": {
         "data": {
          "bar": [
           {
            "error_x": {
             "color": "#2a3f5f"
            },
            "error_y": {
             "color": "#2a3f5f"
            },
            "marker": {
             "line": {
              "color": "#E5ECF6",
              "width": 0.5
             },
             "pattern": {
              "fillmode": "overlay",
              "size": 10,
              "solidity": 0.2
             }
            },
            "type": "bar"
           }
          ],
          "barpolar": [
           {
            "marker": {
             "line": {
              "color": "#E5ECF6",
              "width": 0.5
             },
             "pattern": {
              "fillmode": "overlay",
              "size": 10,
              "solidity": 0.2
             }
            },
            "type": "barpolar"
           }
          ],
          "carpet": [
           {
            "aaxis": {
             "endlinecolor": "#2a3f5f",
             "gridcolor": "white",
             "linecolor": "white",
             "minorgridcolor": "white",
             "startlinecolor": "#2a3f5f"
            },
            "baxis": {
             "endlinecolor": "#2a3f5f",
             "gridcolor": "white",
             "linecolor": "white",
             "minorgridcolor": "white",
             "startlinecolor": "#2a3f5f"
            },
            "type": "carpet"
           }
          ],
          "choropleth": [
           {
            "colorbar": {
             "outlinewidth": 0,
             "ticks": ""
            },
            "type": "choropleth"
           }
          ],
          "contour": [
           {
            "colorbar": {
             "outlinewidth": 0,
             "ticks": ""
            },
            "colorscale": [
             [
              0,
              "#0d0887"
             ],
             [
              0.1111111111111111,
              "#46039f"
             ],
             [
              0.2222222222222222,
              "#7201a8"
             ],
             [
              0.3333333333333333,
              "#9c179e"
             ],
             [
              0.4444444444444444,
              "#bd3786"
             ],
             [
              0.5555555555555556,
              "#d8576b"
             ],
             [
              0.6666666666666666,
              "#ed7953"
             ],
             [
              0.7777777777777778,
              "#fb9f3a"
             ],
             [
              0.8888888888888888,
              "#fdca26"
             ],
             [
              1,
              "#f0f921"
             ]
            ],
            "type": "contour"
           }
          ],
          "contourcarpet": [
           {
            "colorbar": {
             "outlinewidth": 0,
             "ticks": ""
            },
            "type": "contourcarpet"
           }
          ],
          "heatmap": [
           {
            "colorbar": {
             "outlinewidth": 0,
             "ticks": ""
            },
            "colorscale": [
             [
              0,
              "#0d0887"
             ],
             [
              0.1111111111111111,
              "#46039f"
             ],
             [
              0.2222222222222222,
              "#7201a8"
             ],
             [
              0.3333333333333333,
              "#9c179e"
             ],
             [
              0.4444444444444444,
              "#bd3786"
             ],
             [
              0.5555555555555556,
              "#d8576b"
             ],
             [
              0.6666666666666666,
              "#ed7953"
             ],
             [
              0.7777777777777778,
              "#fb9f3a"
             ],
             [
              0.8888888888888888,
              "#fdca26"
             ],
             [
              1,
              "#f0f921"
             ]
            ],
            "type": "heatmap"
           }
          ],
          "heatmapgl": [
           {
            "colorbar": {
             "outlinewidth": 0,
             "ticks": ""
            },
            "colorscale": [
             [
              0,
              "#0d0887"
             ],
             [
              0.1111111111111111,
              "#46039f"
             ],
             [
              0.2222222222222222,
              "#7201a8"
             ],
             [
              0.3333333333333333,
              "#9c179e"
             ],
             [
              0.4444444444444444,
              "#bd3786"
             ],
             [
              0.5555555555555556,
              "#d8576b"
             ],
             [
              0.6666666666666666,
              "#ed7953"
             ],
             [
              0.7777777777777778,
              "#fb9f3a"
             ],
             [
              0.8888888888888888,
              "#fdca26"
             ],
             [
              1,
              "#f0f921"
             ]
            ],
            "type": "heatmapgl"
           }
          ],
          "histogram": [
           {
            "marker": {
             "pattern": {
              "fillmode": "overlay",
              "size": 10,
              "solidity": 0.2
             }
            },
            "type": "histogram"
           }
          ],
          "histogram2d": [
           {
            "colorbar": {
             "outlinewidth": 0,
             "ticks": ""
            },
            "colorscale": [
             [
              0,
              "#0d0887"
             ],
             [
              0.1111111111111111,
              "#46039f"
             ],
             [
              0.2222222222222222,
              "#7201a8"
             ],
             [
              0.3333333333333333,
              "#9c179e"
             ],
             [
              0.4444444444444444,
              "#bd3786"
             ],
             [
              0.5555555555555556,
              "#d8576b"
             ],
             [
              0.6666666666666666,
              "#ed7953"
             ],
             [
              0.7777777777777778,
              "#fb9f3a"
             ],
             [
              0.8888888888888888,
              "#fdca26"
             ],
             [
              1,
              "#f0f921"
             ]
            ],
            "type": "histogram2d"
           }
          ],
          "histogram2dcontour": [
           {
            "colorbar": {
             "outlinewidth": 0,
             "ticks": ""
            },
            "colorscale": [
             [
              0,
              "#0d0887"
             ],
             [
              0.1111111111111111,
              "#46039f"
             ],
             [
              0.2222222222222222,
              "#7201a8"
             ],
             [
              0.3333333333333333,
              "#9c179e"
             ],
             [
              0.4444444444444444,
              "#bd3786"
             ],
             [
              0.5555555555555556,
              "#d8576b"
             ],
             [
              0.6666666666666666,
              "#ed7953"
             ],
             [
              0.7777777777777778,
              "#fb9f3a"
             ],
             [
              0.8888888888888888,
              "#fdca26"
             ],
             [
              1,
              "#f0f921"
             ]
            ],
            "type": "histogram2dcontour"
           }
          ],
          "mesh3d": [
           {
            "colorbar": {
             "outlinewidth": 0,
             "ticks": ""
            },
            "type": "mesh3d"
           }
          ],
          "parcoords": [
           {
            "line": {
             "colorbar": {
              "outlinewidth": 0,
              "ticks": ""
             }
            },
            "type": "parcoords"
           }
          ],
          "pie": [
           {
            "automargin": true,
            "type": "pie"
           }
          ],
          "scatter": [
           {
            "fillpattern": {
             "fillmode": "overlay",
             "size": 10,
             "solidity": 0.2
            },
            "type": "scatter"
           }
          ],
          "scatter3d": [
           {
            "line": {
             "colorbar": {
              "outlinewidth": 0,
              "ticks": ""
             }
            },
            "marker": {
             "colorbar": {
              "outlinewidth": 0,
              "ticks": ""
             }
            },
            "type": "scatter3d"
           }
          ],
          "scattercarpet": [
           {
            "marker": {
             "colorbar": {
              "outlinewidth": 0,
              "ticks": ""
             }
            },
            "type": "scattercarpet"
           }
          ],
          "scattergeo": [
           {
            "marker": {
             "colorbar": {
              "outlinewidth": 0,
              "ticks": ""
             }
            },
            "type": "scattergeo"
           }
          ],
          "scattergl": [
           {
            "marker": {
             "colorbar": {
              "outlinewidth": 0,
              "ticks": ""
             }
            },
            "type": "scattergl"
           }
          ],
          "scattermapbox": [
           {
            "marker": {
             "colorbar": {
              "outlinewidth": 0,
              "ticks": ""
             }
            },
            "type": "scattermapbox"
           }
          ],
          "scatterpolar": [
           {
            "marker": {
             "colorbar": {
              "outlinewidth": 0,
              "ticks": ""
             }
            },
            "type": "scatterpolar"
           }
          ],
          "scatterpolargl": [
           {
            "marker": {
             "colorbar": {
              "outlinewidth": 0,
              "ticks": ""
             }
            },
            "type": "scatterpolargl"
           }
          ],
          "scatterternary": [
           {
            "marker": {
             "colorbar": {
              "outlinewidth": 0,
              "ticks": ""
             }
            },
            "type": "scatterternary"
           }
          ],
          "surface": [
           {
            "colorbar": {
             "outlinewidth": 0,
             "ticks": ""
            },
            "colorscale": [
             [
              0,
              "#0d0887"
             ],
             [
              0.1111111111111111,
              "#46039f"
             ],
             [
              0.2222222222222222,
              "#7201a8"
             ],
             [
              0.3333333333333333,
              "#9c179e"
             ],
             [
              0.4444444444444444,
              "#bd3786"
             ],
             [
              0.5555555555555556,
              "#d8576b"
             ],
             [
              0.6666666666666666,
              "#ed7953"
             ],
             [
              0.7777777777777778,
              "#fb9f3a"
             ],
             [
              0.8888888888888888,
              "#fdca26"
             ],
             [
              1,
              "#f0f921"
             ]
            ],
            "type": "surface"
           }
          ],
          "table": [
           {
            "cells": {
             "fill": {
              "color": "#EBF0F8"
             },
             "line": {
              "color": "white"
             }
            },
            "header": {
             "fill": {
              "color": "#C8D4E3"
             },
             "line": {
              "color": "white"
             }
            },
            "type": "table"
           }
          ]
         },
         "layout": {
          "annotationdefaults": {
           "arrowcolor": "#2a3f5f",
           "arrowhead": 0,
           "arrowwidth": 1
          },
          "autotypenumbers": "strict",
          "coloraxis": {
           "colorbar": {
            "outlinewidth": 0,
            "ticks": ""
           }
          },
          "colorscale": {
           "diverging": [
            [
             0,
             "#8e0152"
            ],
            [
             0.1,
             "#c51b7d"
            ],
            [
             0.2,
             "#de77ae"
            ],
            [
             0.3,
             "#f1b6da"
            ],
            [
             0.4,
             "#fde0ef"
            ],
            [
             0.5,
             "#f7f7f7"
            ],
            [
             0.6,
             "#e6f5d0"
            ],
            [
             0.7,
             "#b8e186"
            ],
            [
             0.8,
             "#7fbc41"
            ],
            [
             0.9,
             "#4d9221"
            ],
            [
             1,
             "#276419"
            ]
           ],
           "sequential": [
            [
             0,
             "#0d0887"
            ],
            [
             0.1111111111111111,
             "#46039f"
            ],
            [
             0.2222222222222222,
             "#7201a8"
            ],
            [
             0.3333333333333333,
             "#9c179e"
            ],
            [
             0.4444444444444444,
             "#bd3786"
            ],
            [
             0.5555555555555556,
             "#d8576b"
            ],
            [
             0.6666666666666666,
             "#ed7953"
            ],
            [
             0.7777777777777778,
             "#fb9f3a"
            ],
            [
             0.8888888888888888,
             "#fdca26"
            ],
            [
             1,
             "#f0f921"
            ]
           ],
           "sequentialminus": [
            [
             0,
             "#0d0887"
            ],
            [
             0.1111111111111111,
             "#46039f"
            ],
            [
             0.2222222222222222,
             "#7201a8"
            ],
            [
             0.3333333333333333,
             "#9c179e"
            ],
            [
             0.4444444444444444,
             "#bd3786"
            ],
            [
             0.5555555555555556,
             "#d8576b"
            ],
            [
             0.6666666666666666,
             "#ed7953"
            ],
            [
             0.7777777777777778,
             "#fb9f3a"
            ],
            [
             0.8888888888888888,
             "#fdca26"
            ],
            [
             1,
             "#f0f921"
            ]
           ]
          },
          "colorway": [
           "#636efa",
           "#EF553B",
           "#00cc96",
           "#ab63fa",
           "#FFA15A",
           "#19d3f3",
           "#FF6692",
           "#B6E880",
           "#FF97FF",
           "#FECB52"
          ],
          "font": {
           "color": "#2a3f5f"
          },
          "geo": {
           "bgcolor": "white",
           "lakecolor": "white",
           "landcolor": "#E5ECF6",
           "showlakes": true,
           "showland": true,
           "subunitcolor": "white"
          },
          "hoverlabel": {
           "align": "left"
          },
          "hovermode": "closest",
          "mapbox": {
           "style": "light"
          },
          "paper_bgcolor": "white",
          "plot_bgcolor": "#E5ECF6",
          "polar": {
           "angularaxis": {
            "gridcolor": "white",
            "linecolor": "white",
            "ticks": ""
           },
           "bgcolor": "#E5ECF6",
           "radialaxis": {
            "gridcolor": "white",
            "linecolor": "white",
            "ticks": ""
           }
          },
          "scene": {
           "xaxis": {
            "backgroundcolor": "#E5ECF6",
            "gridcolor": "white",
            "gridwidth": 2,
            "linecolor": "white",
            "showbackground": true,
            "ticks": "",
            "zerolinecolor": "white"
           },
           "yaxis": {
            "backgroundcolor": "#E5ECF6",
            "gridcolor": "white",
            "gridwidth": 2,
            "linecolor": "white",
            "showbackground": true,
            "ticks": "",
            "zerolinecolor": "white"
           },
           "zaxis": {
            "backgroundcolor": "#E5ECF6",
            "gridcolor": "white",
            "gridwidth": 2,
            "linecolor": "white",
            "showbackground": true,
            "ticks": "",
            "zerolinecolor": "white"
           }
          },
          "shapedefaults": {
           "line": {
            "color": "#2a3f5f"
           }
          },
          "ternary": {
           "aaxis": {
            "gridcolor": "white",
            "linecolor": "white",
            "ticks": ""
           },
           "baxis": {
            "gridcolor": "white",
            "linecolor": "white",
            "ticks": ""
           },
           "bgcolor": "#E5ECF6",
           "caxis": {
            "gridcolor": "white",
            "linecolor": "white",
            "ticks": ""
           }
          },
          "title": {
           "x": 0.05
          },
          "xaxis": {
           "automargin": true,
           "gridcolor": "white",
           "linecolor": "white",
           "ticks": "",
           "title": {
            "standoff": 15
           },
           "zerolinecolor": "white",
           "zerolinewidth": 2
          },
          "yaxis": {
           "automargin": true,
           "gridcolor": "white",
           "linecolor": "white",
           "ticks": "",
           "title": {
            "standoff": 15
           },
           "zerolinecolor": "white",
           "zerolinewidth": 2
          }
         }
        },
        "xaxis": {
         "anchor": "y",
         "domain": [
          0,
          1
         ],
         "title": {
          "text": "price_usd"
         },
         "type": "log"
        },
        "yaxis": {
         "anchor": "x",
         "domain": [
          0,
          1
         ],
         "title": {
          "text": "profit_percentage"
         }
        }
       }
      }
     },
     "metadata": {},
     "output_type": "display_data"
    }
   ],
   "source": [
    "fig = px.scatter(top_profit_margins, \n",
    "                 x=\"price_usd\",\n",
    "                 y=\"profit_percentage\",\n",
    "                 size=\"seller_earning\",  # Size of the bubbles\n",
    "                 color=\"product_season\",    # Color of the bubbles\n",
    "                 hover_name=\"product_name\", # Hover information\n",
    "                 log_x=True,                # Log scale for x-axis\n",
    "                 size_max=60)               # Maximum size of the bubbles\n",
    "\n",
    "# Display the chart\n",
    "fig.show()"
   ]
  },
  {
   "cell_type": "code",
   "execution_count": 56,
   "metadata": {},
   "outputs": [
    {
     "data": {
      "application/vnd.plotly.v1+json": {
       "config": {
        "plotlyServerURL": "https://plot.ly"
       },
       "data": [
        {
         "hovertemplate": "<b>%{hovertext}</b><br><br>product_season=All seasons<br>price_usd=%{x}<br>profit_percentage=%{y}<br>seller_earning=%{marker.size}<extra></extra>",
         "hovertext": [
          "T",
          "Shirt Just Cavalli Multicolour size XXL International in Cotton ",
          "Cloth high trainers Saint Laurent Black size 39.5 EU in Cloth ",
          "Blouse Sandro Beige size S International in Cotton ",
          "Shirt Erika Cavallini Brown size 42 IT in Cotton ",
          "Sr1 patent leather heels Sergio Rossi Black size 40.5 EU in Patent leather ",
          "Silk tie Armand Thiery Navy in Silk ",
          "Silk tie Valentino Garavani Blue in Silk ",
          "Leather trainers Pinko White size 39 EU in Leather ",
          "Powerphase leather low trainers Yeezy x Adidas Blue size 13 US in Leather ",
          "Flats Lanvin Brown size 11 US in Suede ",
          "Leather hat Etro Brown size S International in Leather ",
          "Sunglasses Ray",
          "Bra Calvin Klein Black in Cotton ",
          "Top Saint James Multicolour size XS International in Cotton ",
          "T",
          "Leather high trainers Pierre Hardy Black size 43 EU in Leather ",
          "Sunglasses Dolce & Gabbana Grey in Plastic "
         ],
         "legendgroup": "All seasons",
         "marker": {
          "color": "#636efa",
          "size": [
           4.26,
           4.99,
           15.98,
           3.93,
           3.2,
           3.2,
           3.2,
           3.2,
           3,
           11.45,
           10.14,
           9.98,
           8.52,
           2.49,
           2.22,
           2.49,
           4.39,
           5.94
          ],
          "sizemode": "area",
          "sizeref": 0.004438888888888889,
          "symbol": "circle"
         },
         "mode": "markers",
         "name": "All seasons",
         "orientation": "v",
         "showlegend": true,
         "type": "scatter",
         "x": [
          21.73,
          25.75,
          84.47,
          24.29,
          20.45,
          20.79,
          20.79,
          20.79,
          19.8,
          78.95,
          72.03,
          71.84,
          68.88,
          22.45,
          22.39,
          25.44,
          50,
          67.81
         ],
         "xaxis": "x",
         "y": [
          19.604233778186835,
          19.37864077669903,
          18.91795903871197,
          16.1794977356937,
          15.6479217603912,
          15.392015392015393,
          15.392015392015393,
          15.392015392015393,
          15.151515151515152,
          14.502849905003165,
          14.077467721782591,
          13.891982182628063,
          12.369337979094077,
          11.091314031180403,
          9.915140687807057,
          9.787735849056604,
          8.78,
          8.759769945435776
         ],
         "yaxis": "y"
        },
        {
         "hovertemplate": "<b>%{hovertext}</b><br><br>product_season=Spring / Summer<br>price_usd=%{x}<br>profit_percentage=%{y}<br>seller_earning=%{marker.size}<extra></extra>",
         "hovertext": [
          "Linen trousers Massimo Dutti Blue size 44 FR in Linen "
         ],
         "legendgroup": "Spring / Summer",
         "marker": {
          "color": "#EF553B",
          "size": [
           4
          ],
          "sizemode": "area",
          "sizeref": 0.004438888888888889,
          "symbol": "circle"
         },
         "mode": "markers",
         "name": "Spring / Summer",
         "orientation": "v",
         "showlegend": true,
         "type": "scatter",
         "x": [
          20.9
         ],
         "xaxis": "x",
         "y": [
          19.138755980861244
         ],
         "yaxis": "y"
        },
        {
         "hovertemplate": "<b>%{hovertext}</b><br><br>product_season=Autumn / Winter<br>price_usd=%{x}<br>profit_percentage=%{y}<br>seller_earning=%{marker.size}<extra></extra>",
         "hovertext": [
          "Scarf Burberry Multicolour in Cotton "
         ],
         "legendgroup": "Autumn / Winter",
         "marker": {
          "color": "#00cc96",
          "size": [
           1.74
          ],
          "sizemode": "area",
          "sizeref": 0.004438888888888889,
          "symbol": "circle"
         },
         "mode": "markers",
         "name": "Autumn / Winter",
         "orientation": "v",
         "showlegend": true,
         "type": "scatter",
         "x": [
          62.7
         ],
         "xaxis": "x",
         "y": [
          2.77511961722488
         ],
         "yaxis": "y"
        }
       ],
       "layout": {
        "legend": {
         "itemsizing": "constant",
         "title": {
          "text": "product_season"
         },
         "tracegroupgap": 0
        },
        "margin": {
         "t": 60
        },
        "template": {
         "data": {
          "bar": [
           {
            "error_x": {
             "color": "#2a3f5f"
            },
            "error_y": {
             "color": "#2a3f5f"
            },
            "marker": {
             "line": {
              "color": "#E5ECF6",
              "width": 0.5
             },
             "pattern": {
              "fillmode": "overlay",
              "size": 10,
              "solidity": 0.2
             }
            },
            "type": "bar"
           }
          ],
          "barpolar": [
           {
            "marker": {
             "line": {
              "color": "#E5ECF6",
              "width": 0.5
             },
             "pattern": {
              "fillmode": "overlay",
              "size": 10,
              "solidity": 0.2
             }
            },
            "type": "barpolar"
           }
          ],
          "carpet": [
           {
            "aaxis": {
             "endlinecolor": "#2a3f5f",
             "gridcolor": "white",
             "linecolor": "white",
             "minorgridcolor": "white",
             "startlinecolor": "#2a3f5f"
            },
            "baxis": {
             "endlinecolor": "#2a3f5f",
             "gridcolor": "white",
             "linecolor": "white",
             "minorgridcolor": "white",
             "startlinecolor": "#2a3f5f"
            },
            "type": "carpet"
           }
          ],
          "choropleth": [
           {
            "colorbar": {
             "outlinewidth": 0,
             "ticks": ""
            },
            "type": "choropleth"
           }
          ],
          "contour": [
           {
            "colorbar": {
             "outlinewidth": 0,
             "ticks": ""
            },
            "colorscale": [
             [
              0,
              "#0d0887"
             ],
             [
              0.1111111111111111,
              "#46039f"
             ],
             [
              0.2222222222222222,
              "#7201a8"
             ],
             [
              0.3333333333333333,
              "#9c179e"
             ],
             [
              0.4444444444444444,
              "#bd3786"
             ],
             [
              0.5555555555555556,
              "#d8576b"
             ],
             [
              0.6666666666666666,
              "#ed7953"
             ],
             [
              0.7777777777777778,
              "#fb9f3a"
             ],
             [
              0.8888888888888888,
              "#fdca26"
             ],
             [
              1,
              "#f0f921"
             ]
            ],
            "type": "contour"
           }
          ],
          "contourcarpet": [
           {
            "colorbar": {
             "outlinewidth": 0,
             "ticks": ""
            },
            "type": "contourcarpet"
           }
          ],
          "heatmap": [
           {
            "colorbar": {
             "outlinewidth": 0,
             "ticks": ""
            },
            "colorscale": [
             [
              0,
              "#0d0887"
             ],
             [
              0.1111111111111111,
              "#46039f"
             ],
             [
              0.2222222222222222,
              "#7201a8"
             ],
             [
              0.3333333333333333,
              "#9c179e"
             ],
             [
              0.4444444444444444,
              "#bd3786"
             ],
             [
              0.5555555555555556,
              "#d8576b"
             ],
             [
              0.6666666666666666,
              "#ed7953"
             ],
             [
              0.7777777777777778,
              "#fb9f3a"
             ],
             [
              0.8888888888888888,
              "#fdca26"
             ],
             [
              1,
              "#f0f921"
             ]
            ],
            "type": "heatmap"
           }
          ],
          "heatmapgl": [
           {
            "colorbar": {
             "outlinewidth": 0,
             "ticks": ""
            },
            "colorscale": [
             [
              0,
              "#0d0887"
             ],
             [
              0.1111111111111111,
              "#46039f"
             ],
             [
              0.2222222222222222,
              "#7201a8"
             ],
             [
              0.3333333333333333,
              "#9c179e"
             ],
             [
              0.4444444444444444,
              "#bd3786"
             ],
             [
              0.5555555555555556,
              "#d8576b"
             ],
             [
              0.6666666666666666,
              "#ed7953"
             ],
             [
              0.7777777777777778,
              "#fb9f3a"
             ],
             [
              0.8888888888888888,
              "#fdca26"
             ],
             [
              1,
              "#f0f921"
             ]
            ],
            "type": "heatmapgl"
           }
          ],
          "histogram": [
           {
            "marker": {
             "pattern": {
              "fillmode": "overlay",
              "size": 10,
              "solidity": 0.2
             }
            },
            "type": "histogram"
           }
          ],
          "histogram2d": [
           {
            "colorbar": {
             "outlinewidth": 0,
             "ticks": ""
            },
            "colorscale": [
             [
              0,
              "#0d0887"
             ],
             [
              0.1111111111111111,
              "#46039f"
             ],
             [
              0.2222222222222222,
              "#7201a8"
             ],
             [
              0.3333333333333333,
              "#9c179e"
             ],
             [
              0.4444444444444444,
              "#bd3786"
             ],
             [
              0.5555555555555556,
              "#d8576b"
             ],
             [
              0.6666666666666666,
              "#ed7953"
             ],
             [
              0.7777777777777778,
              "#fb9f3a"
             ],
             [
              0.8888888888888888,
              "#fdca26"
             ],
             [
              1,
              "#f0f921"
             ]
            ],
            "type": "histogram2d"
           }
          ],
          "histogram2dcontour": [
           {
            "colorbar": {
             "outlinewidth": 0,
             "ticks": ""
            },
            "colorscale": [
             [
              0,
              "#0d0887"
             ],
             [
              0.1111111111111111,
              "#46039f"
             ],
             [
              0.2222222222222222,
              "#7201a8"
             ],
             [
              0.3333333333333333,
              "#9c179e"
             ],
             [
              0.4444444444444444,
              "#bd3786"
             ],
             [
              0.5555555555555556,
              "#d8576b"
             ],
             [
              0.6666666666666666,
              "#ed7953"
             ],
             [
              0.7777777777777778,
              "#fb9f3a"
             ],
             [
              0.8888888888888888,
              "#fdca26"
             ],
             [
              1,
              "#f0f921"
             ]
            ],
            "type": "histogram2dcontour"
           }
          ],
          "mesh3d": [
           {
            "colorbar": {
             "outlinewidth": 0,
             "ticks": ""
            },
            "type": "mesh3d"
           }
          ],
          "parcoords": [
           {
            "line": {
             "colorbar": {
              "outlinewidth": 0,
              "ticks": ""
             }
            },
            "type": "parcoords"
           }
          ],
          "pie": [
           {
            "automargin": true,
            "type": "pie"
           }
          ],
          "scatter": [
           {
            "fillpattern": {
             "fillmode": "overlay",
             "size": 10,
             "solidity": 0.2
            },
            "type": "scatter"
           }
          ],
          "scatter3d": [
           {
            "line": {
             "colorbar": {
              "outlinewidth": 0,
              "ticks": ""
             }
            },
            "marker": {
             "colorbar": {
              "outlinewidth": 0,
              "ticks": ""
             }
            },
            "type": "scatter3d"
           }
          ],
          "scattercarpet": [
           {
            "marker": {
             "colorbar": {
              "outlinewidth": 0,
              "ticks": ""
             }
            },
            "type": "scattercarpet"
           }
          ],
          "scattergeo": [
           {
            "marker": {
             "colorbar": {
              "outlinewidth": 0,
              "ticks": ""
             }
            },
            "type": "scattergeo"
           }
          ],
          "scattergl": [
           {
            "marker": {
             "colorbar": {
              "outlinewidth": 0,
              "ticks": ""
             }
            },
            "type": "scattergl"
           }
          ],
          "scattermapbox": [
           {
            "marker": {
             "colorbar": {
              "outlinewidth": 0,
              "ticks": ""
             }
            },
            "type": "scattermapbox"
           }
          ],
          "scatterpolar": [
           {
            "marker": {
             "colorbar": {
              "outlinewidth": 0,
              "ticks": ""
             }
            },
            "type": "scatterpolar"
           }
          ],
          "scatterpolargl": [
           {
            "marker": {
             "colorbar": {
              "outlinewidth": 0,
              "ticks": ""
             }
            },
            "type": "scatterpolargl"
           }
          ],
          "scatterternary": [
           {
            "marker": {
             "colorbar": {
              "outlinewidth": 0,
              "ticks": ""
             }
            },
            "type": "scatterternary"
           }
          ],
          "surface": [
           {
            "colorbar": {
             "outlinewidth": 0,
             "ticks": ""
            },
            "colorscale": [
             [
              0,
              "#0d0887"
             ],
             [
              0.1111111111111111,
              "#46039f"
             ],
             [
              0.2222222222222222,
              "#7201a8"
             ],
             [
              0.3333333333333333,
              "#9c179e"
             ],
             [
              0.4444444444444444,
              "#bd3786"
             ],
             [
              0.5555555555555556,
              "#d8576b"
             ],
             [
              0.6666666666666666,
              "#ed7953"
             ],
             [
              0.7777777777777778,
              "#fb9f3a"
             ],
             [
              0.8888888888888888,
              "#fdca26"
             ],
             [
              1,
              "#f0f921"
             ]
            ],
            "type": "surface"
           }
          ],
          "table": [
           {
            "cells": {
             "fill": {
              "color": "#EBF0F8"
             },
             "line": {
              "color": "white"
             }
            },
            "header": {
             "fill": {
              "color": "#C8D4E3"
             },
             "line": {
              "color": "white"
             }
            },
            "type": "table"
           }
          ]
         },
         "layout": {
          "annotationdefaults": {
           "arrowcolor": "#2a3f5f",
           "arrowhead": 0,
           "arrowwidth": 1
          },
          "autotypenumbers": "strict",
          "coloraxis": {
           "colorbar": {
            "outlinewidth": 0,
            "ticks": ""
           }
          },
          "colorscale": {
           "diverging": [
            [
             0,
             "#8e0152"
            ],
            [
             0.1,
             "#c51b7d"
            ],
            [
             0.2,
             "#de77ae"
            ],
            [
             0.3,
             "#f1b6da"
            ],
            [
             0.4,
             "#fde0ef"
            ],
            [
             0.5,
             "#f7f7f7"
            ],
            [
             0.6,
             "#e6f5d0"
            ],
            [
             0.7,
             "#b8e186"
            ],
            [
             0.8,
             "#7fbc41"
            ],
            [
             0.9,
             "#4d9221"
            ],
            [
             1,
             "#276419"
            ]
           ],
           "sequential": [
            [
             0,
             "#0d0887"
            ],
            [
             0.1111111111111111,
             "#46039f"
            ],
            [
             0.2222222222222222,
             "#7201a8"
            ],
            [
             0.3333333333333333,
             "#9c179e"
            ],
            [
             0.4444444444444444,
             "#bd3786"
            ],
            [
             0.5555555555555556,
             "#d8576b"
            ],
            [
             0.6666666666666666,
             "#ed7953"
            ],
            [
             0.7777777777777778,
             "#fb9f3a"
            ],
            [
             0.8888888888888888,
             "#fdca26"
            ],
            [
             1,
             "#f0f921"
            ]
           ],
           "sequentialminus": [
            [
             0,
             "#0d0887"
            ],
            [
             0.1111111111111111,
             "#46039f"
            ],
            [
             0.2222222222222222,
             "#7201a8"
            ],
            [
             0.3333333333333333,
             "#9c179e"
            ],
            [
             0.4444444444444444,
             "#bd3786"
            ],
            [
             0.5555555555555556,
             "#d8576b"
            ],
            [
             0.6666666666666666,
             "#ed7953"
            ],
            [
             0.7777777777777778,
             "#fb9f3a"
            ],
            [
             0.8888888888888888,
             "#fdca26"
            ],
            [
             1,
             "#f0f921"
            ]
           ]
          },
          "colorway": [
           "#636efa",
           "#EF553B",
           "#00cc96",
           "#ab63fa",
           "#FFA15A",
           "#19d3f3",
           "#FF6692",
           "#B6E880",
           "#FF97FF",
           "#FECB52"
          ],
          "font": {
           "color": "#2a3f5f"
          },
          "geo": {
           "bgcolor": "white",
           "lakecolor": "white",
           "landcolor": "#E5ECF6",
           "showlakes": true,
           "showland": true,
           "subunitcolor": "white"
          },
          "hoverlabel": {
           "align": "left"
          },
          "hovermode": "closest",
          "mapbox": {
           "style": "light"
          },
          "paper_bgcolor": "white",
          "plot_bgcolor": "#E5ECF6",
          "polar": {
           "angularaxis": {
            "gridcolor": "white",
            "linecolor": "white",
            "ticks": ""
           },
           "bgcolor": "#E5ECF6",
           "radialaxis": {
            "gridcolor": "white",
            "linecolor": "white",
            "ticks": ""
           }
          },
          "scene": {
           "xaxis": {
            "backgroundcolor": "#E5ECF6",
            "gridcolor": "white",
            "gridwidth": 2,
            "linecolor": "white",
            "showbackground": true,
            "ticks": "",
            "zerolinecolor": "white"
           },
           "yaxis": {
            "backgroundcolor": "#E5ECF6",
            "gridcolor": "white",
            "gridwidth": 2,
            "linecolor": "white",
            "showbackground": true,
            "ticks": "",
            "zerolinecolor": "white"
           },
           "zaxis": {
            "backgroundcolor": "#E5ECF6",
            "gridcolor": "white",
            "gridwidth": 2,
            "linecolor": "white",
            "showbackground": true,
            "ticks": "",
            "zerolinecolor": "white"
           }
          },
          "shapedefaults": {
           "line": {
            "color": "#2a3f5f"
           }
          },
          "ternary": {
           "aaxis": {
            "gridcolor": "white",
            "linecolor": "white",
            "ticks": ""
           },
           "baxis": {
            "gridcolor": "white",
            "linecolor": "white",
            "ticks": ""
           },
           "bgcolor": "#E5ECF6",
           "caxis": {
            "gridcolor": "white",
            "linecolor": "white",
            "ticks": ""
           }
          },
          "title": {
           "x": 0.05
          },
          "xaxis": {
           "automargin": true,
           "gridcolor": "white",
           "linecolor": "white",
           "ticks": "",
           "title": {
            "standoff": 15
           },
           "zerolinecolor": "white",
           "zerolinewidth": 2
          },
          "yaxis": {
           "automargin": true,
           "gridcolor": "white",
           "linecolor": "white",
           "ticks": "",
           "title": {
            "standoff": 15
           },
           "zerolinecolor": "white",
           "zerolinewidth": 2
          }
         }
        },
        "xaxis": {
         "anchor": "y",
         "domain": [
          0,
          1
         ],
         "title": {
          "text": "price_usd"
         },
         "type": "log"
        },
        "yaxis": {
         "anchor": "x",
         "domain": [
          0,
          1
         ],
         "title": {
          "text": "profit_percentage"
         }
        }
       }
      }
     },
     "metadata": {},
     "output_type": "display_data"
    }
   ],
   "source": [
    "fig = px.scatter(bottom_profit_margins, \n",
    "                 x=\"price_usd\",\n",
    "                 y=\"profit_percentage\",\n",
    "                 size=\"seller_earning\",  # Size of the bubbles\n",
    "                 color=\"product_season\",    # Color of the bubbles\n",
    "                 hover_name=\"product_name\", # Hover information\n",
    "                 log_x=True,                # Log scale for x-axis\n",
    "                 size_max=60)               # Maximum size of the bubbles\n",
    "\n",
    "# Display the chart\n",
    "fig.show()"
   ]
  },
  {
   "cell_type": "markdown",
   "metadata": {},
   "source": [
    "# TEST CODE #"
   ]
  },
  {
   "cell_type": "code",
   "execution_count": null,
   "metadata": {},
   "outputs": [],
   "source": [
    "np.random.seed(1)\n",
    "\n",
    "x = np.random.rand(100)\n",
    "y = np.random.rand(100)\n",
    "\n",
    "f = go.FigureWidget([go.Scatter(x=x, y=y, mode='markers')])\n",
    "\n",
    "scatter = f.data[0]\n",
    "colors = ['#a3a7e4'] * 100\n",
    "scatter.marker.color = colors\n",
    "scatter.marker.size = [10] * 100\n",
    "f.layout.hovermode = 'closest'\n",
    "\n",
    "\n",
    "# create our callback function\n",
    "def update_point(trace, points, selector):\n",
    "    c = list(scatter.marker.color)\n",
    "    s = list(scatter.marker.size)\n",
    "    for i in points.point_inds:\n",
    "        c[i] = '#bae2be'\n",
    "        s[i] = 20\n",
    "        with f.batch_update():\n",
    "            scatter.marker.color = c\n",
    "            scatter.marker.size = s\n",
    "\n",
    "\n",
    "scatter.on_click(update_point)\n",
    "\n",
    "f"
   ]
  },
  {
   "cell_type": "code",
   "execution_count": null,
   "metadata": {},
   "outputs": [],
   "source": [
    "# Initialize figure\n",
    "fig = go.Figure()\n",
    "\n",
    "# Add Traces\n",
    "\n",
    "fig.add_trace(\n",
    "    go.Scatter(x=list(df.Date),\n",
    "               y=list(df.High),\n",
    "               name=\"High\",\n",
    "               line=dict(color=\"#33CFA5\")))\n",
    "\n",
    "fig.add_trace(\n",
    "    go.Scatter(x=list(df.Date),\n",
    "               y=[df.High.mean()] * len(df.index),\n",
    "               name=\"High Average\",\n",
    "               visible=False,\n",
    "               line=dict(color=\"#33CFA5\", dash=\"dash\")))\n",
    "\n",
    "fig.add_trace(\n",
    "    go.Scatter(x=list(df.Date),\n",
    "               y=list(df.Low),\n",
    "               name=\"Low\",\n",
    "               line=dict(color=\"#F06A6A\")))\n",
    "\n",
    "fig.add_trace(\n",
    "    go.Scatter(x=list(df.Date),\n",
    "               y=[df.Low.mean()] * len(df.index),\n",
    "               name=\"Low Average\",\n",
    "               visible=False,\n",
    "               line=dict(color=\"#F06A6A\", dash=\"dash\")))\n",
    "\n",
    "# Add Annotations and Buttons\n",
    "high_annotations = [dict(x=\"2016-03-01\",\n",
    "                         y=df.High.mean(),\n",
    "                         xref=\"x\", yref=\"y\",\n",
    "                         text=\"High Average:<br> %.3f\" % df.High.mean(),\n",
    "                         ax=0, ay=-40),\n",
    "                    dict(x=df.Date[df.High.idxmax()],\n",
    "                         y=df.High.max(),\n",
    "                         xref=\"x\", yref=\"y\",\n",
    "                         text=\"High Max:<br> %.3f\" % df.High.max(),\n",
    "                         ax=-40, ay=-40)]\n",
    "low_annotations = [dict(x=\"2015-05-01\",\n",
    "                        y=df.Low.mean(),\n",
    "                        xref=\"x\", yref=\"y\",\n",
    "                        text=\"Low Average:<br> %.3f\" % df.Low.mean(),\n",
    "                        ax=0, ay=40),\n",
    "                   dict(x=df.Date[df.High.idxmin()],\n",
    "                        y=df.Low.min(),\n",
    "                        xref=\"x\", yref=\"y\",\n",
    "                        text=\"Low Min:<br> %.3f\" % df.Low.min(),\n",
    "                        ax=0, ay=40)]\n",
    "\n",
    "fig.update_layout(\n",
    "    updatemenus=[\n",
    "        dict(\n",
    "            active=0,\n",
    "            buttons=list([\n",
    "                dict(label=\"None\",\n",
    "                     method=\"update\",\n",
    "                     args=[{\"visible\": [True, False, True, False]},\n",
    "                           {\"title\": \"Yahoo\",\n",
    "                            \"annotations\": []}]),\n",
    "                dict(label=\"High\",\n",
    "                     method=\"update\",\n",
    "                     args=[{\"visible\": [True, True, False, False]},\n",
    "                           {\"title\": \"Yahoo High\",\n",
    "                            \"annotations\": high_annotations}]),\n",
    "                dict(label=\"Low\",\n",
    "                     method=\"update\",\n",
    "                     args=[{\"visible\": [False, False, True, True]},\n",
    "                           {\"title\": \"Yahoo Low\",\n",
    "                            \"annotations\": low_annotations}]),\n",
    "                dict(label=\"Both\",\n",
    "                     method=\"update\",\n",
    "                     args=[{\"visible\": [True, True, True, True]},\n",
    "                           {\"title\": \"Yahoo\",\n",
    "                            \"annotations\": high_annotations + low_annotations}]),\n",
    "            ]),\n",
    "        )\n",
    "    ])\n",
    "\n",
    "# Set title\n",
    "fig.update_layout(title_text=\"Yahoo\")\n",
    "\n",
    "fig.show()"
   ]
  },
  {
   "cell_type": "code",
   "execution_count": null,
   "metadata": {},
   "outputs": [
    {
     "data": {
      "text/plain": [
       "2383250.3200000003"
      ]
     },
     "execution_count": 82,
     "metadata": {},
     "output_type": "execute_result"
    }
   ],
   "source": [
    "total_seller_earnings = vestiaire_clean['seller_earning'].sum()\n",
    "total_seller_earnings"
   ]
  },
  {
   "cell_type": "code",
   "execution_count": null,
   "metadata": {},
   "outputs": [
    {
     "data": {
      "text/plain": [
       "seller_id\n",
       "48600       19384.19\n",
       "12698884    15527.04\n",
       "1161554     10566.64\n",
       "14639016     9794.70\n",
       "16059674     9063.15\n",
       "Name: seller_earning, dtype: float64"
      ]
     },
     "execution_count": 85,
     "metadata": {},
     "output_type": "execute_result"
    }
   ],
   "source": [
    "top_sellers = vestiaire_clean.groupby('seller_id')['seller_earning'].sum().sort_values(ascending=False)\n",
    "top_sellers.head()"
   ]
  },
  {
   "cell_type": "code",
   "execution_count": null,
   "metadata": {},
   "outputs": [],
   "source": []
  },
  {
   "cell_type": "code",
   "execution_count": null,
   "metadata": {},
   "outputs": [],
   "source": [
    "#Key columns seller_id, seller earnings,\n",
    "fig_top_market_share = vestiaire_clean[''].value_counts()\n",
    "\n",
    "fig_top_market_share = go.Figure(data=[go.Pie(labels=gender_count.index, values=gender_count.values, \n",
    "                             hoverinfo='label+value', textinfo='percent',\n",
    "                             textfont_size=20, marker=dict( \n",
    "                             line=dict(color='#000000', width=2)))])\n",
    "\n",
    "fig_gender.update_layout(title_text='Gender Distribution of Buyers', title_font_size=24)"
   ]
  }
 ],
 "metadata": {
  "kernelspec": {
   "display_name": "activities",
   "language": "python",
   "name": "python3"
  },
  "language_info": {
   "codemirror_mode": {
    "name": "ipython",
    "version": 3
   },
   "file_extension": ".py",
   "mimetype": "text/x-python",
   "name": "python",
   "nbconvert_exporter": "python",
   "pygments_lexer": "ipython3",
   "version": "3.12.3"
  }
 },
 "nbformat": 4,
 "nbformat_minor": 2
}
